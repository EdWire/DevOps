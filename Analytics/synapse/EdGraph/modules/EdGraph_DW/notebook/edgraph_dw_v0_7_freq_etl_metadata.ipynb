{
    "nbformat": 4,
    "nbformat_minor": 2,
    "metadata": {
        "save_output": true,
        "language_info": {
            "name": "python"
        }
    },
    "cells": [
        {
            "execution_count": 101,
            "cell_type": "code",
            "metadata": {
                "jupyter": {
                    "source_hidden": false,
                    "outputs_hidden": false
                },
                "nteract": {
                    "transient": {
                        "deleting": false
                    }
                }
            },
            "source": [
                "import pandas as pd\r\n",
                "from notebookutils import mssparkutils\r\n",
                "from io import StringIO"
            ],
            "outputs": []
        },
        {
            "cell_type": "markdown",
            "metadata": {
                "nteract": {
                    "transient": {
                        "deleting": false
                    }
                }
            },
            "source": [
                "### OEA Initializations"
            ],
            "outputs": []
        },
        {
            "execution_count": 102,
            "cell_type": "code",
            "metadata": {
                "jupyter": {
                    "source_hidden": false,
                    "outputs_hidden": false
                },
                "nteract": {
                    "transient": {
                        "deleting": false
                    }
                }
            },
            "source": [
                "%run OEA/modules/Ed-Fi/v0.8/src/utilities/edfi_v0_8_edfi_py"
            ],
            "outputs": []
        },
        {
            "execution_count": 103,
            "cell_type": "code",
            "metadata": {
                "jupyter": {
                    "source_hidden": false,
                    "outputs_hidden": false
                },
                "nteract": {
                    "transient": {
                        "deleting": false
                    }
                }
            },
            "source": [
                "oea = EdFiOEAChild()   \r\n",
                "oea.set_workspace(workspace)"
            ],
            "outputs": []
        },
        {
            "cell_type": "markdown",
            "metadata": {
                "nteract": {
                    "transient": {
                        "deleting": false
                    }
                }
            },
            "source": [
                "### Frequency Based ETL Metadata"
            ],
            "outputs": []
        },
        {
            "execution_count": 109,
            "cell_type": "code",
            "metadata": {
                "jupyter": {
                    "source_hidden": false,
                    "outputs_hidden": false
                },
                "nteract": {
                    "transient": {
                        "deleting": false
                    }
                }
            },
            "source": [
                "dbo_tables = ['DimAcademicSubject',\r\n",
                " 'DimAssessment',\r\n",
                " 'DimAssessmentAcademicSubject',\r\n",
                " 'DimAssessmentAssessedGradeLevel',\r\n",
                " 'DimAssessmentCategory',\r\n",
                " 'DimAssessmentItem',\r\n",
                " 'DimAssessmentPeriod',\r\n",
                " 'DimAssessmentItemCategory',\r\n",
                " 'DimAssessmentItemResult',\r\n",
                " 'DimAssessmentPerformanceLevel',\r\n",
                " 'DimAssessmentReportingMethod',\r\n",
                " 'DimAssessmentSection',\r\n",
                " 'DimAttendanceEventCategory',\r\n",
                " 'DimBehavior',\r\n",
                " 'DimCTEProgramService',\r\n",
                " 'DimCalendarEventType',\r\n",
                " 'DimCareerPathway',\r\n",
                " 'DimClassPeriod',\r\n",
                " 'DimClassroomPosition',\r\n",
                " 'DimCohort',\r\n",
                " 'DimContinuationOfServicesReason',\r\n",
                " 'DimCourse',\r\n",
                " 'DimCourseOffering',\r\n",
                " 'DimDate',\r\n",
                " 'DimDisability',\r\n",
                " 'DimDisabilityDesignation',\r\n",
                " 'DimDisabilityDeterminationSourceType',\r\n",
                " 'DimDiscipline',\r\n",
                " 'DimDisciplineIncident',\r\n",
                " 'DimELAProgressLevel',\r\n",
                " 'DimEducationOrganization',\r\n",
                " 'DimEducationalEnvironment',\r\n",
                " 'DimEntryGradeLevelReason',\r\n",
                " 'DimEntryType',\r\n",
                " 'DimFoodProgramService',\r\n",
                " 'DimGradeLevel',\r\n",
                " 'DimGradeType',\r\n",
                " 'DimGradingPeriod',\r\n",
                " 'DimGraduationPlan',\r\n",
                " 'DimHomelessPrimaryNighttimeResidence',\r\n",
                " 'DimHomelessProgramService',\r\n",
                " 'DimIncidentLocationType',\r\n",
                " 'DimLanguage',\r\n",
                " 'DimLanguageInstructionProgramService',\r\n",
                " 'DimLearningStandard',\r\n",
                " 'DimLocalEducationAgency',\r\n",
                " 'DimLocation',\r\n",
                " 'DimMathematicsProgressLevel',\r\n",
                " 'DimMigrantEducationProgramService',\r\n",
                " 'DimMonitored',\r\n",
                " 'DimNeglectedOrDelinquentProgram',\r\n",
                " 'DimNeglectedOrDelinquentProgramService',\r\n",
                " 'DimObjectiveAssessment',\r\n",
                " 'DimObjectiveAssessmentPerformanceLevel',\r\n",
                " 'DimParticipation',\r\n",
                " 'DimPerformanceLevel',\r\n",
                " 'DimProficiency',\r\n",
                " 'DimProgram',\r\n",
                " 'DimProgress',\r\n",
                " 'DimReasonExited',\r\n",
                " 'DimReporterDescription',\r\n",
                " 'DimResidencyStatus',\r\n",
                " 'DimResponseIndicator',\r\n",
                " 'DimResultDataType',\r\n",
                " 'DimSchool',\r\n",
                " 'DimSchoolYear',\r\n",
                " 'DimSection',\r\n",
                " 'DimService',\r\n",
                " 'DimSession',\r\n",
                " 'DimSpecialEducationProgramService',\r\n",
                " 'DimSpecialEducationSetting',\r\n",
                " 'DimStaff',\r\n",
                " 'DimStaffClassification',\r\n",
                " 'DimStaffRace',\r\n",
                " 'DimStudent',\r\n",
                " 'DimStudentCharacteristic',\r\n",
                " 'DimStudentParticipationCodeType',\r\n",
                " 'DimStudentRace',\r\n",
                " 'DimTechnicalSkillsAssessment',\r\n",
                " 'DimTerm',\r\n",
                " 'DimTitleIPartAParticipant',\r\n",
                " 'DimTitleIPartAProgramService',\r\n",
                " 'DimWeapon',\r\n",
                " 'EducationOrganization',\r\n",
                " 'EducationOrganizationAddress',\r\n",
                " 'EducationOrganizationAddressPeriod',\r\n",
                " 'EducationOrganizationCategories',\r\n",
                " 'EducationOrganizationinstitutiontelephone',\r\n",
                " 'FactEnrollment',\r\n",
                " 'FactFeederSchool',\r\n",
                " 'FactSchoolAttendance',\r\n",
                " 'FactSchoolEnrollment',\r\n",
                " 'FactSectionAttendance',\r\n",
                " 'FactSectionEnrollment',\r\n",
                " 'FactSectionGrade',\r\n",
                " 'FactStaffAssignment',\r\n",
                " 'FactStudentAssessment',\r\n",
                " 'FactStudentAssessmentItemScore',\r\n",
                " 'FactStudentAssessmentPerformance',\r\n",
                " 'FactStudentAssessmentScore',\r\n",
                " 'FactStudentCTEProgram',\r\n",
                " 'FactStudentCharacteristics',\r\n",
                " 'FactStudentCohort',\r\n",
                " 'FactStudentDisability',\r\n",
                " 'FactStudentDisciplineAction',\r\n",
                " 'FactStudentDisciplineIncident',\r\n",
                " 'FactStudentHomelessProgram',\r\n",
                " 'FactStudentLanguageInstructionProgram',\r\n",
                " 'FactStudentMigrantEducationProgram',\r\n",
                " 'FactStudentNeglectedOrDelinquentProgram',\r\n",
                " 'FactStudentObjectiveAssessmentPerformance',\r\n",
                " 'FactStudentObjectiveAssessmentScore',\r\n",
                " 'FactStudentProgram',\r\n",
                " 'FactStudentSchoolFoodServiceProgram',\r\n",
                " 'FactStudentSpecialEducationProgram',\r\n",
                " 'FactStudentTitleIPartAProgram']\r\n",
                "\r\n",
                "config_tables = ['Descriptor',\r\n",
                " 'DescriptorConstant',\r\n",
                " 'DescriptorMap',\r\n",
                " 'ExecutionAudit',\r\n",
                " 'ExecutionDuration',\r\n",
                " 'ExplicitStudentDataAuthorization',\r\n",
                " 'Goals',\r\n",
                " 'Parameter']\r\n",
                "\r\n",
                "auth_tables = ['DataAuthorization', 'ExplicitStudentDataAuthorization', 'User']"
            ],
            "outputs": []
        },
        {
            "execution_count": 110,
            "cell_type": "code",
            "metadata": {
                "jupyter": {
                    "source_hidden": false,
                    "outputs_hidden": false
                },
                "nteract": {
                    "transient": {
                        "deleting": false
                    }
                }
            },
            "source": [
                "low_frequency_tables = [\r\n",
                "    \"DimAcademicSubject\",\r\n",
                "    \"DimAssessmentCategory\",\r\n",
                "    \"DimAssessmentItemCategory\",\r\n",
                "    \"DimAssessmentItemResult\",\r\n",
                "    \"DimAssessmentReportingMethod\",\r\n",
                "    \"DimAttendanceEventCategory\",\r\n",
                "    \"DimBehavior\",\r\n",
                "    \"DimCTEProgramService\",\r\n",
                "    \"DimCalendarEventType\",\r\n",
                "    \"DimCareerPathway\",\r\n",
                "    \"DimClassroomPosition\",\r\n",
                "    \"DimContinuationOfServicesReason\",\r\n",
                "    \"DimDate\",\r\n",
                "    \"DimDisability\",\r\n",
                "    \"DimDisabilityDesignation\",\r\n",
                "    \"DimDisabilityDeterminationSourceType\",\r\n",
                "    \"DimDiscipline\",\r\n",
                "    \"DimELAProgressLevel\",\r\n",
                "    \"DimEducationalEnvironment\",\r\n",
                "    \"DimEntryGradeLevelReason\",\r\n",
                "    \"DimEntryType\",\r\n",
                "    \"DimFoodProgramService\",\r\n",
                "    \"DimGradeLevel\",\r\n",
                "    \"DimGradeType\",\r\n",
                "    \"DimHomelessPrimaryNighttimeResidence\",\r\n",
                "    \"DimHomelessProgramService\",\r\n",
                "    \"DimIncidentLocationType\",\r\n",
                "    \"DimLanguage\",\r\n",
                "    \"DimLanguageInstructionProgramService\",\r\n",
                "    \"DimMathematicsProgressLevel\",\r\n",
                "    \"DimMigrantEducationProgramService\",\r\n",
                "    \"DimMonitored\",\r\n",
                "    \"DimNeglectedOrDelinquentProgram\",\r\n",
                "    \"DimNeglectedOrDelinquentProgramService\",\r\n",
                "    \"DimParticipation\",\r\n",
                "    \"DimPerformanceLevel\",\r\n",
                "    \"DimProficiency\",\r\n",
                "    \"DimProgress\",\r\n",
                "    \"DimReasonExited\",\r\n",
                "    \"DimReporterDescription\",\r\n",
                "    \"DimResidencyStatus\",\r\n",
                "    \"DimResponseIndicator\",\r\n",
                "    \"DimResultDataType\",\r\n",
                "    \"DimSchoolYear\",\r\n",
                "    \"DimService\",\r\n",
                "    \"DimSpecialEducationProgramService\",\r\n",
                "    \"DimSpecialEducationSetting\",\r\n",
                "    \"DimStaffClassification\",\r\n",
                "    \"DimStudentCharacteristic\",\r\n",
                "    \"DimStudentParticipationCodeType\",\r\n",
                "    \"DimTechnicalSkillsAssessment\",\r\n",
                "    \"DimTerm\",\r\n",
                "    \"DimTitleIPartAParticipant\",\r\n",
                "    \"DimTitleIPartAProgramService\",\r\n",
                "    \"DimWeapon\",\r\n",
                "    \"Descriptor\",\r\n",
                "    \"DescriptorConstant\",\r\n",
                "    \"DescriptorMap\",\r\n",
                "    \"ExecutionAudit\",\r\n",
                "    \"ExecutionDuration\",\r\n",
                "    \"ExplicitStudentDataAuthorization\",\r\n",
                "    \"Goals\",\r\n",
                "    \"Parameter\"\r\n",
                "]\r\n",
                ""
            ],
            "outputs": []
        },
        {
            "execution_count": 111,
            "cell_type": "code",
            "metadata": {
                "jupyter": {
                    "source_hidden": false,
                    "outputs_hidden": false
                },
                "nteract": {
                    "transient": {
                        "deleting": false
                    }
                }
            },
            "source": [
                "tables=dbo_tables+auth_tables+config_tables\r\n",
                "len(tables)"
            ],
            "outputs": []
        },
        {
            "execution_count": 112,
            "cell_type": "code",
            "metadata": {
                "jupyter": {
                    "source_hidden": false,
                    "outputs_hidden": false
                },
                "nteract": {
                    "transient": {
                        "deleting": false
                    }
                }
            },
            "source": [
                "frequency_assignments = [\"high\" if item not in low_frequency_tables else \"low\" for item in tables]"
            ],
            "outputs": []
        },
        {
            "execution_count": 113,
            "cell_type": "code",
            "metadata": {
                "jupyter": {
                    "source_hidden": false,
                    "outputs_hidden": false
                },
                "nteract": {
                    "transient": {
                        "deleting": false
                    }
                }
            },
            "source": [
                "entity_frequency_lookup = dict()\r\n",
                "\r\n",
                "entity_frequency_lookup['resource_full_name'] = tables\r\n",
                "entity_frequency_lookup['resource_frequency_code'] = frequency_assignments\r\n",
                "entity_frequency_lookup['lastrundatetime'] =[[] for i in range(len(tables))]\r\n",
                "entity_frequency_lookup['lastrundate'] =[[] for i in range(len(tables))]"
            ],
            "outputs": []
        },
        {
            "execution_count": 115,
            "cell_type": "code",
            "metadata": {
                "jupyter": {
                    "source_hidden": false,
                    "outputs_hidden": false
                },
                "nteract": {
                    "transient": {
                        "deleting": false
                    }
                }
            },
            "source": [
                "from datetime import datetime"
            ],
            "outputs": []
        },
        {
            "execution_count": 116,
            "cell_type": "code",
            "metadata": {
                "jupyter": {
                    "source_hidden": false,
                    "outputs_hidden": false
                },
                "nteract": {
                    "transient": {
                        "deleting": false
                    }
                }
            },
            "source": [
                "datetime_placeholder = datetime.today() - timedelta(days = 365)"
            ],
            "outputs": []
        },
        {
            "execution_count": 118,
            "cell_type": "code",
            "metadata": {
                "jupyter": {
                    "source_hidden": false,
                    "outputs_hidden": false
                },
                "nteract": {
                    "transient": {
                        "deleting": false
                    }
                }
            },
            "source": [
                "for index, entity_info in enumerate(entity_frequency_lookup['resource_full_name']):\r\n",
                "    frequency_code = entity_frequency_lookup['resource_frequency_code'][index]\r\n",
                "\r\n",
                "    if frequency_code == \"low\":\r\n",
                "        datetime_oneYearBefore = datetime_placeholder - timedelta(days=360)\r\n",
                "        entity_frequency_lookup['lastrundatetime'][index]=datetime_oneYearBefore\r\n",
                "        entity_frequency_lookup['lastrundate'][index]=datetime_oneYearBefore.date()\r\n",
                "\r\n",
                "    elif frequency_code == \"high\":\r\n",
                "        entity_frequency_lookup['lastrundatetime'][index]=datetime_placeholder\r\n",
                "        entity_frequency_lookup['lastrundate'][index]=datetime_placeholder.date()\r\n",
                ""
            ],
            "outputs": []
        },
        {
            "execution_count": 119,
            "cell_type": "code",
            "metadata": {
                "jupyter": {
                    "source_hidden": false,
                    "outputs_hidden": false
                },
                "nteract": {
                    "transient": {
                        "deleting": false
                    }
                }
            },
            "source": [
                "df=pd.DataFrame(entity_frequency_lookup)"
            ],
            "outputs": []
        },
        {
            "execution_count": 121,
            "cell_type": "code",
            "metadata": {
                "jupyter": {
                    "source_hidden": false,
                    "outputs_hidden": false
                },
                "nteract": {
                    "transient": {
                        "deleting": false
                    }
                }
            },
            "source": [
                "destination_path = f'stage1/Transactional/Ed-Fi/{apiVersion}/DistrictId={districtId}/SchoolYear={schoolYear}/metadata-assets/edgraph_frequency_etl.csv'\r\n",
                "\r\n",
                "entity_frequency_lookup_df = pd.DataFrame(entity_frequency_lookup)\r\n",
                "data_str = entity_frequency_lookup_df.to_csv(index=False) \r\n",
                "destination_url = oea.to_url(destination_path)\r\n",
                "mssparkutils.fs.put(destination_url, data_str, True)  "
            ],
            "outputs": []
        }
    ]
}