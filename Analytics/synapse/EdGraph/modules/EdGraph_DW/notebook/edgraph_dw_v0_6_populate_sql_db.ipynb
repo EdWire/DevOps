{
    "nbformat": 4,
    "nbformat_minor": 2,
    "metadata": {
        "save_output": true,
        "kernelspec": {
            "name": "synapse_pyspark",
            "display_name": "Synapse PySpark"
        },
        "language_info": {
            "name": "python"
        }
    },
    "cells": [
        {
            "execution_count": 4,
            "cell_type": "code",
            "metadata": {
                "jupyter": {
                    "source_hidden": false,
                    "outputs_hidden": false
                },
                "nteract": {
                    "transient": {
                        "deleting": false
                    }
                }
            },
            "source": [
                "server_name = sql_db_server_name"
            ],
            "outputs": []
        },
        {
            "cell_type": "markdown",
            "metadata": {
                "nteract": {
                    "transient": {
                        "deleting": false
                    }
                }
            },
            "source": [
                "### Initializations"
            ],
            "outputs": []
        },
        {
            "execution_count": 5,
            "cell_type": "code",
            "metadata": {
                "jupyter": {
                    "source_hidden": false,
                    "outputs_hidden": false
                },
                "nteract": {
                    "transient": {
                        "deleting": false
                    }
                }
            },
            "source": [
                "import pyodbc\r\n",
                "import os\r\n",
                "import json\r\n",
                "\r\n",
                "import pandas as pd\r\n",
                "import urllib.parse\r\n",
                "import logging\r\n",
                "from datetime import datetime"
            ],
            "outputs": []
        },
        {
            "execution_count": 6,
            "cell_type": "code",
            "source": [
                "%run OEA/modules/Ed-Fi/v0.7/src/utilities/edfi_v0_7_edfi_py"
            ],
            "outputs": []
        },
        {
            "execution_count": 8,
            "cell_type": "code",
            "metadata": {
                "jupyter": {
                    "source_hidden": false,
                    "outputs_hidden": false
                },
                "nteract": {
                    "transient": {
                        "deleting": false
                    }
                }
            },
            "source": [
                "%run EdGraph/modules/EdGraph_DW/v0.6/src/utilities/edgraph_dw_v0_6_dw_builder"
            ],
            "outputs": []
        },
        {
            "execution_count": 9,
            "cell_type": "code",
            "metadata": {
                "jupyter": {
                    "source_hidden": false,
                    "outputs_hidden": false
                },
                "nteract": {
                    "transient": {
                        "deleting": false
                    }
                }
            },
            "source": [
                "from datetime import datetime\r\n",
                "oea = EdFiOEAChild()   \r\n",
                "try:       \r\n",
                "    edfi = EdFiClient(workspace, \r\n",
                "                      kvName, \r\n",
                "                      moduleName, \r\n",
                "                      authUrl, \r\n",
                "                      dataManagementUrl, \r\n",
                "                      changeQueriesUrl, \r\n",
                "                      dependenciesUrl, \r\n",
                "                      apiVersion, \r\n",
                "                      batchLimit, \r\n",
                "                      minChangeVer, \r\n",
                "                      maxChangeVer)\r\n",
                "except:\r\n",
                "    pass"
            ],
            "outputs": []
        },
        {
            "cell_type": "markdown",
            "metadata": {
                "nteract": {
                    "transient": {
                        "deleting": false
                    }
                }
            },
            "source": [
                "### Global Parameters"
            ],
            "outputs": []
        },
        {
            "execution_count": 10,
            "cell_type": "code",
            "metadata": {
                "jupyter": {
                    "source_hidden": false,
                    "outputs_hidden": false
                },
                "nteract": {
                    "transient": {
                        "deleting": false
                    }
                }
            },
            "source": [
                "def assign_default_variable(variable_name, default_value):\r\n",
                "    if variable_name not in globals():\r\n",
                "        globals()[variable_name] = default_value\r\n",
                "        logger.info(f'{variable_name} not found - using system default')"
            ],
            "outputs": []
        },
        {
            "execution_count": 11,
            "cell_type": "code",
            "metadata": {
                "jupyter": {
                    "source_hidden": false,
                    "outputs_hidden": false
                },
                "nteract": {
                    "transient": {
                        "deleting": false
                    }
                }
            },
            "source": [
                "assign_default_variable(variable_name = 'workspace', \r\n",
                "                        default_value = 'sandbox2')\r\n",
                "oea.set_workspace(workspace)"
            ],
            "outputs": []
        },
        {
            "execution_count": 12,
            "cell_type": "code",
            "metadata": {
                "jupyter": {
                    "source_hidden": false,
                    "outputs_hidden": false
                },
                "nteract": {
                    "transient": {
                        "deleting": false
                    }
                }
            },
            "source": [
                "metadata_path = \"stage3/EdGraph_DW/build-metadata/stage3-query-assets.json\"\r\n",
                "metadata_url = oea.to_url(metadata_path)\r\n",
                "\r\n",
                "assign_default_variable(variable_name = 'semantic_schema_name', \r\n",
                "                        default_value = 'semantic')"
            ],
            "outputs": []
        },
        {
            "cell_type": "markdown",
            "metadata": {
                "nteract": {
                    "transient": {
                        "deleting": false
                    }
                }
            },
            "source": [
                "### Connection Initializations"
            ],
            "outputs": []
        },
        {
            "execution_count": 13,
            "cell_type": "code",
            "metadata": {
                "jupyter": {
                    "source_hidden": false,
                    "outputs_hidden": false
                },
                "nteract": {
                    "transient": {
                        "deleting": false
                    }
                }
            },
            "source": [
                "assign_default_variable(variable_name = 'secret_name', \r\n",
                "                        default_value = 'syn-oea-hisddev-ondemand-mssql-admin-credentials-password')\r\n",
                "\r\n",
                "db_password = oea._get_secret(secret_name)\r\n",
                "\r\n",
                "assign_default_variable(variable_name = 'server_name', \r\n",
                "                        default_value = 'syn-oea-hisddev-ondemand.sql.azuresynapse.net')\r\n",
                "assign_default_variable(variable_name = 'database_name', \r\n",
                "                        default_value = 'sdb_sandbox2_s3')\r\n",
                "\r\n",
                "assign_default_variable(variable_name = 'user_name', \r\n",
                "                        default_value = 'eduanalyticsuser')\r\n",
                "\r\n",
                "assign_default_variable(variable_name = 'driver', \r\n",
                "                        default_value = 'ODBC Driver 18 for SQL Server')\r\n",
                "password = db_password\r\n",
                "\r\n",
                "db_password = oea._get_secret(secret_name)"
            ],
            "outputs": []
        },
        {
            "cell_type": "markdown",
            "metadata": {
                "nteract": {
                    "transient": {
                        "deleting": false
                    }
                }
            },
            "source": [
                "### SQL DB Creation - Class Definitions"
            ],
            "outputs": []
        },
        {
            "execution_count": 18,
            "cell_type": "code",
            "metadata": {
                "jupyter": {
                    "source_hidden": false,
                    "outputs_hidden": false
                },
                "nteract": {
                    "transient": {
                        "deleting": false
                    }
                }
            },
            "source": [
                "import pyodbc\r\n",
                "import os\r\n",
                "import json\r\n",
                "import logging\r\n",
                "from datetime import datetime\r\n",
                "\r\n",
                "class SQLDatabase:\r\n",
                "    def __init__(self, server_name, database_name, user_name, password, driver=driver):\r\n",
                "        self.server_name = server_name\r\n",
                "        self.database_name = database_name\r\n",
                "        self.user_name = user_name\r\n",
                "        self.password = password\r\n",
                "        self.driver = driver\r\n",
                "        self.connection = self.connect_to_database()\r\n",
                "\r\n",
                "    def connect_to_database(self):\r\n",
                "        connection_string = f\"DRIVER={{{self.driver}}};SERVER={self.server_name};DATABASE={self.database_name};UID={self.user_name};PWD={self.password};\"\r\n",
                "        return pyodbc.connect(connection_string)\r\n",
                "\r\n",
                "    def execute_query(self, query, isResult = False):\r\n",
                "        cursor = self.connection.cursor()\r\n",
                "        cursor.execute(query)\r\n",
                "        if isResult:\r\n",
                "            result = int(cursor.fetchone()[0])\r\n",
                "        else:\r\n",
                "            result = None\r\n",
                "        self.connection.commit()\r\n",
                "        cursor.close()\r\n",
                "        return result\r\n",
                "\r\n",
                "    def close_connection(self):\r\n",
                "        self.connection.close()\r\n",
                "\r\n",
                "class ViewManager:\r\n",
                "    def __init__(self, sql_db, data_source):\r\n",
                "        self.sql_db = sql_db\r\n",
                "        self.data_source = data_source\r\n",
                "\r\n",
                "    def drop_view(self, schema, view_name):\r\n",
                "        query = f\"DROP VIEW IF EXISTS [{schema}].[{view_name}]\"\r\n",
                "        self.sql_db.execute_query(query)\r\n",
                "    \r\n",
                "    def create_schema_if_not_exists(self, schema):\r\n",
                "        # NOTE: Under Dev & Review\r\n",
                "        query = f\"SELECT count(*) FROM sys.schemas WHERE name = N'{schema}';\"        \r\n",
                "        isSchema = self.sql_db.execute_query(query, isResult = True)\r\n",
                "        if isSchema == 0:\r\n",
                "            logger.info(f'CREATING SCHEMA {schema}')\r\n",
                "            query = f\"CREATE SCHEMA [{schema}] AUTHORIZATION [dbo]\"\r\n",
                "            self.sql_db.execute_query(query)\r\n",
                "                \r\n",
                "    def create_view(self, schema, view_name, file_path):\r\n",
                "        query = f\"\"\"CREATE VIEW [{schema}].[{view_name}]\r\n",
                "                AS SELECT *\r\n",
                "                FROM  \r\n",
                "                    OPENROWSET(\r\n",
                "                        BULK '{file_path}',\r\n",
                "                        DATA_SOURCE = '{self.data_source}',\r\n",
                "                        FORMAT='DELTA'\r\n",
                "                    ) nyc\"\"\"\r\n",
                "        self.sql_db.execute_query(query)\r\n",
                "\r\n",
                "    def add_view_to_sql_db(self, schema, view_name, file_path, overwrite=True):\r\n",
                "        if overwrite:\r\n",
                "            logging.info('Overwrite Mode Active - Dropping SQL DB Table')\r\n",
                "            self.drop_view(schema, view_name)\r\n",
                "        else:\r\n",
                "            logging.info('Overwrite Mode Inactive')\r\n",
                "        self.create_view(schema, view_name, file_path)\r\n",
                "\r\n",
                "    def create_and_populate_views(self, schema, schema_path, view_names, overwrite=False):\r\n",
                "        self.create_schema_if_not_exists(schema)\r\n",
                "        for view_name in view_names:\r\n",
                "            logging.info(f'Creating View - {view_name}')\r\n",
                "            view_path = f\"{schema_path}/{view_name}\"\r\n",
                "            try:\r\n",
                "                self.add_view_to_sql_db(schema, view_name, view_path, overwrite)\r\n",
                "            except Exception as error:\r\n",
                "                logging.error(f'An error occurred while creating the SQL DB Table - {error}')"
            ],
            "outputs": []
        },
        {
            "cell_type": "markdown",
            "metadata": {
                "nteract": {
                    "transient": {
                        "deleting": false
                    }
                }
            },
            "source": [
                "### Automated Creations (All Tables)"
            ],
            "outputs": []
        },
        {
            "execution_count": 19,
            "cell_type": "code",
            "metadata": {
                "jupyter": {
                    "source_hidden": false,
                    "outputs_hidden": false
                },
                "nteract": {
                    "transient": {
                        "deleting": false
                    }
                }
            },
            "source": [
                "sql_db = SQLDatabase(server_name, database_name, user_name, db_password)\r\n",
                "\r\n",
                "assign_default_variable(variable_name = 'data_source', \r\n",
                "                        default_value = 'sandbox2_data_source')\r\n",
                "                    \r\n",
                "root_path = 'stage3/EdGraph_DW'"
            ],
            "outputs": []
        },
        {
            "execution_count": 22,
            "cell_type": "code",
            "metadata": {
                "jupyter": {
                    "source_hidden": false,
                    "outputs_hidden": false
                },
                "nteract": {
                    "transient": {
                        "deleting": false
                    }
                }
            },
            "source": [
                "dbo_path = f\"{root_path}/dbo\"\r\n",
                "auth_path = f\"{root_path}/auth\"\r\n",
                "config_path = f\"{root_path}/config\"\r\n",
                "\r\n",
                "dbo_tables = oea.get_folders(dbo_path)\r\n",
                "auth_tables = oea.get_folders(auth_path)\r\n",
                "config_tables = oea.get_folders(config_path)\r\n",
                "\r\n",
                "if workspace == 'prod':\r\n",
                "    # FIXME: 2024-03-06 For prod\r\n",
                "    root_path = 'EdGraph_DW'\r\n",
                "    dbo_path = f\"{root_path}/dbo\"\r\n",
                "    auth_path = f\"{root_path}/auth\"\r\n",
                "    config_path = f\"{root_path}/config\"\r\n",
                "\r\n",
                "view_manager = ViewManager(sql_db, data_source)\r\n",
                "\r\n",
                "view_manager.create_and_populate_views('dbo', dbo_path, dbo_tables, overwrite=True)\r\n",
                "view_manager.create_and_populate_views('auth', auth_path, auth_tables, overwrite=True)\r\n",
                "view_manager.create_and_populate_views('config', config_path, config_tables, overwrite=True)"
            ],
            "outputs": []
        },
        {
            "cell_type": "markdown",
            "metadata": {
                "nteract": {
                    "transient": {
                        "deleting": false
                    }
                }
            },
            "source": [
                "### Semantic Views"
            ],
            "outputs": []
        },
        {
            "cell_type": "code",
            "metadata": {
                "jupyter": {
                    "source_hidden": false,
                    "outputs_hidden": false
                },
                "nteract": {
                    "transient": {
                        "deleting": false
                    }
                }
            },
            "source": [
                "\"\"\"jsonDF = spark.read.option(\"multiline\", \"true\").json(metadata_url).cache()\r\n",
                "\r\n",
                "json_string = jsonDF.toJSON().collect()[0]\r\n",
                "original_metadata = json.loads(json_string)\"\"\""
            ],
            "outputs": []
        },
        {
            "cell_type": "code",
            "metadata": {
                "jupyter": {
                    "source_hidden": false,
                    "outputs_hidden": false
                },
                "nteract": {
                    "transient": {
                        "deleting": false
                    }
                }
            },
            "source": [
                "\"\"\"semantic_views_builder = SemanticViewsBuilder(original_metadata = original_metadata, \r\n",
                "                                              stage3_db_name = 'PLACEHOLDER',\r\n",
                "                                              stage_3_path = 'PLACEHOLDER', \r\n",
                "                                              partitioning = False, \r\n",
                "                                              spark = spark, \r\n",
                "                                              oea = oea, \r\n",
                "                                              logger = logger)\r\n",
                "semantic_views_builder.process_metadata()\"\"\""
            ],
            "outputs": []
        },
        {
            "cell_type": "code",
            "metadata": {
                "jupyter": {
                    "source_hidden": false,
                    "outputs_hidden": false
                },
                "nteract": {
                    "transient": {
                        "deleting": false
                    }
                }
            },
            "source": [
                "\"\"\"schema_name = 'semantic'\r\n",
                "schema_queries_in_order, schema_queries_params_in_order = metadata_processor.return_schema_queries_in_order(schema_name)\r\n",
                "\r\n",
                "table_names = list(schema_queries_in_order.keys())\r\n",
                "for table_name in table_names:\r\n",
                "    try:\r\n",
                "        logger.info(f'TABLE CREATION - {table_name}')\r\n",
                "        parameterized_queries = metadata_processor.parameterize_table_queries(\r\n",
                "                                                table_name=table_name,\r\n",
                "                                                semantic_schema_name = semantic_schema_name)\r\n",
                "    \r\n",
                "        metadata_processor.execute_table_queries(schema_name,\r\n",
                "                                                table_name, \r\n",
                "                                                parameterized_queries,\r\n",
                "                                                surrogate_key = True)\r\n",
                "        print()\r\n",
                "    except Exception as error:\r\n",
                "        logger.error(error)\r\n",
                "        # logger.error(f\"An Error Occurred while creating: {table_name}\")\"\"\""
            ],
            "outputs": []
        },
        {
            "cell_type": "markdown",
            "metadata": {
                "nteract": {
                    "transient": {
                        "deleting": false
                    }
                }
            },
            "source": [
                "### Example (Individual Table)"
            ],
            "outputs": []
        },
        {
            "execution_count": 10,
            "cell_type": "code",
            "metadata": {
                "jupyter": {
                    "source_hidden": false,
                    "outputs_hidden": false
                },
                "nteract": {
                    "transient": {
                        "deleting": false
                    }
                }
            },
            "source": [
                "# sql_db = SQLDatabase(server_name, database_name, user_name, db_password)\r\n",
                "\r\n",
                "# data_source = 'sandbox2_data_source'\r\n",
                "# root_path = 'stage3/EdGraph_DW'\r\n",
                "# dbo_path = f\"{root_path}/dbo\"\r\n",
                "\r\n",
                "# view_manager = ViewManager(sql_db, data_source)"
            ],
            "outputs": []
        },
        {
            "execution_count": 12,
            "cell_type": "code",
            "metadata": {
                "jupyter": {
                    "source_hidden": false,
                    "outputs_hidden": false
                },
                "nteract": {
                    "transient": {
                        "deleting": false
                    }
                }
            },
            "source": [
                "# schema = 'dbo'\r\n",
                "# view_name = 'DimDate'\r\n",
                "# file_path = f\"{root_path}/{schema}/{view_name}\"\r\n",
                "# overwrite = True\r\n",
                "# try:\r\n",
                "#    view_manager.add_view_to_sql_db(schema = schema, \r\n",
                "#                                    view_name = view_name, \r\n",
                "#                                    file_path = file_path, \r\n",
                "#                                    overwrite = overwrite)\r\n",
                "# except Exception as error:\r\n",
                "#    logger.error(f'Error - {error}')"
            ],
            "outputs": []
        },
        {
            "execution_count": 18,
            "cell_type": "code",
            "metadata": {
                "jupyter": {
                    "source_hidden": false,
                    "outputs_hidden": false
                },
                "nteract": {
                    "transient": {
                        "deleting": false
                    }
                }
            },
            "source": [
                "# NOTE: This will close connection: Execute only at the end of all your operations\r\n",
                "#       In case of accidental execution, reinilize class objects: sql_db, view_manager\r\n",
                "# sql_db.close_connection()"
            ],
            "outputs": []
        }
    ]
}