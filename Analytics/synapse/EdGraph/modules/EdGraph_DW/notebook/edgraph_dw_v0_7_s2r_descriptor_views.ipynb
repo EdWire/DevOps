{
    "nbformat": 4,
    "nbformat_minor": 2,
    "metadata": {
        "save_output": true,
        "language_info": {
            "name": "python"
        }
    },
    "cells": [
        {
            "cell_type": "markdown",
            "metadata": {
                "nteract": {
                    "transient": {
                        "deleting": false
                    }
                }
            },
            "source": [
                "### Initializations"
            ],
            "outputs": []
        },
        {
            "cell_type": "code",
            "source": [
                "#Importing required libraries\r\n",
                "from pyspark.sql import SparkSession\r\n",
                "from pyspark.sql.functions import col, greatest, from_json, sha2, concat_ws, isnull\r\n",
                "from pyspark.sql.types import StructType, StructField, IntegerType, StringType\r\n",
                "from pyspark.sql import functions as F\r\n",
                "from pyspark.sql.window import Window\r\n",
                "\r\n",
                "from pyspark.sql import SparkSession"
            ],
            "outputs": []
        },
        {
            "cell_type": "code",
            "metadata": {
                "jupyter": {
                    "source_hidden": false,
                    "outputs_hidden": false
                },
                "nteract": {
                    "transient": {
                        "deleting": false
                    }
                }
            },
            "source": [
                "%run OEA/modules/Ed-Fi/v0.8/src/utilities/edfi_v0_8_edfi_py"
            ],
            "outputs": []
        },
        {
            "cell_type": "code",
            "metadata": {
                "jupyter": {
                    "source_hidden": false,
                    "outputs_hidden": false
                },
                "nteract": {
                    "transient": {
                        "deleting": false
                    }
                }
            },
            "source": [
                "from datetime import datetime\r\n",
                "oea = EdFiOEAChild()   \r\n",
                "error_logger = ErrorLogging(spark = spark,\r\n",
                "                            oea = oea,\r\n",
                "                            logger = logger)"
            ],
            "outputs": []
        },
        {
            "cell_type": "markdown",
            "metadata": {
                "nteract": {
                    "transient": {
                        "deleting": false
                    }
                }
            },
            "source": [
                "### Global Parameters"
            ],
            "outputs": []
        },
        {
            "cell_type": "code",
            "metadata": {
                "jupyter": {
                    "source_hidden": false,
                    "outputs_hidden": false
                },
                "nteract": {
                    "transient": {
                        "deleting": false
                    }
                }
            },
            "source": [
                "def assign_default_variable(variable_name, default_value):\r\n",
                "    if variable_name not in globals():\r\n",
                "        globals()[variable_name] = default_value\r\n",
                "        logger.info(f'{variable_name} not found - using system default')"
            ],
            "outputs": []
        },
        {
            "cell_type": "code",
            "metadata": {
                "jupyter": {
                    "source_hidden": false,
                    "outputs_hidden": false
                },
                "nteract": {
                    "transient": {
                        "deleting": false
                    }
                }
            },
            "source": [
                "assign_default_variable(variable_name = 'workspace', \r\n",
                "                        default_value = 'sandbox2')\r\n",
                "oea.set_workspace(workspace)"
            ],
            "outputs": []
        },
        {
            "cell_type": "markdown",
            "metadata": {
                "nteract": {
                    "transient": {
                        "deleting": false
                    }
                }
            },
            "source": [
                "### Main Code"
            ],
            "outputs": []
        },
        {
            "cell_type": "code",
            "metadata": {
                "jupyter": {
                    "source_hidden": false,
                    "outputs_hidden": false
                },
                "nteract": {
                    "transient": {
                        "deleting": false
                    }
                }
            },
            "source": [
                "def extract_substring_before(input_string, target_substring):\r\n",
                "    pattern = rf'^(.*?){re.escape(target_substring)}'\r\n",
                "    match = input_string.lower().endswith(target_substring.lower()) \r\n",
                "    \r\n",
                "    re_search_substr = re.search(pattern, input_string)\r\n",
                "    if match:\r\n",
                "        substring_before_target = re_search_substr.group(1)\r\n",
                "        return substring_before_target\r\n",
                "    else:\r\n",
                "        return None\r\n",
                "\r\n",
                "def list_descriptor_tables(db_name):\r\n",
                "    spark.sql(f\"USE {db_name}\")\r\n",
                "    tables = spark.sql(\"SHOW TABLES\")\r\n",
                "\r\n",
                "    table_names_dict = {}\r\n",
                "    for row in tables.collect():\r\n",
                "        table_name = table_name_original = row['tableName']\r\n",
                "        table_name = extract_substring_before(table_name.lower(), \r\n",
                "                                              'descriptors')\r\n",
                "        if table_name is not None:\r\n",
                "            table_names_dict[table_name_original] = table_name\r\n",
                "        \r\n",
                "    return table_names_dict"
            ],
            "outputs": []
        },
        {
            "cell_type": "code",
            "metadata": {
                "jupyter": {
                    "source_hidden": false,
                    "outputs_hidden": false
                },
                "nteract": {
                    "transient": {
                        "deleting": false
                    }
                }
            },
            "source": [
                "parameterized = True\r\n",
                "if not(parameterized):\r\n",
                "    descriptors_dict = list_descriptor_tables(stage2_db_name)\r\n",
                "else:\r\n",
                "    descriptors_dict = {'operationalstatusdescriptors': 'operationalstatus',\r\n",
                "                    'schooltypedescriptors': 'schooltype',\r\n",
                "                    'charterstatusdescriptors': 'charterstatus',\r\n",
                "                    'titleipartaschooldesignationdescriptors': 'titleipartaschooldesignation',\r\n",
                "                    'administrativefundingcontroldescriptors': 'administrativefundingcontrol',\r\n",
                "                    'stateabbreviationdescriptors': 'stateabbreviation',\r\n",
                "                    'addresstypedescriptors': 'addresstype',\r\n",
                "                    'institutiontelephonenumbertypedescriptors': 'institutiontelephonenumbertype',\r\n",
                "                    'localeducationagencycategorydescriptors':'localeducationagencycategory',\r\n",
                "                    'programtypedescriptors':'programtype',\r\n",
                "                    'programsponsordescriptors':'programsponsor',\r\n",
                "                    'racedescriptors':'race',\r\n",
                "                    'electronicmailtypedescriptors':'electronicmailtype',\r\n",
                "                    'attendanceeventcategorydescriptors':'attendanceeventcategory',\r\n",
                "                    'educationalenvironmentdescriptors':'educationalenvironment',\r\n",
                "                    'termdescriptors':'term',\r\n",
                "                    'entrytypedescriptors':'entrytype',\r\n",
                "                    'residencystatusdescriptors':'residencystatus',\r\n",
                "                    'graduationplantypedescriptors':'graduationplantype',\r\n",
                "                    'entrygradelevelreasondescriptors':'entrygradelevelreason',\r\n",
                "                    #'entrygradeleveldescriptors':'entrygradelevel',\r\n",
                "                    'calendareventdescriptors':'calendarevent',\r\n",
                "                    'academicsubjectdescriptors':'academicsubject',\r\n",
                "                    'languagedescriptors':'language',\r\n",
                "                    'LevelOfEducationdescriptors':'LevelOfEducation',\r\n",
                "                    'sexdescriptors':'sex',\r\n",
                "                    'graduationplantypedescriptors':'graduationplantype',\r\n",
                "                    'credittypedescriptors':'credittype',\r\n",
                "                    'gradeleveldescriptors':'gradelevel',\r\n",
                "                    \"ClassroomPositionDescriptors\": \"ClassroomPositionDescriptors\",\r\n",
                "                    'AcademicSubjectdescriptors':'AcademicSubject',\r\n",
                "                    'localeducationagencycategorydescriptors':'localeducationagencycategory',\r\n",
                "                    'TitleIPartAProgramServicedescriptors':'TitleIPartAProgramService',\r\n",
                "                    'TitleIPartAParticipantdescriptors':'TitleIPartAParticipant',\r\n",
                "                    'Servicedescriptors':'Service',\r\n",
                "                    'ReasonExiteddescriptors':'ReasonExited',\r\n",
                "                    'SpecialEducationSettingdescriptors':'SpecialEducationSetting',\r\n",
                "                    'DisabilityDeterminationSourceTypedescriptors':'DisabilityDeterminationSourceType',\r\n",
                "                    'Disabilitydescriptors':'Disability',\r\n",
                "                    'SpecialEducationProgramServicedescriptors':'SpecialEducationProgramService',\r\n",
                "                    'specialeducationprogramservicedescriptors':'SpecialEducationProgramServiceProvider',\r\n",
                "                    'schoolfoodserviceprogramservicedescriptors':'schoolfoodserviceprogramservice',\r\n",
                "                    'neglectedordelinquentprogramservicedescriptors':'neglectedordelinquentprogramservice',\r\n",
                "                    'ProgressLevelDescriptors':'ProgressLevel',\r\n",
                "                    'DisabilityDesignationDescriptors': 'DisabilityDesignationDescriptors',\r\n",
                "                    'PerformanceLevelDescriptors': 'PerformanceLevelDescriptors',\r\n",
                "                    'assessmentReportingMethodDescriptors':'assessmentReportingMethodDescriptors',\r\n",
                "                    'assessmentperioddescriptors':'assessmentperioddescriptors',\r\n",
                "                    'ResultDatatypetypeDescriptors':'ResultDatatypetypeDescriptors',\r\n",
                "                    'AssessmentPeriodDescriptors':'AssessmentPeriodDescriptors',\r\n",
                "                    'GradeTypeDescriptors':'GradeTypeDescriptors',\r\n",
                "                    'CohortTypeDescriptors':'CohortTypeDescriptors',\r\n",
                "                    'AssessmentItemResultDescriptors':'AssessmentItemResultDescriptors',\r\n",
                "                    'GradingPeriodDescriptors':'GradingPeriodDescriptors',\r\n",
                "                    'DisciplineDescriptors':'DisciplineDescriptors',\r\n",
                "                    'CohortScopeDescriptors':'CohortScopeDescriptors',\r\n",
                "                    'ResponseIndicatorDescriptors':'ResponseIndicatorDescriptors',\r\n",
                "                    'IncidentLocationDescriptors':'IncidentLocationDescriptors',\r\n",
                "                    'ReporterDescriptionDescriptors':'ReporterDescriptionDescriptors',\r\n",
                "                    'BehaviorDescriptors':'BehaviorDescriptors',\r\n",
                "                    'WeaponDescriptors':'WeaponDescriptors',\r\n",
                "                    'StudentParticipationCodeDescriptors':'StudentParticipationCodeDescriptors',\r\n",
                "                    'StaffClassificationDescriptors':'StaffClassificationDescriptors'\r\n",
                "                    }"
            ],
            "outputs": []
        },
        {
            "cell_type": "code",
            "metadata": {
                "jupyter": {
                    "source_hidden": false,
                    "outputs_hidden": false
                },
                "nteract": {
                    "transient": {
                        "deleting": false
                    }
                }
            },
            "source": [
                "def create_desc_session_view(db_name, \r\n",
                "                             table_name,\r\n",
                "                             session_view_name,\r\n",
                "                             key_prefix):\r\n",
                "    try:\r\n",
                "        spark.sql(f\"\"\"CREATE OR REPLACE VIEW {db_name}.{session_view_name}_view AS \r\n",
                "                    SELECT\r\n",
                "                        LakeId AS DescriptorHKey,\r\n",
                "                        LakeId as DescriptorLakeId,\r\n",
                "                        Namespace,\r\n",
                "                        CodeValue,\r\n",
                "                        ShortDescription,\r\n",
                "                        NULL as ShortDescriptionOrder,\r\n",
                "                        Description,\r\n",
                "                        CURRENT_TIMESTAMP() AS CreatedDateTime,\r\n",
                "                        CURRENT_TIMESTAMP() AS ModifiedDateTime\r\n",
                "                    FROM {db_name}.{table_name}                   \r\n",
                "                  \"\"\")\r\n",
                "    except:\r\n",
                "        logger.info(f'Error Occured -{e}: {table_name} not created')"
            ],
            "outputs": []
        },
        {
            "cell_type": "code",
            "metadata": {
                "jupyter": {
                    "source_hidden": false,
                    "outputs_hidden": false
                },
                "nteract": {
                    "transient": {
                        "deleting": false
                    }
                }
            },
            "source": [
                "db_name = stage2_db_name\r\n",
                "for table_name, key_prefix in descriptors_dict.items():\r\n",
                "    logger.info(f\"Create or replace view - {table_name}_view\")\r\n",
                "    create_desc_session_view(db_name = db_name, \r\n",
                "                             table_name = table_name,\r\n",
                "                             session_view_name = table_name,\r\n",
                "                             key_prefix = key_prefix)"
            ],
            "outputs": []
        }
    ]
}