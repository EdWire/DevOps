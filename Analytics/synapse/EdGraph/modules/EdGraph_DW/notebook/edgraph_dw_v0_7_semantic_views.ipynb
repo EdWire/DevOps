{
    "nbformat": 4,
    "nbformat_minor": 2,
    "metadata": {
        "save_output": true,
        "language_info": {
            "name": "python"
        }
    },
    "cells": [
        {
            "cell_type": "markdown",
            "metadata": {
                "nteract": {
                    "transient": {
                        "deleting": false
                    }
                }
            },
            "source": [
                "### Initializations"
            ],
            "outputs": []
        },
        {
            "execution_count": 1,
            "cell_type": "code",
            "metadata": {
                "jupyter": {
                    "source_hidden": false,
                    "outputs_hidden": false
                },
                "nteract": {
                    "transient": {
                        "deleting": false
                    }
                }
            },
            "source": [
                "import pyodbc\r\n",
                "import os\r\n",
                "import json\r\n",
                "import logging\r\n",
                "from datetime import datetime"
            ],
            "outputs": []
        },
        {
            "execution_count": 2,
            "cell_type": "code",
            "source": [
                "%run OEA/modules/Ed-Fi/v0.8/src/utilities/edfi_v0_8_edfi_py"
            ],
            "outputs": []
        },
        {
            "execution_count": 3,
            "cell_type": "code",
            "metadata": {
                "jupyter": {
                    "source_hidden": false,
                    "outputs_hidden": false
                },
                "nteract": {
                    "transient": {
                        "deleting": false
                    }
                }
            },
            "source": [
                "%run EdGraph/modules/EdGraph_DW/v0.7/src/utilities/edgraph_dw_v0_7_dw_builder"
            ],
            "outputs": []
        },
        {
            "execution_count": 4,
            "cell_type": "code",
            "metadata": {
                "jupyter": {
                    "source_hidden": false,
                    "outputs_hidden": false
                },
                "nteract": {
                    "transient": {
                        "deleting": false
                    }
                }
            },
            "source": [
                "from datetime import datetime\r\n",
                "oea = EdFiOEAChild()   \r\n",
                "error_logger = ErrorLogging(spark = spark,\r\n",
                "                            oea = oea,\r\n",
                "                            logger = logger)"
            ],
            "outputs": []
        },
        {
            "cell_type": "code",
            "metadata": {
                "jupyter": {
                    "source_hidden": false,
                    "outputs_hidden": false
                },
                "nteract": {
                    "transient": {
                        "deleting": false
                    }
                }
            },
            "source": [
                "def assign_default_variable(variable_name, default_value):\r\n",
                "    if variable_name not in globals():\r\n",
                "        globals()[variable_name] = default_value\r\n",
                "        logger.info(f'{variable_name} not found - using system default')\r\n",
                "        "
            ],
            "outputs": []
        },
        {
            "execution_count": 5,
            "cell_type": "code",
            "metadata": {
                "jupyter": {
                    "source_hidden": false,
                    "outputs_hidden": false
                },
                "nteract": {
                    "transient": {
                        "deleting": false
                    }
                }
            },
            "source": [
                "assign_default_variable(variable_name = 'workspace', \r\n",
                "                        default_value = 'sandbox2')\r\n",
                "oea.set_workspace(workspace)"
            ],
            "outputs": []
        },
        {
            "execution_count": 24,
            "cell_type": "code",
            "metadata": {
                "jupyter": {
                    "source_hidden": false,
                    "outputs_hidden": false
                },
                "nteract": {
                    "transient": {
                        "deleting": false
                    }
                }
            },
            "source": [
                "metadata_path = \"stage3/EdGraph_DW/build-metadata/stage3-query-assets.json\"\r\n",
                "metadata_url = oea.to_url(metadata_path)"
            ],
            "outputs": []
        },
        {
            "execution_count": 25,
            "cell_type": "code",
            "metadata": {
                "jupyter": {
                    "source_hidden": false,
                    "outputs_hidden": false
                },
                "nteract": {
                    "transient": {
                        "deleting": false
                    }
                }
            },
            "source": [
                "from pyspark.sql import SparkSession\r\n",
                "from pyspark.sql.functions import lit\r\n",
                "from pyspark.sql.types import IntegerType"
            ],
            "outputs": []
        },
        {
            "cell_type": "markdown",
            "metadata": {
                "nteract": {
                    "transient": {
                        "deleting": false
                    }
                }
            },
            "source": [
                "### Global Query Parameters"
            ],
            "outputs": []
        },
        {
            "cell_type": "code",
            "metadata": {
                "jupyter": {
                    "source_hidden": false,
                    "outputs_hidden": false
                },
                "nteract": {
                    "transient": {
                        "deleting": false
                    }
                }
            },
            "source": [
                "from datetime import datetime, timedelta\r\n",
                "\r\n",
                "incremental_prefix = ''\r\n",
                "current_datetime = datetime.now()\r\n",
                "last_datetime = current_datetime - timedelta(days=30) # TODO: Example Offset\r\n",
                "\r\n",
                "current_execution_datetime_str = current_datetime.strftime(\"%Y-%m-%dT%H:%M:%S.%f0\")\r\n",
                "last_execution_datetime_str = last_datetime.strftime(\"%Y-%m-%dT%H:%M:%S.%f0\")\r\n",
                "\r\n",
                "# assign_default_variable(variable_name = 'stage2_db_name', \r\n",
                "#                         default_value = 'ldb_sandbox2_s2r_ed_fi')\r\n",
                "\r\n",
                "# assign_default_variable(variable_name = 'base_table_db_name', \r\n",
                "#                         default_value = 'ldb_sandbox2_s3_ed_fi')\r\n",
                "\r\n",
                "# assign_default_variable(variable_name = 'stage3_db_name', \r\n",
                "#                         default_value = 'ldb_sandbox2_s3_ed_fi')\r\n",
                "\r\n",
                "assign_default_variable(variable_name = 'current_school_year', \r\n",
                "                        default_value = 'SchoolYear')\r\n",
                "\r\n",
                "assign_default_variable(variable_name = 'schoolYear_varParam', \r\n",
                "                        default_value = 'SchoolYear')\r\n",
                "\r\n",
                "assign_default_variable(variable_name = 'districtId_varParam', \r\n",
                "                        default_value = 'DistrictId')\r\n",
                "\r\n",
                "assign_default_variable(variable_name = 'present_year', #TODO: Fix\r\n",
                "                        default_value = '2023')"
            ],
            "outputs": []
        },
        {
            "cell_type": "markdown",
            "metadata": {
                "nteract": {
                    "transient": {
                        "deleting": false
                    }
                }
            },
            "source": [
                "### Connection Initializations"
            ],
            "outputs": []
        },
        {
            "execution_count": 27,
            "cell_type": "code",
            "metadata": {
                "jupyter": {
                    "source_hidden": false,
                    "outputs_hidden": false
                },
                "nteract": {
                    "transient": {
                        "deleting": false
                    }
                }
            },
            "source": [
                "\r\n",
                "assign_default_variable(variable_name = 'secret_name', \r\n",
                "                        default_value = 'syn-oea-hisddev-ondemand-mssql-admin-credentials-password')\r\n",
                "\r\n",
                "db_password = oea._get_secret(secret_name)\r\n",
                "\r\n",
                "assign_default_variable(variable_name = 'server_name', \r\n",
                "                        default_value = 'syn-oea-hisddev-ondemand.sql.azuresynapse.net')\r\n",
                "assign_default_variable(variable_name = 'database_name', \r\n",
                "                        default_value = 'sdb_sandbox2_s3')\r\n",
                "\r\n",
                "assign_default_variable(variable_name = 'user_name', \r\n",
                "                        default_value = 'eduanalyticsuser')\r\n",
                "\r\n",
                "assign_default_variable(variable_name = 'driver', \r\n",
                "                        default_value = 'ODBC Driver 18 for SQL Server')\r\n",
                "password = db_password\r\n",
                "db_password = oea._get_secret(secret_name)"
            ],
            "outputs": []
        },
        {
            "cell_type": "markdown",
            "metadata": {
                "nteract": {
                    "transient": {
                        "deleting": false
                    }
                }
            },
            "source": [
                "### Main Code"
            ],
            "outputs": []
        },
        {
            "cell_type": "markdown",
            "metadata": {
                "nteract": {
                    "transient": {
                        "deleting": false
                    }
                }
            },
            "source": [
                "#### Automated (via MetadataProcessor)"
            ],
            "outputs": []
        },
        {
            "execution_count": 28,
            "cell_type": "code",
            "metadata": {
                "jupyter": {
                    "source_hidden": false,
                    "outputs_hidden": false
                },
                "nteract": {
                    "transient": {
                        "deleting": false
                    }
                }
            },
            "source": [
                "jsonDF = spark.read.option(\"multiline\", \"true\").json(metadata_url).cache()\r\n",
                "\r\n",
                "json_string = jsonDF.toJSON().collect()[0]\r\n",
                "original_metadata = json.loads(json_string)"
            ],
            "outputs": []
        },
        {
            "execution_count": 29,
            "cell_type": "code",
            "metadata": {
                "jupyter": {
                    "source_hidden": false,
                    "outputs_hidden": false
                },
                "nteract": {
                    "transient": {
                        "deleting": false
                    }
                }
            },
            "source": [
                "test_version = 'v3'\r\n",
                "semantic_views_builder = SemanticViewsBuilder(original_metadata = original_metadata, \r\n",
                "                                              stage3_db_name = stage3_db_name,\r\n",
                "                                              stage_3_path = f'stage3/EdGraph_DW', \r\n",
                "                                              partitioning = False,\r\n",
                "                                              spark = spark, \r\n",
                "                                              oea = oea, \r\n",
                "                                              logger = logger,\r\n",
                "                                              error_logger = error_logger,\r\n",
                "                                              lakeTableOverwrite = True)\r\n",
                "semantic_views_builder.process_metadata()"
            ],
            "outputs": []
        },
        {
            "execution_count": 30,
            "cell_type": "code",
            "metadata": {
                "jupyter": {
                    "source_hidden": false,
                    "outputs_hidden": false
                },
                "nteract": {
                    "transient": {
                        "deleting": false
                    }
                }
            },
            "source": [
                "semantic_views_builder.set_server_creds(server_name = server_name, \r\n",
                "                                        database_name = database_name, \r\n",
                "                                        user_name = user_name, \r\n",
                "                                        password = password, \r\n",
                "                                        driver=driver)"
            ],
            "outputs": []
        },
        {
            "execution_count": 31,
            "cell_type": "code",
            "metadata": {
                "jupyter": {
                    "source_hidden": false,
                    "outputs_hidden": false
                },
                "nteract": {
                    "transient": {
                        "deleting": false
                    }
                }
            },
            "source": [
                "from datetime import datetime\r\n",
                "overwrite = True\r\n",
                "schema_name = 'semantic'\r\n",
                "schema_queries_in_order, schema_queries_params_in_order = semantic_views_builder.return_schema_queries_in_order(schema_name)\r\n",
                "#table_name=['vw_AuthUser','vw_FactStudentDisciplineIncident','vw_FactStudentEarlyWarning']\r\n",
                "table_names = list(schema_queries_in_order.keys())\r\n",
                "\r\n",
                "semantic_views_builder.create_schema_if_not_exists(schema_name)\r\n",
                "for table_name in table_names:\r\n",
                "    try:\r\n",
                "        logger.info(f'SEMANTIC VIEW CREATION - {table_name}')\r\n",
                "        parameterized_queries = semantic_views_builder.parameterize_table_queries(\r\n",
                "                                                schema_queries=schema_queries_in_order,\r\n",
                "                                                schema_queries_params=schema_queries_params_in_order,\r\n",
                "                                                table_name=table_name,\r\n",
                "                                                stage2_db_name = stage2_db_name,\r\n",
                "                                                stage3_db_name = stage3_db_name,\r\n",
                "                                                base_table_db_name = base_table_db_name,\r\n",
                "                                                current_execution_datetime_str = current_execution_datetime_str,\r\n",
                "                                                last_execution_datetime_str = last_execution_datetime_str,\r\n",
                "                                                current_school_year = current_school_year,\r\n",
                "                                                schoolYear_varParam = schoolYear_varParam,\r\n",
                "                                                districtId_varParam = districtId_varParam,\r\n",
                "                                                incremental_prefix = incremental_prefix,\r\n",
                "                                                # CurrentSchoolYear = current_school_year,\r\n",
                "                                                query_params={})\r\n",
                "        if overwrite:\r\n",
                "            semantic_views_builder.drop_view(schema_name, table_name)    \r\n",
                "        semantic_views_builder.execute_table_queries(schema_name,\r\n",
                "                                                    table_name, \r\n",
                "                                                    parameterized_queries)\r\n",
                "        print()\r\n",
                "    except Exception as error:\r\n",
                "        logger.exception(error)\r\n",
                "        #logger.error(f\"An Error Occurred while creating: {table_name}\")"
            ],
            "outputs": []
        },
        {
            "execution_count": 14,
            "cell_type": "code",
            "metadata": {
                "jupyter": {
                    "source_hidden": false,
                    "outputs_hidden": false
                },
                "nteract": {
                    "transient": {
                        "deleting": false
                    }
                }
            },
            "source": [
                "# TODO: R&D on how to implement error logging (entity-level) for semantic views\r\n",
                "# df_logs = error_logger.create_spark_df('entity')\r\n",
                "# error_logger.write_logs_to_delta_lake(df = df_logs, \r\n",
                "#                                       log_type = 'entity',\r\n",
                "#                                      destination_url = oea.to_url(f'stage3/EdGraph_DW/etl-logs/log_type=entity/'))"
            ],
            "outputs": []
        },
        {
            "execution_count": 32,
            "cell_type": "code",
            "metadata": {
                "jupyter": {
                    "source_hidden": false,
                    "outputs_hidden": false
                },
                "nteract": {
                    "transient": {
                        "deleting": false
                    }
                }
            },
            "source": [
                "jsonDF.unpersist()\r\n",
                "logger.info('Cached Data Removed From Memory')"
            ],
            "outputs": []
        },
        {
            "cell_type": "code",
            "metadata": {
                "jupyter": {
                    "source_hidden": false,
                    "outputs_hidden": false
                },
                "nteract": {
                    "transient": {
                        "deleting": false
                    }
                }
            },
            "source": [
                "semantic_views_builder.close_connection()"
            ],
            "outputs": []
        }
    ]
}