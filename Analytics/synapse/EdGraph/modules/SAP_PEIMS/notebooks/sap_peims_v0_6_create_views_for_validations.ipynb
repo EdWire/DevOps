{
    "nbformat": 4,
    "nbformat_minor": 2,
    "metadata": {
        "save_output": true,
        "language_info": {
            "name": "python"
        }
    },
    "cells": [
        {
            "execution_count": 106,
            "cell_type": "code",
            "metadata": {
                "jupyter": {
                    "source_hidden": false,
                    "outputs_hidden": false
                },
                "nteract": {
                    "transient": {
                        "deleting": false
                    }
                }
            },
            "source": [
                "metadata_pipeline_type_mappings = {'YHROHPM04': 'PEIMS_FALL_AND_PEIMS_EXYR', # FIXME: MAPPING CONFLICT\r\n",
                "                       'YHROHPM07': 'PEIMS_FALL',\r\n",
                "                       'YHROHPM08': 'PEIMS_FALL',\r\n",
                "                       'YHROHPM09': 'PEIMS_FALL',\r\n",
                "                       'YHROHPM10': 'PEIMS_FALL',\r\n",
                "                       'YFMOHPEIM': 'PEIMS_FALL',\r\n",
                "                       'YFIOHPEIM': 'PEIMS_MIDYR',\r\n",
                "                       # 'YHROHPM04': 'PEIMS_EXYR', # FIXME: MAPPING CONFLICT\r\n",
                "                       'YHROHPM01': 'TSDS_CLASS_ROSTER_WINTER',\r\n",
                "                       'YHROHPM06': 'TSDS_CLASS_ROSTER_WINTER', # FIXME: NOT SURE (ASSUMED)\r\n",
                "                       'YHROHPM03': 'TSDS_ECDS_KG',\r\n",
                "                       'YHROHPM02': 'TSDS_ECDS_PK',\r\n",
                "                       'YHROHPM05': 'TSDS_CLASS_ROSTER_FALL'}"
            ],
            "outputs": []
        },
        {
            "execution_count": 107,
            "cell_type": "code",
            "metadata": {
                "jupyter": {
                    "source_hidden": false,
                    "outputs_hidden": false
                },
                "nteract": {
                    "transient": {
                        "deleting": false
                    }
                }
            },
            "source": [
                "# NOTE: Under Experimentation\r\n",
                "pipeline_suffix_mappings = {'peims-submissions': '_peims',\r\n",
                "                            'tsds_crf-submissions': '_peims',\r\n",
                "                            'analytics': '_analytics'}"
            ],
            "outputs": []
        },
        {
            "cell_type": "code",
            "metadata": {
                "jupyter": {
                    "source_hidden": false,
                    "outputs_hidden": false
                },
                "nteract": {
                    "transient": {
                        "deleting": false
                    }
                }
            },
            "source": [
                "# FIXME: 2024-03-21 To be parameterized\r\n",
                "db_password_secret_name = \"\"\r\n",
                "db_user_secret_name = \"\"\r\n",
                "database_name = \"sdb_prod_s2r_sap_peims\"\r\n",
                "data_source = \"sdb_prod_s2r_sap_peims_data_source\"\r\n",
                "server_name = \"\"\r\n",
                "driver = \"ODBC Driver 18 for SQL Server\"\r\n",
                "semantic_schema_name = \"semantic\""
            ],
            "outputs": []
        },
        {
            "execution_count": 108,
            "cell_type": "code",
            "metadata": {
                "jupyter": {
                    "source_hidden": false,
                    "outputs_hidden": false
                },
                "nteract": {
                    "transient": {
                        "deleting": false
                    }
                }
            },
            "source": [
                "instance = instanceId = InstanceId\r\n",
                "apiUrl = ApiUrl\r\n",
                "schoolYear = SchoolYear\r\n",
                "DistrictId = DistrictID = districtId = districtID\r\n",
                "apiLimit = batchLimit\r\n",
                "\r\n",
                "prepareSAPMetaData = prepareSAPMetadata\r\n",
                "zone = submissionsType = sap_pipeline"
            ],
            "outputs": []
        },
        {
            "cell_type": "markdown",
            "metadata": {
                "nteract": {
                    "transient": {
                        "deleting": false
                    }
                }
            },
            "source": [
                "### Pre-Requisites (Dev)"
            ],
            "outputs": []
        },
        {
            "execution_count": 109,
            "cell_type": "code",
            "metadata": {
                "jupyter": {
                    "source_hidden": false,
                    "outputs_hidden": false
                },
                "nteract": {
                    "transient": {
                        "deleting": false
                    }
                }
            },
            "source": [
                "from notebookutils import mssparkutils\r\n",
                "import configparser\r\n",
                "\r\n",
                "config_path = \"/tmp/conf.ini\"\r\n",
                "def copy_config_to_temp():\r\n",
                "    mssparkutils.fs.cp(oea.to_url(\"stage1/Transactional/SAP/metadata-assets/edfi-configs.ini\"),\"file:/tmp/conf.ini\")\r\n",
                "\r\n",
                "def read_edfi_credentials(config_path):\r\n",
                "    config = configparser.ConfigParser()\r\n",
                "    config.read(config_path)\r\n",
                "\r\n",
                "    edfi_credentials = {}\r\n",
                "\r\n",
                "    if 'EdFi' in config:\r\n",
                "        edfi_credentials['client_id'] = config['EdFi'].get('client_id', '')\r\n",
                "        edfi_credentials['client_secret'] = config['EdFi'].get('client_secret', '')\r\n",
                "\r\n",
                "    return edfi_credentials"
            ],
            "outputs": []
        },
        {
            "cell_type": "markdown",
            "metadata": {
                "nteract": {
                    "transient": {
                        "deleting": false
                    }
                }
            },
            "source": [
                "### Actual Code"
            ],
            "outputs": []
        },
        {
            "execution_count": 110,
            "cell_type": "code",
            "metadata": {
                "azdata_cell_guid": "fbd392d9-afa3-4158-8555-1a87898307f4",
                "language": "python"
            },
            "source": [
                "import pyspark\r\n",
                "\r\n",
                "from pyspark.sql import SparkSession\r\n",
                "from pyspark.sql import DataFrame\r\n",
                "from pyspark.sql.utils import AnalysisException\r\n",
                "from pyspark.sql.types import StringType, StructType, StructField, IntegerType\r\n",
                "\r\n",
                "from pyspark.sql.functions import col, substring, regexp_extract, split, lit, struct, to_date, from_unixtime, date_format\r\n",
                "from pyspark.sql.functions import create_map, lit, when, array, coalesce, concat_ws\r\n",
                "from pyspark.sql.functions import collect_list, create_map, lit, struct, array, concat\r\n",
                "from pyspark.sql.functions import expr\r\n",
                "\r\n",
                "from pyspark.sql import functions as F\r\n",
                "import pyspark.sql.functions as f\r\n",
                "from pyspark.sql.functions import udf\r\n",
                "\r\n",
                "import json\r\n",
                "import os\r\n",
                "import pandas as pd\r\n",
                "import re\r\n",
                "\r\n",
                "import copy\r\n",
                "from itertools import chain"
            ],
            "outputs": []
        },
        {
            "execution_count": 111,
            "cell_type": "code",
            "metadata": {
                "jupyter": {
                    "source_hidden": false,
                    "outputs_hidden": false
                },
                "nteract": {
                    "transient": {
                        "deleting": false
                    }
                }
            },
            "source": [
                "print('REFINEMENT - TESTING PARAMETERIZATION')\r\n",
                "try:\r\n",
                "    print(kVName)\r\n",
                "    print(workspace)\r\n",
                "    print(apiUrl)\r\n",
                "    print(instanceId)\r\n",
                "    print(moduleName)\r\n",
                "    print(apiLimit)\r\n",
                "    print(minChangeVer)\r\n",
                "    print(maxChangeVer)\r\n",
                "    print(sapVersion)\r\n",
                "    print(prepareSAPMetaData)\r\n",
                "    print(submissions)\r\n",
                "    print(submissionsType)\r\n",
                "    print(schoolYear)\r\n",
                "    print(districtID)\r\n",
                "    print(pipelineExecutionId)\r\n",
                "\r\n",
                "    kvName = kVName\r\n",
                "    districtId = districtID\r\n",
                "    districtId = districtId\r\n",
                "except Exception as params_error:\r\n",
                "    print('CATCHING ERROR!!!')\r\n",
                "    print(params_error)"
            ],
            "outputs": []
        },
        {
            "cell_type": "markdown",
            "metadata": {
                "nteract": {
                    "transient": {
                        "deleting": false
                    }
                }
            },
            "source": [
                "### Global Initializations"
            ],
            "outputs": []
        },
        {
            "execution_count": 112,
            "cell_type": "code",
            "metadata": {
                "jupyter": {
                    "source_hidden": false,
                    "outputs_hidden": false
                },
                "nteract": {
                    "transient": {
                        "deleting": false
                    }
                }
            },
            "source": [
                "def assign_default_variable(variable_name, default_value):\r\n",
                "    if variable_name not in globals():\r\n",
                "        globals()[variable_name] = default_value\r\n",
                "        logger.info(f'{variable_name} not found - using system default')"
            ],
            "outputs": []
        },
        {
            "cell_type": "markdown",
            "metadata": {
                "nteract": {
                    "transient": {
                        "deleting": false
                    }
                }
            },
            "source": [
                "### URLs Initializations"
            ],
            "outputs": []
        },
        {
            "execution_count": 113,
            "cell_type": "code",
            "metadata": {
                "jupyter": {
                    "source_hidden": false,
                    "outputs_hidden": false
                },
                "nteract": {
                    "transient": {
                        "deleting": false
                    }
                }
            },
            "source": [
                "%run OEA/modules/Ed-Fi/v0.7/src/utilities/edfi_v0_7_fetch_urls"
            ],
            "outputs": []
        },
        {
            "execution_count": 114,
            "cell_type": "code",
            "metadata": {
                "jupyter": {
                    "source_hidden": false,
                    "outputs_hidden": false
                },
                "nteract": {
                    "transient": {
                        "deleting": false
                    }
                }
            },
            "source": [
                "instance_id = instanceId\r\n",
                "school_year = schoolYear\r\n",
                "api_year = school_year\r\n",
                "api_url = apiUrl\r\n",
                "\r\n",
                "# FIXME: 2024-01-31 TEMP FIX FOR FY\r\n",
                "try:\r\n",
                "    edfi_api_manager = EdFiApiManager(api_url, instance_id, api_year)\r\n",
                "    edfi_api_manager.update_urls()\r\n",
                "    edfi_api_manager.set_other_metadata()\r\n",
                "\r\n",
                "    dependenciesUrl = edfi_api_manager.dependencies_url\r\n",
                "    openApiMetadataUrl = edfi_api_manager.openapi_metadata_url\r\n",
                "    dataManagementUrl = edfi_api_manager.data_management_url\r\n",
                "    authUrl = edfi_api_manager.auth_url\r\n",
                "\r\n",
                "    changeQueriesUrl = edfi_api_manager.get_referenced_url('Change-Queries')\r\n",
                "    changeQueriesUrl = changeQueriesUrl[:-13].replace('/metadata/', '/')\r\n",
                "    swagger_url = swaggerUrl = edfi_api_manager.get_referenced_url('Resources')\r\n",
                "\r\n",
                "    apiVersion = edfi_api_manager.api_version\r\n",
                "    apiVersion = apiVersion[1:] if apiVersion.startswith('v') else apiVersion\r\n",
                "except Exception as error:\r\n",
                "    edfi_api_manager = EdFiApiManager(api_url, instance_id, '')\r\n",
                "    edfi_api_manager.update_urls()\r\n",
                "    edfi_api_manager.set_other_metadata()\r\n",
                "\r\n",
                "    dependenciesUrl = edfi_api_manager.dependencies_url\r\n",
                "    openApiMetadataUrl = edfi_api_manager.openapi_metadata_url\r\n",
                "    dataManagementUrl = edfi_api_manager.data_management_url\r\n",
                "    authUrl = edfi_api_manager.auth_url\r\n",
                "\r\n",
                "    changeQueriesUrl = edfi_api_manager.get_referenced_url('Change-Queries')\r\n",
                "    changeQueriesUrl = changeQueriesUrl[:-13].replace('/metadata/', '/')\r\n",
                "    swagger_url = swaggerUrl = edfi_api_manager.get_referenced_url('Resources')\r\n",
                "\r\n",
                "    apiVersion = edfi_api_manager.api_version\r\n",
                "    apiVersion = apiVersion[1:] if apiVersion.startswith('v') else apiVersion"
            ],
            "outputs": []
        },
        {
            "cell_type": "markdown",
            "metadata": {
                "nteract": {
                    "transient": {
                        "deleting": false
                    }
                }
            },
            "source": [
                "### OEA Initiliazations"
            ],
            "outputs": []
        },
        {
            "execution_count": 115,
            "cell_type": "code",
            "metadata": {
                "jupyter": {
                    "source_hidden": false,
                    "outputs_hidden": false
                },
                "nteract": {
                    "transient": {
                        "deleting": false
                    }
                }
            },
            "source": [
                "%run EdGraph/modules/SAP_PEIMS/v0.6/src/utilities/sap_peim_v0_6_sap_py"
            ],
            "outputs": []
        },
        {
            "execution_count": 116,
            "cell_type": "code",
            "metadata": {
                "jupyter": {
                    "source_hidden": false,
                    "outputs_hidden": false
                },
                "nteract": {
                    "transient": {
                        "deleting": false
                    }
                }
            },
            "source": [
                "from datetime import datetime\r\n",
                "oea = SAPEdFiOEAChild()   \r\n",
                "oea.set_workspace(workspace)"
            ],
            "outputs": []
        },
        {
            "execution_count": 117,
            "cell_type": "code",
            "metadata": {
                "jupyter": {
                    "source_hidden": false,
                    "outputs_hidden": false
                },
                "nteract": {
                    "transient": {
                        "deleting": false
                    }
                }
            },
            "source": [
                "# swagger_url = swaggerUrl = edfi_api_manager.get_referenced_url('Descriptors')\r\n",
                "oea_utils = schema_gen = SAPOpenAPIUtilChild(swagger_url)\r\n",
                "oea_utils.create_definitions()\r\n",
                "schemas = schema_gen.create_spark_schemas()"
            ],
            "outputs": []
        },
        {
            "cell_type": "markdown",
            "metadata": {
                "nteract": {
                    "transient": {
                        "deleting": false
                    }
                }
            },
            "source": [
                "### SQL Connection Initializations"
            ],
            "outputs": []
        },
        {
            "execution_count": 118,
            "cell_type": "code",
            "metadata": {
                "jupyter": {
                    "source_hidden": false,
                    "outputs_hidden": false
                },
                "nteract": {
                    "transient": {
                        "deleting": false
                    }
                }
            },
            "source": [
                "assign_default_variable(variable_name = 'server_name', \r\n",
                "                        default_value = 'syn-oea-hisdprod-ondemand.sql.azuresynapse.net')\r\n",
                "assign_default_variable(variable_name = 'database_name', \r\n",
                "                        default_value = 'sdb_prod_s2r_sap_peims')\r\n",
                "assign_default_variable(variable_name = 'driver', \r\n",
                "                        default_value = 'ODBC Driver 18 for SQL Server')\r\n",
                "\r\n",
                "user_name = oea._get_secret(db_user_secret_name)\r\n",
                "db_password = oea._get_secret(db_password_secret_name)\r\n",
                "password = db_password"
            ],
            "outputs": []
        },
        {
            "cell_type": "markdown",
            "metadata": {
                "nteract": {
                    "transient": {
                        "deleting": false
                    }
                }
            },
            "source": [
                "### Metadata for Processing"
            ],
            "outputs": []
        },
        {
            "execution_count": 119,
            "cell_type": "code",
            "metadata": {
                "jupyter": {
                    "source_hidden": false,
                    "outputs_hidden": false
                },
                "nteract": {
                    "transient": {
                        "deleting": false
                    }
                }
            },
            "source": [
                "metadata_path = \"stage1/Transactional/SAP/metadata-assets/sap-to-edfi.json\"\r\n",
                "metadata_url = oea.to_url(metadata_path)"
            ],
            "outputs": []
        },
        {
            "execution_count": 120,
            "cell_type": "code",
            "metadata": {
                "language": "python",
                "azdata_cell_guid": "c436cf92-c8ca-4e43-989b-d941044521fa"
            },
            "source": [
                "jsonDF = spark.read.option(\"multiline\", \"true\").json(metadata_url).cache()\r\n",
                "\r\n",
                "json_string = jsonDF.toJSON().collect()[0]\r\n",
                "config_data = json.loads(json_string)"
            ],
            "outputs": []
        },
        {
            "cell_type": "markdown",
            "metadata": {
                "nteract": {
                    "transient": {
                        "deleting": false
                    }
                }
            },
            "source": [
                "### SAP & Error Logging Initiliazations"
            ],
            "outputs": []
        },
        {
            "execution_count": 121,
            "cell_type": "code",
            "metadata": {
                "jupyter": {
                    "source_hidden": false,
                    "outputs_hidden": false
                },
                "nteract": {
                    "transient": {
                        "deleting": false
                    }
                }
            },
            "source": [
                "error_logger = ErrorLogging(spark = spark, \r\n",
                "                            oea = oea, \r\n",
                "                            logger = logger)"
            ],
            "outputs": []
        },
        {
            "execution_count": 122,
            "cell_type": "code",
            "metadata": {
                "jupyter": {
                    "source_hidden": false,
                    "outputs_hidden": false
                },
                "nteract": {
                    "transient": {
                        "deleting": false
                    }
                }
            },
            "source": [
                "sap_utilities = SAPUtilities(spark = spark, \r\n",
                "                             oea = oea)"
            ],
            "outputs": []
        },
        {
            "execution_count": 123,
            "cell_type": "code",
            "metadata": {
                "jupyter": {
                    "source_hidden": false,
                    "outputs_hidden": false
                },
                "nteract": {
                    "transient": {
                        "deleting": false
                    }
                }
            },
            "source": [
                "# sap_pipeline = \"peims-submissions\"\r\n",
                "\r\n",
                "sap_to_edfi_complex = config_data.get('sap_to_edfi_complex', {})\r\n",
                "final_columns = config_data.get('final_columns', {})\r\n",
                "_ext_TX_cols = config_data.get('_ext_TX_cols', {})\r\n",
                "descriptorsDFRef = config_data.get('descriptorsDFRef', {})\r\n",
                "descriptors = config_data.get('descriptors', [])\r\n",
                "metadata_pipeline_type_mappings = config_data.get('metadata_pipeline_type_mappings', {})\r\n",
                "\r\n",
                "sap_process_client = SAPProcessClient(spark = spark, \r\n",
                "                                      oea = oea,\r\n",
                "                                      sap_utilities = sap_utilities,\r\n",
                "                                      sap_to_edfi_complex = sap_to_edfi_complex,\r\n",
                "                                      final_columns = final_columns,\r\n",
                "                                      _ext_TX_cols = _ext_TX_cols, \r\n",
                "                                      descriptorsDFRef = descriptorsDFRef,\r\n",
                "                                      descriptors = descriptors) "
            ],
            "outputs": []
        },
        {
            "cell_type": "markdown",
            "metadata": {
                "nteract": {
                    "transient": {
                        "deleting": false
                    }
                }
            },
            "source": [
                "### SQL DB Creation - Class Definitions"
            ],
            "outputs": []
        },
        {
            "execution_count": 124,
            "cell_type": "code",
            "metadata": {
                "jupyter": {
                    "source_hidden": false,
                    "outputs_hidden": false
                },
                "nteract": {
                    "transient": {
                        "deleting": false
                    }
                }
            },
            "source": [
                "import pyodbc\r\n",
                "import os\r\n",
                "import json\r\n",
                "import logging\r\n",
                "from datetime import datetime\r\n",
                "\r\n",
                "class SQLDatabase:\r\n",
                "    def __init__(self, server_name, database_name, user_name, password, driver=driver):\r\n",
                "        self.server_name = server_name\r\n",
                "        self.database_name = database_name\r\n",
                "        self.user_name = user_name\r\n",
                "        self.password = password\r\n",
                "        self.driver = driver\r\n",
                "        self.connection = self.connect_to_database()\r\n",
                "\r\n",
                "    def connect_to_database(self):\r\n",
                "        connection_string = f\"DRIVER={{{self.driver}}};SERVER={self.server_name};DATABASE={self.database_name};UID={self.user_name};PWD={self.password};\"\r\n",
                "        return pyodbc.connect(connection_string)\r\n",
                "\r\n",
                "    def execute_query(self, query, isResult = False):\r\n",
                "        cursor = self.connection.cursor()\r\n",
                "        cursor.execute(query)\r\n",
                "        if isResult:\r\n",
                "            result = int(cursor.fetchone()[0])\r\n",
                "        else:\r\n",
                "            result = None\r\n",
                "        self.connection.commit()\r\n",
                "        cursor.close()\r\n",
                "        return result\r\n",
                "\r\n",
                "    def close_connection(self):\r\n",
                "        self.connection.close()\r\n",
                "\r\n",
                "class ViewManager:\r\n",
                "    def __init__(self, sql_db, data_source):\r\n",
                "        self.sql_db = sql_db\r\n",
                "        self.data_source = data_source\r\n",
                "        self.table_suffix = ''\r\n",
                "\r\n",
                "    def drop_view(self, schema, view_name, table_suffix):\r\n",
                "        query = f\"DROP VIEW IF EXISTS [{schema}].[{view_name}{table_suffix}]\"\r\n",
                "        self.sql_db.execute_query(query)\r\n",
                "    \r\n",
                "    def create_schema_if_not_exists(self, schema):\r\n",
                "        # NOTE: Under Dev & Review\r\n",
                "        query = f\"SELECT count(*) FROM sys.schemas WHERE name = N'{schema}';\"        \r\n",
                "        isSchema = self.sql_db.execute_query(query, isResult = True)\r\n",
                "        if isSchema == 0:\r\n",
                "            logger.info(f'CREATING SCHEMA {schema}')\r\n",
                "            query = f\"CREATE SCHEMA [{schema}] AUTHORIZATION [dbo]\"\r\n",
                "            self.sql_db.execute_query(query)\r\n",
                "                \r\n",
                "    def create_view(self, schema, view_name,file_path, table_suffix):\r\n",
                "        if file_path.startswith('stage2/Refined/'):\r\n",
                "            file_path = \"/\".join(file_path.split('/')[2:])\r\n",
                "        query = f\"\"\"CREATE VIEW [{schema}].[{view_name}{table_suffix}]\r\n",
                "                AS SELECT *\r\n",
                "                FROM  \r\n",
                "                    OPENROWSET(\r\n",
                "                        BULK '{file_path}',\r\n",
                "                        DATA_SOURCE = '{self.data_source}',\r\n",
                "                        FORMAT='DELTA'\r\n",
                "                    ) nyc\"\"\"\r\n",
                "        self.sql_db.execute_query(query)\r\n",
                "\r\n",
                "    def add_view_to_sql_db(self, schema, view_name, file_path, overwrite=True):\r\n",
                "        table_suffix = self.table_suffix\r\n",
                "        if view_name.lower().endswith('exts'):\r\n",
                "            table_suffix = '_tx'\r\n",
                "        if overwrite:\r\n",
                "            logging.info('Overwrite Mode Active - Dropping SQL DB Table')\r\n",
                "            self.drop_view(schema, view_name, table_suffix)\r\n",
                "        else:\r\n",
                "            logging.info('Overwrite Mode Inactive')\r\n",
                "        self.create_view(schema, view_name,file_path, table_suffix)\r\n",
                "\r\n",
                "    def create_and_populate_views(self, schema, schema_path, view_names, table_suffix = '',overwrite=False):\r\n",
                "        self.table_suffix = table_suffix\r\n",
                "        self.create_schema_if_not_exists(schema)\r\n",
                "        for view_name in view_names:\r\n",
                "            logging.info(f'Creating View - {view_name}')\r\n",
                "            view_path = f\"{schema_path}/{view_name}\"\r\n",
                "            try:\r\n",
                "                self.add_view_to_sql_db(schema, view_name, view_path, overwrite)\r\n",
                "            except Exception as error:\r\n",
                "                logging.error(f'An error occurred while creating the SQL DB Table - {error}')"
            ],
            "outputs": []
        },
        {
            "cell_type": "markdown",
            "metadata": {
                "nteract": {
                    "transient": {
                        "deleting": false
                    }
                }
            },
            "source": [
                "### Empty Schema - Utilities"
            ],
            "outputs": []
        },
        {
            "execution_count": 125,
            "cell_type": "code",
            "metadata": {
                "jupyter": {
                    "source_hidden": false,
                    "outputs_hidden": false
                },
                "nteract": {
                    "transient": {
                        "deleting": false
                    }
                }
            },
            "source": [
                "def initialize_sap_pipeline_vars(sapVersion = '1.0',\r\n",
                "                                 districtId = '101912',\r\n",
                "                                 schoolYear = '2023',\r\n",
                "                                 base_path = '',\r\n",
                "                                 column_mapping_file_path = ''):\r\n",
                "    for descriptor in sap_process_client.descriptors:\r\n",
                "        descriptor_path = f\"{base_path}/ed-fi/{descriptor}\"\r\n",
                "        # FIXME: Temp Fix\r\n",
                "        try:\r\n",
                "            sap_process_client.descriptorsDFRef[descriptor] = sap_utilities.loadDescriptors(descriptor_path).cache()\r\n",
                "        except Exception as error:\r\n",
                "            sap_process_client.descriptorsDFRef[descriptor] = sap_utilities.loadDescriptors(descriptor_path.replace('/ed-fi', '/TX')).cache()\r\n",
                "\r\n",
                "    column_mapping_file_url = oea.to_url(column_mapping_file_path) \r\n",
                "    column_mappings = sap_utilities.extract_refined_cols_mapping(column_mapping_file_url)\r\n",
                "\r\n",
                "    return column_mappings\r\n",
                "\r\n",
                "def get_non_ext_entities(entities_meta_info):\r\n",
                "    non_ext_table_names = list()\r\n",
                "    for entity_meta_info in entities_meta_info:\r\n",
                "        non_ext_table_names.append(entity_meta_info['resource'].split('/')[-1])\r\n",
                "    return non_ext_table_names\r\n",
                "\r\n",
                "def non_common_elements(emptyTables, etlTables):\r\n",
                "        emptyNonEtlTables = set(emptyTables) - set(etlTables) \r\n",
                "        emptyNonEtlTables = list(emptyNonEtlTables) #+ list(unique_in_list2)\r\n",
                "        return emptyNonEtlTables"
            ],
            "outputs": []
        },
        {
            "cell_type": "markdown",
            "metadata": {
                "nteract": {
                    "transient": {
                        "deleting": false
                    }
                }
            },
            "source": [
                "### Automated Views Creations"
            ],
            "outputs": []
        },
        {
            "execution_count": 126,
            "cell_type": "code",
            "metadata": {
                "jupyter": {
                    "source_hidden": false,
                    "outputs_hidden": false
                },
                "nteract": {
                    "transient": {
                        "deleting": false
                    }
                }
            },
            "source": [
                "assign_default_variable(variable_name = 'data_source', \r\n",
                "                        default_value = 'sdb_prod_s2r_sap_peims_data_source')"
            ],
            "outputs": []
        },
        {
            "execution_count": 127,
            "cell_type": "code",
            "metadata": {
                "jupyter": {
                    "source_hidden": false,
                    "outputs_hidden": false
                },
                "nteract": {
                    "transient": {
                        "deleting": false
                    }
                }
            },
            "source": [
                "sql_db = SQLDatabase(server_name, database_name, user_name, db_password)\r\n",
                "view_manager = ViewManager(sql_db, data_source)"
            ],
            "outputs": []
        },
        {
            "cell_type": "markdown",
            "metadata": {
                "nteract": {
                    "transient": {
                        "deleting": false
                    }
                }
            },
            "source": [
                "#### Main Tables + TX Extended Tables"
            ],
            "outputs": []
        },
        {
            "execution_count": 63,
            "cell_type": "code",
            "metadata": {
                "jupyter": {
                    "source_hidden": false,
                    "outputs_hidden": false
                },
                "nteract": {
                    "transient": {
                        "deleting": false
                    }
                }
            },
            "source": [
                "root_path = f\"stage2/Refined/SAP/analytics/pipeline={sap_pipeline}/pipelineType={sap_pipelineType}/{sapVersion}/general\"\r\n",
                "edfi_tables_path = f\"{root_path}/ed-fi\"\r\n",
                "tx_tables_path = f\"{root_path}/tx\"\r\n",
                "\r\n",
                "edfi_tables = oea.get_folders(edfi_tables_path)\r\n",
                "tx_tables = oea.get_folders(tx_tables_path)\r\n",
                "view_manager.create_and_populate_views(schema =  'dbo', \r\n",
                "                                       schema_path = edfi_tables_path, \r\n",
                "                                       view_names = edfi_tables, \r\n",
                "                                       table_suffix = '',\r\n",
                "                                       overwrite = True)\r\n",
                "view_manager.create_and_populate_views(schema =  'dbo', \r\n",
                "                                       schema_path = tx_tables_path, \r\n",
                "                                       view_names = tx_tables, \r\n",
                "                                       table_suffix = '_tx',\r\n",
                "                                       overwrite = True)"
            ],
            "outputs": []
        },
        {
            "cell_type": "markdown",
            "metadata": {
                "nteract": {
                    "transient": {
                        "deleting": false
                    }
                }
            },
            "source": [
                "#### Descriptor Tables"
            ],
            "outputs": []
        },
        {
            "execution_count": 128,
            "cell_type": "code",
            "metadata": {
                "jupyter": {
                    "source_hidden": false,
                    "outputs_hidden": false
                },
                "nteract": {
                    "transient": {
                        "deleting": false
                    }
                }
            },
            "source": [
                "edfi_descriptorTables_path = f'stage2/Refined/SAP/analytics/descriptorTables/1.0/ed-fi/general'\r\n",
                "tx_descriptorTables_path = f'stage2/Refined/SAP/analytics/descriptorTables/1.0/TX/general'\r\n",
                "\r\n",
                "edfi_descriptorTables = oea.get_folders(edfi_descriptorTables_path)\r\n",
                "tx_descriptorTables = oea.get_folders(tx_descriptorTables_path)\r\n",
                "\r\n",
                "view_manager.create_and_populate_views(schema =  'dbo', \r\n",
                "                                       schema_path = edfi_descriptorTables_path, \r\n",
                "                                       view_names = edfi_descriptorTables, \r\n",
                "                                       table_suffix = '',\r\n",
                "                                       overwrite = True)\r\n",
                "view_manager.create_and_populate_views(schema =  'dbo', \r\n",
                "                                       schema_path = tx_descriptorTables_path, \r\n",
                "                                       view_names = tx_descriptorTables, \r\n",
                "                                       table_suffix = '_tx',\r\n",
                "                                       overwrite = True)"
            ],
            "outputs": []
        },
        {
            "cell_type": "markdown",
            "metadata": {
                "nteract": {
                    "transient": {
                        "deleting": false
                    }
                }
            },
            "source": [
                "#### Empty Tables"
            ],
            "outputs": []
        },
        {
            "cell_type": "code",
            "metadata": {
                "jupyter": {
                    "source_hidden": false,
                    "outputs_hidden": false
                },
                "nteract": {
                    "transient": {
                        "deleting": false
                    }
                }
            },
            "source": [
                "edfi_mainTables = oea.get_folders(f\"stage2/Refined/SAP/analytics/pipeline={sap_pipeline}/pipelineType={sap_pipelineType}/{sapVersion}/general/ed-fi\")\r\n",
                "tx_mainTables = oea.get_folders(f\"stage2/Refined/SAP/analytics/pipeline={sap_pipeline}/pipelineType={sap_pipelineType}/{sapVersion}/general/tx\")\r\n",
                "mainTables = edfi_mainTables + tx_mainTables\r\n",
                "        \r\n",
                "txDescriptorTables = [sap_to_edfi_complex.get(item, item) for item in oea.get_folders(f\"stage2/Ingested/SAP/descriptorTables/{sapVersion}/DistrictId={districtId}/SchoolYear={schoolYear}/TX\") if item != 'descriptorTables']\r\n",
                "edfiDescriptorTables = [sap_to_edfi_complex.get(item, item) for item in oea.get_folders(f\"stage2/Ingested/SAP/descriptorTables/{sapVersion}/DistrictId={districtId}/SchoolYear={schoolYear}/ed-fi\") if item != 'descriptorTables']\r\n",
                "tpdmDescriptorTables = [sap_to_edfi_complex.get(item, item) for item in oea.get_folders(f\"stage2/Ingested/SAP/descriptorTables/{sapVersion}/DistrictId={districtId}/SchoolYear={schoolYear}/tpdm\") if item != 'descriptorTables']\r\n",
                "descriptorTables = txDescriptorTables + edfiDescriptorTables + tpdmDescriptorTables"
            ],
            "outputs": []
        },
        {
            "cell_type": "code",
            "metadata": {
                "jupyter": {
                    "source_hidden": false,
                    "outputs_hidden": false
                },
                "nteract": {
                    "transient": {
                        "deleting": false
                    }
                }
            },
            "source": [
                "edfi_emptyTables = oea.get_folders('stage2/Refined/SAP/analytics/emptySchemas/general/ed-fi')\r\n",
                "edfi_emptyTables = non_common_elements(edfi_emptyTables, \r\n",
                "                                        mainTables + descriptorTables)\r\n",
                "tx_emptyTables = oea.get_folders('stage2/Refined/SAP/analytics/emptySchemas/general/tx')\r\n",
                "tx_emptyTables = non_common_elements(tx_emptyTables, \r\n",
                "                                    mainTables + descriptorTables)\r\n",
                "\r\n",
                "edfi_emptyTables_path = f'stage2/Refined/SAP/analytics/emptySchemas/general/ed-fi'\r\n",
                "tx_emptyTables_path = f'stage2/Refined/SAP/analytics/emptySchemas/general/tx'\r\n",
                "\r\n",
                "view_manager.create_and_populate_views(schema =  'dbo', \r\n",
                "                                       schema_path = edfi_emptyTables_path, \r\n",
                "                                       view_names = edfi_emptyTables, \r\n",
                "                                       table_suffix = '',\r\n",
                "                                       overwrite = True)\r\n",
                "view_manager.create_and_populate_views(schema =  'dbo', \r\n",
                "                                       schema_path = tx_emptyTables_path, \r\n",
                "                                       view_names = tx_emptyTables, \r\n",
                "                                       table_suffix = '_tx',\r\n",
                "                                       overwrite = True)"
            ],
            "outputs": []
        }
    ]
}