{
    "nbformat": 4,
    "nbformat_minor": 2,
    "metadata": {
        "save_output": true,
        "language_info": {
            "name": "python"
        }
    },
    "cells": [
        {
            "execution_count": 3,
            "cell_type": "code",
            "metadata": {
                "jupyter": {
                    "source_hidden": false,
                    "outputs_hidden": false
                },
                "nteract": {
                    "transient": {
                        "deleting": false
                    }
                }
            },
            "source": [
                "instance = instanceId = InstanceId\r\n",
                "apiUrl = ApiUrl\r\n",
                "schoolYear = SchoolYear\r\n",
                "DistrictId = DistrictID = districtId = districtID\r\n",
                "apiLimit = batchLimit\r\n",
                "\r\n",
                "prepareSAPMetaData = prepareSAPMetadata\r\n",
                "zone = submissionsType = sap_pipeline"
            ],
            "outputs": []
        },
        {
            "execution_count": 4,
            "cell_type": "code",
            "metadata": {
                "jupyter": {
                    "source_hidden": false,
                    "outputs_hidden": false
                },
                "nteract": {
                    "transient": {
                        "deleting": false
                    }
                }
            },
            "source": [
                "import pyspark\r\n",
                "from pyspark.sql import SparkSession\r\n",
                "from pyspark.sql.utils import AnalysisException\r\n",
                "from pyspark.sql.functions import input_file_name, lit, expr"
            ],
            "outputs": []
        },
        {
            "execution_count": 5,
            "cell_type": "code",
            "metadata": {
                "jupyter": {
                    "source_hidden": false,
                    "outputs_hidden": false
                },
                "nteract": {
                    "transient": {
                        "deleting": false
                    }
                }
            },
            "source": [
                "print('INGESTION - TESTING PARAMETERIZATION')\r\n",
                "try:\r\n",
                "    print(kVName)\r\n",
                "    print(workspace)\r\n",
                "    print(apiUrl)\r\n",
                "    print(instanceId)\r\n",
                "    print(moduleName)\r\n",
                "    print(apiLimit)\r\n",
                "    print(minChangeVer)\r\n",
                "    print(maxChangeVer)\r\n",
                "    print(sapVersion)\r\n",
                "    print(prepareSAPMetaData)\r\n",
                "    print(submissions)\r\n",
                "    print(submissionsType)\r\n",
                "    print(schoolYear)\r\n",
                "    print(districtID)\r\n",
                "    print(pipelineExecutionId)\r\n",
                "\r\n",
                "    kvName = kVName\r\n",
                "    districtId = districtID\r\n",
                "    districtPath = districtId\r\n",
                "    \r\n",
                "except Exception as params_error:\r\n",
                "    print('CATCHING ERROR!!!')\r\n",
                "    print(params_error)"
            ],
            "outputs": []
        },
        {
            "cell_type": "markdown",
            "metadata": {
                "nteract": {
                    "transient": {
                        "deleting": false
                    }
                }
            },
            "source": [
                "### URLs Initializations"
            ],
            "outputs": []
        },
        {
            "execution_count": 6,
            "cell_type": "code",
            "metadata": {
                "jupyter": {
                    "source_hidden": false,
                    "outputs_hidden": false
                },
                "nteract": {
                    "transient": {
                        "deleting": false
                    }
                }
            },
            "source": [
                "%run OEA/modules/Ed-Fi/v0.7/src/utilities/edfi_v0_7_fetch_urls"
            ],
            "outputs": []
        },
        {
            "execution_count": 7,
            "cell_type": "code",
            "metadata": {
                "jupyter": {
                    "source_hidden": false,
                    "outputs_hidden": false
                },
                "nteract": {
                    "transient": {
                        "deleting": false
                    }
                }
            },
            "source": [
                "instance_id = instanceId\r\n",
                "school_year = schoolYear\r\n",
                "api_year = school_year\r\n",
                "api_url = apiUrl\r\n",
                "\r\n",
                "# FIXME: 2024-01-31 TEMP FIX FOR FY\r\n",
                "try:\r\n",
                "    edfi_api_manager = EdFiApiManager(api_url, instance_id, api_year)\r\n",
                "    edfi_api_manager.update_urls()\r\n",
                "    edfi_api_manager.set_other_metadata()\r\n",
                "\r\n",
                "    dependenciesUrl = edfi_api_manager.dependencies_url\r\n",
                "    openApiMetadataUrl = edfi_api_manager.openapi_metadata_url\r\n",
                "    dataManagementUrl = edfi_api_manager.data_management_url\r\n",
                "    authUrl = edfi_api_manager.auth_url\r\n",
                "\r\n",
                "    changeQueriesUrl = edfi_api_manager.get_referenced_url('Change-Queries')\r\n",
                "    changeQueriesUrl = changeQueriesUrl[:-13].replace('/metadata/', '/')\r\n",
                "    swagger_url = swaggerUrl = edfi_api_manager.get_referenced_url('Resources')\r\n",
                "\r\n",
                "    apiVersion = edfi_api_manager.api_version\r\n",
                "    apiVersion = apiVersion[1:] if apiVersion.startswith('v') else apiVersion\r\n",
                "except Exception as error:\r\n",
                "    edfi_api_manager = EdFiApiManager(api_url, instance_id, '')\r\n",
                "    edfi_api_manager.update_urls()\r\n",
                "    edfi_api_manager.set_other_metadata()\r\n",
                "\r\n",
                "    dependenciesUrl = edfi_api_manager.dependencies_url\r\n",
                "    openApiMetadataUrl = edfi_api_manager.openapi_metadata_url\r\n",
                "    dataManagementUrl = edfi_api_manager.data_management_url\r\n",
                "    authUrl = edfi_api_manager.auth_url\r\n",
                "\r\n",
                "    changeQueriesUrl = edfi_api_manager.get_referenced_url('Change-Queries')\r\n",
                "    changeQueriesUrl = changeQueriesUrl[:-13].replace('/metadata/', '/')\r\n",
                "    swagger_url = swaggerUrl = edfi_api_manager.get_referenced_url('Resources')\r\n",
                "\r\n",
                "    apiVersion = edfi_api_manager.api_version\r\n",
                "    apiVersion = apiVersion[1:] if apiVersion.startswith('v') else apiVersion"
            ],
            "outputs": []
        },
        {
            "cell_type": "markdown",
            "metadata": {
                "nteract": {
                    "transient": {
                        "deleting": false
                    }
                }
            },
            "source": [
                "### OEA Initiliazations"
            ],
            "outputs": []
        },
        {
            "execution_count": 8,
            "cell_type": "code",
            "metadata": {
                "jupyter": {
                    "source_hidden": false,
                    "outputs_hidden": false
                },
                "nteract": {
                    "transient": {
                        "deleting": false
                    }
                }
            },
            "source": [
                "%run EdGraph/modules/SAP_PEIMS/v0.6/src/utilities/sap_peim_v0_6_sap_py"
            ],
            "outputs": []
        },
        {
            "execution_count": 9,
            "cell_type": "code",
            "metadata": {
                "jupyter": {
                    "source_hidden": false,
                    "outputs_hidden": false
                },
                "nteract": {
                    "transient": {
                        "deleting": false
                    }
                }
            },
            "source": [
                "from datetime import datetime\r\n",
                "oea = SAPEdFiOEAChild(workspace='dev', \r\n",
                "                      logging_level=logging.INFO, \r\n",
                "                      storage_account=None, \r\n",
                "                      keyvault=None, \r\n",
                "                      timezone=None,\r\n",
                "                      sap_pipeline = sap_pipeline,\r\n",
                "                      sap_pipelineType = sap_pipelineType)   \r\n",
                "oea.set_workspace(workspace)\r\n",
                "oea.ingestionHistoryMode=ingestionHistoryMode"
            ],
            "outputs": []
        },
        {
            "cell_type": "markdown",
            "metadata": {
                "nteract": {
                    "transient": {
                        "deleting": false
                    }
                }
            },
            "source": [
                "### Metadata For Processing"
            ],
            "outputs": []
        },
        {
            "execution_count": 10,
            "cell_type": "code",
            "metadata": {
                "jupyter": {
                    "source_hidden": false,
                    "outputs_hidden": false
                },
                "nteract": {
                    "transient": {
                        "deleting": false
                    }
                }
            },
            "source": [
                "metadata_path = \"stage1/Transactional/SAP/metadata-assets/sap-to-edfi.json\"\r\n",
                "metadata_url = oea.to_url(metadata_path)"
            ],
            "outputs": []
        },
        {
            "execution_count": 11,
            "cell_type": "code",
            "metadata": {
                "jupyter": {
                    "source_hidden": false,
                    "outputs_hidden": false
                },
                "nteract": {
                    "transient": {
                        "deleting": false
                    }
                }
            },
            "source": [
                "jsonDF = spark.read.option(\"multiline\", \"true\").json(metadata_url).cache()\r\n",
                "\r\n",
                "json_string = jsonDF.toJSON().collect()[0]\r\n",
                "config_data = json.loads(json_string)"
            ],
            "outputs": []
        },
        {
            "cell_type": "markdown",
            "metadata": {
                "nteract": {
                    "transient": {
                        "deleting": false
                    }
                }
            },
            "source": [
                "### SAP & Error Logging Initializations"
            ],
            "outputs": []
        },
        {
            "execution_count": 12,
            "cell_type": "code",
            "metadata": {
                "jupyter": {
                    "source_hidden": false,
                    "outputs_hidden": false
                },
                "nteract": {
                    "transient": {
                        "deleting": false
                    }
                }
            },
            "source": [
                "error_logger = ErrorLogging(spark = spark, \r\n",
                "                            oea = oea, \r\n",
                "                            logger = logger)"
            ],
            "outputs": []
        },
        {
            "execution_count": 13,
            "cell_type": "code",
            "metadata": {
                "jupyter": {
                    "source_hidden": false,
                    "outputs_hidden": false
                },
                "nteract": {
                    "transient": {
                        "deleting": false
                    }
                }
            },
            "source": [
                "oea_utils = schema_gen = SAPOpenAPIUtilChild(swagger_url)\r\n",
                "oea_utils.create_definitions()\r\n",
                "schemas = schema_gen.create_spark_schemas()\r\n",
                "\r\n",
                "primitive_datatypes = ['timestamp', 'date', 'decimal', 'boolean', 'integer', 'string', 'long']"
            ],
            "outputs": []
        },
        {
            "execution_count": 14,
            "cell_type": "code",
            "metadata": {
                "jupyter": {
                    "source_hidden": false,
                    "outputs_hidden": false
                },
                "nteract": {
                    "transient": {
                        "deleting": false
                    }
                }
            },
            "source": [
                "sap_utilities = SAPUtilities(spark = spark, \r\n",
                "                             oea = oea)"
            ],
            "outputs": []
        },
        {
            "execution_count": 15,
            "cell_type": "code",
            "metadata": {
                "jupyter": {
                    "source_hidden": false,
                    "outputs_hidden": false
                },
                "nteract": {
                    "transient": {
                        "deleting": false
                    }
                }
            },
            "source": [
                "sap_to_edfi_complex = config_data.get('sap_to_edfi_complex', {})\r\n",
                "final_columns = config_data.get('final_columns', {})\r\n",
                "_ext_TX_cols = config_data.get('_ext_TX_cols', {})\r\n",
                "descriptorsDFRef = config_data.get('descriptorsDFRef', {})\r\n",
                "descriptors = config_data.get('descriptors', [])\r\n",
                "metadata_pipeline_type_mappings = config_data.get('metadata_pipeline_type_mappings', {})\r\n",
                "natural_keys = config_data.get('natural_keys', {}).get('sap', {}) "
            ],
            "outputs": []
        },
        {
            "cell_type": "markdown",
            "metadata": {
                "nteract": {
                    "transient": {
                        "deleting": false
                    }
                }
            },
            "source": [
                "### Main Code"
            ],
            "outputs": []
        },
        {
            "execution_count": 16,
            "cell_type": "code",
            "metadata": {
                "jupyter": {
                    "source_hidden": false,
                    "outputs_hidden": false
                },
                "nteract": {
                    "transient": {
                        "deleting": false
                    }
                }
            },
            "source": [
                "def should_ingest(entity_path):\r\n",
                "    raw_path = f'stage1/Transactional/{entity_path}'\r\n",
                "    try:\r\n",
                "        batch_info = oea.get_batch_info(raw_path)\r\n",
                "        batch_type, source_data_format = batch_info[0]\r\n",
                "\r\n",
                "        logger.info(f'Ingesting from: {raw_path}, batch type of: {batch_type}, source data format of: {source_data_format}')\r\n",
                "        source_url = oea.to_url(f'{raw_path}/{batch_type}_batch_data')\r\n",
                "        logger.info(f\"{oea.get_latest_folder(source_url)}\")\r\n",
                "        source = f'{source_url}/{oea.get_latest_folder(source_url)}'\r\n",
                "    \r\n",
                "        return oea.get_folder_size(source) > 0\r\n",
                "    except:\r\n",
                "        return False"
            ],
            "outputs": []
        },
        {
            "execution_count": 17,
            "cell_type": "code",
            "metadata": {
                "jupyter": {
                    "source_hidden": false,
                    "outputs_hidden": false
                },
                "nteract": {
                    "transient": {
                        "deleting": false
                    }
                }
            },
            "source": [
                "def return_sap_entities(sap_pipeline, sap_pipelineType):\r\n",
                "    if sap_pipeline == 'TEA':\r\n",
                "        if sap_pipelineType == 'PEIMS_FALL':\r\n",
                "            return ['YHROHPM04', 'YHROHPM07', 'YHROHPM08', 'YHROHPM09', 'YHROHPM10', 'YFMOHPEIM']\r\n",
                "        elif sap_pipelineType == 'PEIMS_MIDYR':\r\n",
                "            return ['YFIOHPEIM']\r\n",
                "        elif sap_pipelineType == 'PEIMS_EXYR':\r\n",
                "            return ['YHROHPM04']\r\n",
                "        elif sap_pipelineType == 'TSDS_ECDS_KG':\r\n",
                "            return ['YHROHPM03']\r\n",
                "        elif sap_pipelineType == 'TSDS_CLASS_ROSTER_FALL':\r\n",
                "            return ['YHROHPM05']\r\n",
                "        elif sap_pipelineType == 'TSDS_ECDS_PK':\r\n",
                "            return ['YHROHPM02']\r\n",
                "    return None"
            ],
            "outputs": []
        },
        {
            "execution_count": 18,
            "cell_type": "code",
            "metadata": {
                "tags": [],
                "language": "python",
                "azdata_cell_guid": "0c594c87-0c6f-4226-a3f4-f22f14399eaf"
            },
            "source": [
                "from datetime import datetime\r\n",
                "\r\n",
                "def threaded_task(input_tuple):\r\n",
                "    item,entity_base_path,tables_source, create_natural_key, natural_keys = input_tuple\r\n",
                "    table_path = tables_source +'/'+ item\r\n",
                "    try:\r\n",
                "        entity_path = entity_base_path + '/' + item  \r\n",
                "        if item == 'metadata.csv' or item == 'descriptorTables':\r\n",
                "            logger.info('Ignore Metadata, since this is not a table to be ingested')\r\n",
                "        else:\r\n",
                "            start_time = datetime.now()\r\n",
                "            number_of_inbound_changes = 0\r\n",
                "            if(should_ingest(entity_path)):\r\n",
                "                if create_natural_key:\r\n",
                "                    hashing = True\r\n",
                "                    natural_key = natural_keys.get(item, ['RECORD']) #+ ['DistrictId', 'SchoolYear']\r\n",
                "                else:\r\n",
                "                    hashing = False\r\n",
                "                    natural_key = None#natural_keys.get(item, ['RECORD']) #+ ['DistrictId', 'SchoolYear']\r\n",
                "                number_of_inbound_changes = oea.ingest(entity_path, \r\n",
                "                                                        primary_key = primary_key,\r\n",
                "                                                        hashing = hashing,\r\n",
                "                                                        natural_key = natural_key,\r\n",
                "                                                        landingDateTimeFormat = landingDateTimeFormat,\r\n",
                "                                                        ingestionHistoryMode = ingestionHistoryMode)\r\n",
                "            end_time = datetime.now()\r\n",
                "            \r\n",
                "            #NOTE: Output Rows = Input Rows = Inbound Rows\r\n",
                "            numInputRows = numOutputRows = number_of_inbound_changes\r\n",
                "            log_data = error_logger.create_log_dict(uniqueId = error_logger.generate_random_alphanumeric(10), # Generate a random 10-character alphanumeric value\r\n",
                "                                            pipelineExecutionId = pipelineExecutionId,#'TEST_1234',#executionId,\r\n",
                "                                            sparkSessionId = spark.sparkContext.applicationId,\r\n",
                "                                            sap_pipeline = sap_pipeline,\r\n",
                "                                            sap_pipelineType = sap_pipelineType,\r\n",
                "                                            stageName = \"Ingestion\",\r\n",
                "                                            schemaFormat = 'sap',\r\n",
                "                                            entityType = 'sap',\r\n",
                "                                            entityName = item,\r\n",
                "                                            numInputRows = numInputRows,\r\n",
                "                                            totalNumOutputRows = numOutputRows,\r\n",
                "                                            numTargetRowsInserted = numOutputRows, #TODO: To be reviews\r\n",
                "                                            numTargetRowsUpdated = 0,\r\n",
                "                                            numRecordsSkipped = 0,\r\n",
                "                                            numRecordsDeleted = 0,\r\n",
                "                                            start_time = start_time,\r\n",
                "                                            end_time = end_time,\r\n",
                "                                            insertionType = 'append' if ingestionHistoryMode else 'upsert',\r\n",
                "                                            emptySchemaMetadata = False)\r\n",
                "            error_logger.consolidate_logs(log_data,'entity')\r\n",
                "    except AnalysisException as e:\r\n",
                "        # This means the table may have not been properly refined due to errors with the primary key not aligning with columns expected in the lookup table.\r\n",
                "        logger.info(f\"Analysis Exception - {e}\")\r\n",
                "\r\n",
                "def ingest_sap_dataset(tables_source,zone, items = None,primary_key = 'RECORD',create_natural_key = False, natural_keys = {}):\r\n",
                "    global schoolYear, districtId, pipelineExecutionId, landingDateTimeFormat, ingestionHistoryMode\r\n",
                "\r\n",
                "    entity_base_path = '/'.join(tables_source.split('/')[2:])\r\n",
                "    executionId = f'TEST_{error_logger.generate_random_alphanumeric(10)}' \r\n",
                "    sap_pipeline = zone\r\n",
                "    if items is None:\r\n",
                "        items = oea.get_folders(tables_source)\r\n",
                "    else:\r\n",
                "        temp_items = set(oea.get_folders(tables_source))\r\n",
                "        items = list(temp_items.intersection(items))\r\n",
                "    # items = ['YFIOHPEIM']\r\n",
                "    with ThreadPoolExecutor(max_workers=2) as tpe:\r\n",
                "        logger.info('[INGESTION THREAD] Entered Threadpool')\r\n",
                "        tpe.map(threaded_task,[(item,entity_base_path,tables_source, create_natural_key, natural_keys) for item in items])        "
            ],
            "outputs": []
        },
        {
            "execution_count": 51,
            "cell_type": "code",
            "metadata": {
                "language": "python",
                "azdata_cell_guid": "cc918363-83f5-420e-ae81-2a6c8be64932"
            },
            "source": [
                "create_natural_key = True\r\n",
                "primary_key = 'NATURAL_KEY_HASH' # NOTE: Use 'NATURAL_KEY_HASH' when create_natural_key = True and 'RECORD' is not right PK\r\n",
                "items = return_sap_entities(sap_pipeline, sap_pipelineType)\r\n",
                "\r\n",
                "ingest_sap_dataset(tables_source = f'stage1/Transactional/SAP/pipeline={sap_pipeline}/pipelineType={sap_pipelineType}/{sapVersion}/DistrictId={districtId}/SchoolYear={schoolYear}', \r\n",
                "                   zone = zone,\r\n",
                "                   items = items,\r\n",
                "                   primary_key = primary_key,\r\n",
                "                   create_natural_key = create_natural_key,\r\n",
                "                   natural_keys = natural_keys)"
            ],
            "outputs": []
        },
        {
            "execution_count": 45,
            "cell_type": "code",
            "metadata": {
                "jupyter": {
                    "source_hidden": false,
                    "outputs_hidden": false
                },
                "nteract": {
                    "transient": {
                        "deleting": false
                    }
                }
            },
            "source": [
                "if error_logger.entity_logs != []:\r\n",
                "    logger.info('Writing Entity Level Error Logs')\r\n",
                "    df = error_logger.create_spark_df('entity')\r\n",
                "    error_logger.write_logs_to_delta_lake(df = df, \r\n",
                "                                log_type = 'entity',\r\n",
                "                                destination_url = error_logger.to_logs_url('etl-logs/log_type=entity'))\r\n",
                "    error_logger.add_etl_logs_to_lake_db(db_name = f'ldb_{workspace}_sap_etl_logs',\r\n",
                "                                        logs_base_path = 'etl-logs',\r\n",
                "                                        log_type = 'entity',\r\n",
                "                                        overwrite = True)"
            ],
            "outputs": []
        }
    ]
}