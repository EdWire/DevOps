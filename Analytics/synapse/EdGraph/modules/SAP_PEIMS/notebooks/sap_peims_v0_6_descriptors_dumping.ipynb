{
    "nbformat": 4,
    "nbformat_minor": 2,
    "metadata": {
        "save_output": true,
        "language_info": {
            "name": "python"
        }
    },
    "cells": [
        {
            "execution_count": 36,
            "cell_type": "code",
            "metadata": {
                "jupyter": {
                    "source_hidden": false,
                    "outputs_hidden": false
                },
                "nteract": {
                    "transient": {
                        "deleting": false
                    }
                }
            },
            "source": [
                "instance = instanceId = InstanceId\r\n",
                "apiUrl = ApiUrl\r\n",
                "schoolYear = SchoolYear\r\n",
                "DistrictId = DistrictID = districtId = districtID\r\n",
                "apiLimit = batchLimit\r\n",
                "\r\n",
                "prepareSAPMetaData = prepareSAPMetadata\r\n",
                "zone = submissionsType = sap_pipeline"
            ],
            "outputs": []
        },
        {
            "execution_count": 37,
            "cell_type": "code",
            "metadata": {
                "jupyter": {
                    "source_hidden": false,
                    "outputs_hidden": false
                },
                "nteract": {
                    "transient": {
                        "deleting": false
                    }
                }
            },
            "source": [
                "from notebookutils import mssparkutils\r\n",
                "import configparser\r\n",
                "\r\n",
                "config_path = \"/tmp/conf.ini\"\r\n",
                "def copy_config_to_temp():\r\n",
                "    mssparkutils.fs.cp(oea.to_url(\"stage1/Transactional/SAP/metadata-assets/edfi-configs.ini\"),\"file:/tmp/conf.ini\")\r\n",
                "\r\n",
                "def read_edfi_credentials(config_path):\r\n",
                "    config = configparser.ConfigParser()\r\n",
                "    config.read(config_path)\r\n",
                "\r\n",
                "    edfi_credentials = {}\r\n",
                "\r\n",
                "    if 'EdFi' in config:\r\n",
                "        edfi_credentials['client_id'] = config['EdFi'].get('client_id', '')\r\n",
                "        edfi_credentials['client_secret'] = config['EdFi'].get('client_secret', '')\r\n",
                "\r\n",
                "    return edfi_credentials"
            ],
            "outputs": []
        },
        {
            "cell_type": "code",
            "metadata": {
                "jupyter": {
                    "source_hidden": false,
                    "outputs_hidden": false
                },
                "nteract": {
                    "transient": {
                        "deleting": false
                    }
                }
            },
            "source": [
                "%run EdGraph/modules/SAP_PEIMS/v0.6/src/utilities/sap_peim_v0_6_dump_column_mapping"
            ],
            "outputs": []
        },
        {
            "execution_count": 38,
            "cell_type": "code",
            "metadata": {
                "jupyter": {
                    "source_hidden": false,
                    "outputs_hidden": false
                },
                "nteract": {
                    "transient": {
                        "deleting": false
                    }
                }
            },
            "source": [
                "# FIXME: Do not pass uncessary params\r\n",
                "input_params = {\r\n",
                "        \"kvName\": kvName,\r\n",
                "        \"kVName\": kvName,\r\n",
                "        \"workspace\": workspace,\r\n",
                "        \"apiUrl\": apiUrl,\r\n",
                "        \"instanceId\": instanceId,\r\n",
                "        \"moduleName\": moduleName,\r\n",
                "        \"apiLimit\": apiLimit,\r\n",
                "        \"minChangeVer\": minChangeVer,\r\n",
                "        \"maxChangeVer\": maxChangeVer,\r\n",
                "        \"sapVersion\": sapVersion,\r\n",
                "        \"prepareSAPMetaData\": prepareSAPMetaData,\r\n",
                "        \"submissions\": submissions,\r\n",
                "        \"submissionsType\": submissionsType,\r\n",
                "        \"schoolYear\": schoolYear,\r\n",
                "        \"districtId\": districtId,\r\n",
                "        \"districtID\": districtId,\r\n",
                "        \"edfi_url\": apiUrl,\r\n",
                "        \"pipelineExecutionId\" : pipelineExecutionId\r\n",
                "    }"
            ],
            "outputs": []
        },
        {
            "execution_count": 39,
            "cell_type": "code",
            "metadata": {
                "jupyter": {
                    "source_hidden": false,
                    "outputs_hidden": false
                },
                "nteract": {
                    "transient": {
                        "deleting": false
                    }
                }
            },
            "source": [
                "import pyspark\r\n",
                "from pyspark.sql import SparkSession\r\n",
                "from pyspark.sql.utils import AnalysisException\r\n",
                "from pyspark.sql import Column\r\n",
                "\r\n",
                "from pyspark.sql import functions as F\r\n",
                "from pyspark.sql.types import StringType, StructType, StructField\r\n",
                "\r\n",
                "from pyspark.sql.types import IntegerType\r\n",
                "import pyspark.sql.functions as F\r\n",
                "from pyspark.sql.functions import col, struct, concat, lit, round, concat, array, expr, when, date_format, to_date\r\n",
                "from pyspark.sql.types import StringType\r\n",
                "\r\n",
                "from pyspark.sql import functions as F\r\n",
                "from pyspark.sql.types import StringType, StructType, StructField\r\n",
                "\r\n",
                "from pyspark.sql import SparkSession\r\n",
                "\r\n",
                "import requests\r\n",
                "import csv\r\n",
                "\r\n",
                "import json\r\n",
                "import uuid\r\n",
                "from requests.auth import HTTPBasicAuth\r\n",
                "from datetime import datetime\r\n",
                "import logging\r\n",
                "import json\r\n",
                "\r\n",
                "import threading\r\n",
                "import requests\r\n",
                "import json\r\n",
                "import logging\r\n",
                "import queue\r\n",
                "\r\n",
                "from pyspark.sql.types import StructType, StringType\r\n",
                "from pyspark.sql import functions as F\r\n",
                "from pyspark.sql.functions import col, regexp_replace\r\n",
                "from pyspark.sql import functions as F\r\n",
                "from pyspark.sql.functions import col\r\n",
                ""
            ],
            "outputs": []
        },
        {
            "cell_type": "markdown",
            "metadata": {
                "nteract": {
                    "transient": {
                        "deleting": false
                    }
                }
            },
            "source": [
                "### URLs Initializations"
            ],
            "outputs": []
        },
        {
            "execution_count": 40,
            "cell_type": "code",
            "metadata": {
                "jupyter": {
                    "source_hidden": false,
                    "outputs_hidden": false
                },
                "nteract": {
                    "transient": {
                        "deleting": false
                    }
                }
            },
            "source": [
                "%run OEA/modules/Ed-Fi/v0.7/src/utilities/edfi_v0_7_fetch_urls"
            ],
            "outputs": []
        },
        {
            "execution_count": 41,
            "cell_type": "code",
            "metadata": {
                "jupyter": {
                    "source_hidden": false,
                    "outputs_hidden": false
                },
                "nteract": {
                    "transient": {
                        "deleting": false
                    }
                }
            },
            "source": [
                "instance_id = instanceId\r\n",
                "school_year = schoolYear\r\n",
                "api_year = school_year\r\n",
                "api_url = apiUrl\r\n",
                "\r\n",
                "# FIXME: 2024-01-31 TEMP FIX FOR FY\r\n",
                "try:\r\n",
                "    edfi_api_manager = EdFiApiManager(api_url, instance_id, api_year)\r\n",
                "    edfi_api_manager.update_urls()\r\n",
                "    edfi_api_manager.set_other_metadata()\r\n",
                "\r\n",
                "    dependenciesUrl = edfi_api_manager.dependencies_url\r\n",
                "    openApiMetadataUrl = edfi_api_manager.openapi_metadata_url\r\n",
                "    dataManagementUrl = edfi_api_manager.data_management_url\r\n",
                "    authUrl = edfi_api_manager.auth_url\r\n",
                "\r\n",
                "    changeQueriesUrl = edfi_api_manager.get_referenced_url('Change-Queries')\r\n",
                "    changeQueriesUrl = changeQueriesUrl[:-13].replace('/metadata/', '/')\r\n",
                "    swagger_url = swaggerUrl = edfi_api_manager.get_referenced_url('Resources')\r\n",
                "\r\n",
                "    apiVersion = edfi_api_manager.api_version\r\n",
                "    apiVersion = apiVersion[1:] if apiVersion.startswith('v') else apiVersion\r\n",
                "except Exception as error:\r\n",
                "    edfi_api_manager = EdFiApiManager(api_url, instance_id, '')\r\n",
                "    edfi_api_manager.update_urls()\r\n",
                "    edfi_api_manager.set_other_metadata()\r\n",
                "\r\n",
                "    dependenciesUrl = edfi_api_manager.dependencies_url\r\n",
                "    openApiMetadataUrl = edfi_api_manager.openapi_metadata_url\r\n",
                "    dataManagementUrl = edfi_api_manager.data_management_url\r\n",
                "    authUrl = edfi_api_manager.auth_url\r\n",
                "\r\n",
                "    changeQueriesUrl = edfi_api_manager.get_referenced_url('Change-Queries')\r\n",
                "    changeQueriesUrl = changeQueriesUrl[:-13].replace('/metadata/', '/')\r\n",
                "    swagger_url = swaggerUrl = edfi_api_manager.get_referenced_url('Resources')\r\n",
                "\r\n",
                "    apiVersion = edfi_api_manager.api_version\r\n",
                "    apiVersion = apiVersion[1:] if apiVersion.startswith('v') else apiVersion"
            ],
            "outputs": []
        },
        {
            "cell_type": "markdown",
            "metadata": {
                "nteract": {
                    "transient": {
                        "deleting": false
                    }
                }
            },
            "source": [
                "### OEA Initializations"
            ],
            "outputs": []
        },
        {
            "execution_count": 42,
            "cell_type": "code",
            "metadata": {
                "jupyter": {
                    "source_hidden": false,
                    "outputs_hidden": false
                },
                "nteract": {
                    "transient": {
                        "deleting": false
                    }
                }
            },
            "source": [
                "%run EdGraph/modules/SAP_PEIMS/v0.6/src/utilities/sap_peim_v0_6_sap_py"
            ],
            "outputs": []
        },
        {
            "execution_count": 43,
            "cell_type": "code",
            "metadata": {
                "jupyter": {
                    "source_hidden": false,
                    "outputs_hidden": false
                },
                "nteract": {
                    "transient": {
                        "deleting": false
                    }
                }
            },
            "source": [
                "from datetime import datetime\r\n",
                "oea = SAPEdFiOEAChild(workspace='dev', \r\n",
                "                      logging_level=logging.INFO, \r\n",
                "                      storage_account=None, \r\n",
                "                      keyvault=None, \r\n",
                "                      timezone=None,\r\n",
                "                      sap_pipeline = sap_pipeline,\r\n",
                "                      sap_pipelineType = sap_pipelineType)   \r\n",
                "oea.set_workspace(workspace)\r\n",
                "oea.ingestionHistoryMode=ingestionHistoryMode"
            ],
            "outputs": []
        },
        {
            "execution_count": 44,
            "cell_type": "code",
            "metadata": {
                "jupyter": {
                    "source_hidden": false,
                    "outputs_hidden": false
                },
                "nteract": {
                    "transient": {
                        "deleting": false
                    }
                }
            },
            "source": [
                "# Set Ed-Fi Credentials\r\n",
                "# copy_config_to_temp()\r\n",
                "\r\n",
                "# credentials = read_edfi_credentials(config_path)\r\n",
                "# client_id = credentials.get('client_id')\r\n",
                "# client_secret_id = credentials.get('client_secret')"
            ],
            "outputs": []
        },
        {
            "cell_type": "markdown",
            "metadata": {
                "nteract": {
                    "transient": {
                        "deleting": false
                    }
                }
            },
            "source": [
                "### Main Code"
            ],
            "outputs": []
        },
        {
            "execution_count": 45,
            "cell_type": "code",
            "metadata": {
                "jupyter": {
                    "source_hidden": false,
                    "outputs_hidden": false
                },
                "nteract": {
                    "transient": {
                        "deleting": false
                    }
                }
            },
            "source": [
                "exception = None\r\n",
                "entitiesToFetch = \"All\"\r\n",
                "from datetime import datetime\r\n",
                "import math\r\n",
                "\r\n",
                "retry_strategy = Retry(total = 3,\r\n",
                "                       backoff_factor = 1,\r\n",
                "                       status_forcelist = [429, 500, 502, 503, 504],\r\n",
                "                       allowed_methods = [\"HEAD\", \"GET\", \"OPTIONS\", \"POST\", \"DELETE\"])\r\n",
                "try:\r\n",
                "    edfiAPIClient = EdFiClient(workspace = workspace, \r\n",
                "                                    kvName = kvName, #NOTE: Default to None \r\n",
                "                                    moduleName = moduleName, \r\n",
                "                                    authUrl = authUrl, \r\n",
                "                                    dataManagementUrl = dataManagementUrl, \r\n",
                "                                    changeQueriesUrl = changeQueriesUrl, \r\n",
                "                                    dependenciesUrl = dependenciesUrl, \r\n",
                "                                    apiVersion = apiVersion, \r\n",
                "                                    batchLimit = batchLimit, \r\n",
                "                                    minChangeVer = minChangeVer, \r\n",
                "                                    maxChangeVer = maxChangeVer,\r\n",
                "                                    landingDateTimeFormat = \"yyyyMMddHHmmss\",\r\n",
                "                                    schoolYear = schoolYear,\r\n",
                "                                    districtId = districtId,\r\n",
                "                                    kvSecret_clientId = kvSecret_clientId ,\r\n",
                "                                    kvSecret_clientSecret = kvSecret_clientSecret,\r\n",
                "                                    retry_strategy = retry_strategy,\r\n",
                "                                    threadMode = True,\r\n",
                "                                    devMode = False)\r\n",
                "except Exception as e:\r\n",
                "    exception = e\r\n",
                "    logger.error(exception)\r\n",
                "\r\n",
                "    raise(exception)"
            ],
            "outputs": []
        },
        {
            "execution_count": 51,
            "cell_type": "code",
            "metadata": {
                "jupyter": {
                    "source_hidden": false,
                    "outputs_hidden": false
                },
                "nteract": {
                    "transient": {
                        "deleting": false
                    }
                }
            },
            "source": [
                "def ingest_descriptor(descriptor):\r\n",
                "    output, total_count, failedBatchUrls = edfiAPIClient.returnEntityData(resource = descriptor,\r\n",
                "                                            minChangeVersion = None, \r\n",
                "                                            maxChangeVersion = None,\r\n",
                "                                            increment = batchLimit // 2)\r\n",
                "    if not(output is None or output == []):\r\n",
                "        output = spark.createDataFrame(output)\r\n",
                "        output = output.dropDuplicates(subset = ['id'])\r\n",
                "        if output.count() != total_count:\r\n",
                "            logger.error(f'Missing Records - {descriptor} not fetched properly')\r\n",
                "            logger.error(f'Actual Num Records - {total_count}')\r\n",
                "            logger.error(f'Fetched Num Records - {output.count()}')\r\n",
                "    return output\r\n",
                "\r\n",
                "def return_file_path_and_url(file_path):\r\n",
                "    column_mapping_file_path = file_path\r\n",
                "    column_mapping_file_url = oea.to_url(file_path)\r\n",
                "\r\n",
                "    return column_mapping_file_path, column_mapping_file_url\r\n",
                "    \r\n",
                "def dump_to_delta(df, \r\n",
                "                  file_path):\r\n",
                "    df.write.format('delta').mode('overwrite').save(file_path)\r\n",
                "\r\n",
                "def get_latest_changes(changes_df, sink_path, filtering_date = 'LastModifiedDate',debugMode = False):\r\n",
                "        maxdatetime = None\r\n",
                "        try:\r\n",
                "            sink_df = oea.query(sink_path, f'select max({filtering_date}) maxdatetime')\r\n",
                "            maxdatetime = sink_df.first()['maxdatetime']\r\n",
                "        except AnalysisException as e:\r\n",
                "            pass\r\n",
                "\r\n",
                "        if maxdatetime and not(debugMode):\r\n",
                "            changes_df = changes_df.where(f\"{filtering_date} > '{maxdatetime}'\")        \r\n",
                "        return changes_df\r\n",
                ""
            ],
            "outputs": []
        },
        {
            "execution_count": 52,
            "cell_type": "code",
            "metadata": {
                "jupyter": {
                    "source_hidden": false,
                    "outputs_hidden": false
                },
                "nteract": {
                    "transient": {
                        "deleting": false
                    }
                }
            },
            "source": [
                "entities_info = edfiAPIClient.getEntities()\r\n",
                "descriptors = []\r\n",
                "for entity_info in entities_info:\r\n",
                "    if entity_info['resource'].lower().endswith('descriptors'):\r\n",
                "        descriptors.append(entity_info['resource'])"
            ],
            "outputs": []
        },
        {
            "execution_count": 53,
            "cell_type": "code",
            "metadata": {
                "jupyter": {
                    "source_hidden": false,
                    "outputs_hidden": false
                },
                "nteract": {
                    "transient": {
                        "deleting": false
                    }
                }
            },
            "source": [
                "from datetime import datetime\r\n",
                "today_date = datetime.utcnow().strftime('%Y%m%d%H%M%S')\r\n",
                "def threaded_task(descriptor, base_path):\r\n",
                "    descriptor_path = f\"{base_path}/{descriptor}\"\r\n",
                "    descriptor_url = oea.to_url(descriptor_path)\r\n",
                "    df = ingest_descriptor(descriptor)\r\n",
                "    if df is not None:\r\n",
                "        try:\r\n",
                "            logger.info(f\"[METADATA DESCRIPTOR LANDING THREAD] DESCRIPTOR: {descriptor}\")\r\n",
                "            df = df.dropDuplicates() # df.dropDuplicates(subset = ['id'])\r\n",
                "            df_changes = get_latest_changes(changes_df = df,\r\n",
                "                                    sink_path = descriptor_path,\r\n",
                "                                    filtering_date = '_lastModifiedDate',\r\n",
                "                                    debugMode = False)\r\n",
                "            \r\n",
                "            if df_changes.count() > 0:\r\n",
                "                # df_changes = df_changes.withColumn('RECORD', f.col('id'))\r\n",
                "                df_changes = df_changes.withColumn('RECORD', f.concat_ws('_', f.col('namespace'), f.col('codeValue')).cast(\"String\"))\r\n",
                "\r\n",
                "                df_changes = df_changes.withColumn(\"rundate\", F.to_timestamp(F.lit(today_date).cast('string'), landingDateTimeFormat))\r\n",
                "                df_changes = df_changes.withColumn('DistrictId', lit(DistrictId))\r\n",
                "                df_changes = df_changes.withColumn('SchoolYear', lit(SchoolYear)) \r\n",
                "                df_changes = df_changes.withColumn('sap_pipeline', F.lit(sap_pipeline))\r\n",
                "                df_changes = df_changes.withColumn('sap_pipelineType', F.lit(sap_pipelineType))\r\n",
                "                df_changes = df_changes.withColumn('stage1_source_url', lit('INVALID_COLUMN_PLACEHOLDER')) # NOTE: placeholder\r\n",
                "                # df_changes = df_changes.withColumn('NATURAL_KEY_HASH', f.col('id'))  # NOTE: placeholder \r\n",
                "                df_changes = df_changes.withColumn('NATURAL_KEY_HASH', f.concat_ws('_', f.col('namespace'), f.col('codeValue')).cast(\"String\"))\r\n",
                "                # df_changes = df_changes.withColumn('metadata_pipeline_type', lit('NON_SUBMISSION_RECORD'))\r\n",
                "                \r\n",
                "                dump_to_delta(df = df_changes, \r\n",
                "                              file_path = descriptor_url)\r\n",
                "            else:\r\n",
                "                logger.info(f'[METADATA DESCRIPTOR LANDING THREAD] Descriptor Table - {descriptor} already has most recent data')\r\n",
                "        except Exception as error:\r\n",
                "            logger.error(f'[METADATA DESCRIPTOR LANDING THREAD] Unexpected Error - Ingestion of Descriptor - {descriptor} failed')\r\n",
                "            logger.error(f'[METADATA DESCRIPTOR LANDING THREAD] Error Info - {error}')\r\n",
                "    else:\r\n",
                "        logger.info(f'Invalid - {descriptor}')\r\n",
                "\r\n",
                "base_path = f'stage2/Ingested/SAP/descriptorTables/{sapVersion}/DistrictId={districtId}/SchoolYear={schoolYear}'\r\n",
                "with ThreadPoolExecutor(max_workers=10) as tpe:\r\n",
                "    logger.info('[METADATA DESCRIPTOR LANDING] Entered Threadpool')\r\n",
                "    for descriptor in descriptors:\r\n",
                "        tpe.submit(threaded_task, descriptor, base_path)    "
            ],
            "outputs": []
        }
    ]
}