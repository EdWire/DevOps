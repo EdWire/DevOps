{
    "nbformat": 4,
    "nbformat_minor": 2,
    "metadata": {
        "save_output": true,
        "language_info": {
            "name": "python"
        }
    },
    "cells": [
        {
            "cell_type": "code",
            "metadata": {
                "jupyter": {
                    "source_hidden": false,
                    "outputs_hidden": false
                },
                "nteract": {
                    "transient": {
                        "deleting": false
                    }
                }
            },
            "source": [
                "instance = instanceId = InstanceId\r\n",
                "apiUrl = ApiUrl\r\n",
                "schoolYear = SchoolYear\r\n",
                "DistrictId = DistrictID = districtId = districtID\r\n",
                "apiLimit = batchLimit\r\n",
                "\r\n",
                "prepareSAPMetaData = prepareSAPMetadata\r\n",
                "zone = sap_pipeline = submissionsType"
            ],
            "outputs": []
        },
        {
            "execution_count": 1,
            "cell_type": "code",
            "source": [
                "import pyspark\r\n",
                "from pyspark.sql import SparkSession\r\n",
                "from pyspark.sql.utils import AnalysisException\r\n",
                "from pyspark.sql.types import StructField, StructType\r\n",
                "from pyspark.sql.functions import col, substring, regexp_extract, split, lit\r\n",
                "\r\n",
                "import json\r\n",
                "import os\r\n",
                "import pandas as pd"
            ],
            "outputs": []
        },
        {
            "cell_type": "code",
            "metadata": {
                "jupyter": {
                    "source_hidden": false,
                    "outputs_hidden": false
                },
                "nteract": {
                    "transient": {
                        "deleting": false
                    }
                }
            },
            "source": [
                "# FIXME: Do not pass uncessary params\r\n",
                "input_params = {\r\n",
                "        \"kvName\": kvName,\r\n",
                "        \"kVName\": kvName,\r\n",
                "        \"workspace\": workspace,\r\n",
                "        \"apiUrl\": apiUrl,\r\n",
                "        \"instanceId\": instanceId,\r\n",
                "        \"moduleName\": moduleName,\r\n",
                "        \"apiLimit\": apiLimit,\r\n",
                "        \"minChangeVer\": minChangeVer,\r\n",
                "        \"maxChangeVer\": maxChangeVer,\r\n",
                "        \"sapVersion\": sapVersion,\r\n",
                "        \"prepareSAPMetaData\": prepareSAPMetaData,\r\n",
                "        \"submissions\": submissions,\r\n",
                "        \"submissionsType\": submissionsType,\r\n",
                "        \"schoolYear\": schoolYear,\r\n",
                "        \"districtId\": districtId,\r\n",
                "        \"districtID\": districtId,\r\n",
                "        \"edfi_url\": apiUrl,\r\n",
                "        \"pipelineExecutionId\" : pipelineExecutionId\r\n",
                "    }"
            ],
            "outputs": []
        },
        {
            "cell_type": "code",
            "metadata": {
                "jupyter": {
                    "source_hidden": false,
                    "outputs_hidden": false
                },
                "nteract": {
                    "transient": {
                        "deleting": false
                    }
                }
            },
            "source": [
                "%run OEA/modules/Ed-Fi/v0.7/src/utilities/edfi_v0_7_edfi_py"
            ],
            "outputs": []
        },
        {
            "cell_type": "code",
            "metadata": {
                "jupyter": {
                    "source_hidden": false,
                    "outputs_hidden": false
                },
                "nteract": {
                    "transient": {
                        "deleting": false
                    }
                }
            },
            "source": [
                "oea.set_workspace(workspace)"
            ],
            "outputs": []
        },
        {
            "cell_type": "markdown",
            "metadata": {
                "nteract": {
                    "transient": {
                        "deleting": false
                    }
                }
            },
            "source": [
                "### Column Mapping"
            ],
            "outputs": []
        },
        {
            "cell_type": "code",
            "metadata": {
                "jupyter": {
                    "source_hidden": false,
                    "outputs_hidden": false
                },
                "nteract": {
                    "transient": {
                        "deleting": false
                    }
                }
            },
            "source": [
                "column_mappings = {\r\n",
                "\"TEA\": {\r\n",
                "\"PEIMS_FALL\": {\r\n",
                "\"tx/budgetExts\":\r\n",
                "   {\"FISCYEAR\": \"fiscalYear\",\r\n",
                "    \"AMOUNT\": \"budgetAmount\",\r\n",
                "    \"PU_CI_SUB1\": \"budgetFunctionDescriptor\",\r\n",
                "    \"PU_CI_SUB2\": \"budgetObjectDescriptor\",\r\n",
                "    \"/BIC/ZPEIMFUND\": \"organization\",\r\n",
                "    \"/BIC/ZPU_TEA\": \"budgetFundDescriptor\", #\"organization\",\r\n",
                "    \"PU_FC_SUB2\": \"budgetProgramIntentDescriptor\",\r\n",
                "    \"DATE0\": \"beginDate\"\r\n",
                "    },\r\n",
                "\"tx/payrollExts\": {\r\n",
                "        \"FISCYEAR\": \"fiscalYear\",\r\n",
                "        \"AMOUNT\": \"payrollAmount\",\r\n",
                "        \"/BIC/ZPEIMFUND\": \"organization\",#\"payrollFundDescriptor\", # FIXME: MAPPING ISSUE\r\n",
                "        \"PU_CI_SUB1\": \"payrollFunctionDescriptor\",\r\n",
                "        \"PU_CI_SUB2\": \"payrollObjectDescriptor\",\r\n",
                "        \"/BIC/ZPU_TEA\": \"payrollFundDescriptor\",#\"organization\", # FIXME: MAPPING ISSUE\r\n",
                "        \"/BIC/ZHRPPICTX\": \"payrollProgramIntentDescriptor\",\r\n",
                "        \"/BIC/ZHRPPYAYC\": \"payrollActivityDescriptor\",\r\n",
                "        '/BIC/ZHRPSTFID': 'staffUniqueId', #Not Sure / Added after\r\n",
                "        '/BIC/ZHRPDISTR': 'localEducationAgencyId', #Not Sure / Added after\r\n",
                "        '/BIC/ZBEGDA': 'beginDate',\r\n",
                "        '/BIC/ZENDDA': 'endDate'\r\n",
                "    },\r\n",
                "\"tx/staffEducationOrganizationEmploymentAssociations\":  {\r\n",
                "    '/BIC/ZHRPPDETX': 'percentDayEmployed',\r\n",
                "    '/BIC/ZHRPNDETX': 'numberDaysEmployed',\r\n",
                "    '/BIC/ZHRPAUXTX': 'auxiliaryRoleIdDescriptor',\r\n",
                "    '/BIC/ZBEGDA'  : 'auxiliaryRoleIdSet_beginDate',\r\n",
                "    '/BIC/ZENDDA': 'auxiliaryRoleIdSet_endDate',\r\n",
                "    '/BIC/ZHRDATE10': 'hireDate',\r\n",
                "    '/BIC/ZHRDATE21': 'endDate',\r\n",
                "    '/BIC/ZHRPSTFID': 'staffUniqueId', #Not Sure / Added after\r\n",
                "    '/BIC/ZHRPDISTR': 'localEducationAgencyId' #Not Sure / Added after\r\n",
                "},\r\n",
                "\"tx/contractedInstructionalStaffFTEExts\": {\r\n",
                "    '/BIC/ZHRPDISTR': 'localEducationAgencyId',\r\n",
                "    '/BIC/ZHRPORGID': 'SchoolId',\r\n",
                "    '/BIC/ZHRPPICTX': 'ciStaffProgramIntentDescriptor',\r\n",
                "    '/BIC/ZHRPISFTE': 'totalContractedInstrStaffFTE',\r\n",
                "},\r\n",
                "\"tx/staffEducationOrganizationAssignmentAssociations\": {\r\n",
                "    '/BIC/ZHRPSTFID': 'staffUniqueId',\r\n",
                "    '/BIC/ZHRPSRVID': 'staffServiceDescriptor',\r\n",
                "    '/BIC/ZHRPSSAID': 'sharedServiceArrangementStaffDescriptor',\r\n",
                "    '/BIC/ZHRPNOSIC': 'numberOfStudentInClass',\r\n",
                "    '/BIC/ZHRPPOPSV': 'populationServedDescriptor',\r\n",
                "    '/BIC/ZHRPORGID': 'schoolId',\r\n",
                "    '/BIC/ZHRPMOMIN': 'monthlyMinutes',\r\n",
                "    '/BIC/ZHRPCLTYC': 'classTypeDescriptor', # TODO: Review why this was added (absent in new file)\r\n",
                "    '/BIC/ZHRPSRTYP': 'staffClassificationDescriptor',\r\n",
                "    '/BIC/ZHRDATE10': 'beginDate',\r\n",
                "    '/BIC/ZHRDATE21': 'endDate',\r\n",
                "    '/BIC/ZHRDATE11': 'staffService_beginDate',\r\n",
                "    '/BIC/ZENDDA': 'staffService_endDate',\r\n",
                "    '/BIC/ZHRPDISTR': 'localEducationAgencyId'\r\n",
                "},\r\n",
                "'tx/staffs': {\r\n",
                "    '/BIC/ZHRSSNC': 'staffId',\r\n",
                "    '/BIC/ZHRVORNA': 'firstName',\r\n",
                "    '/BIC/ZHRNACHN': 'lastSurname',\r\n",
                "    '/BIC/ZHRMIDNM': 'middleName',\r\n",
                "    'DATEBIRTH': 'birthDate',\r\n",
                "    '/BIC/ZHRPHDEGR': 'highestCompletedLevelOfEducationDescriptor',\r\n",
                "    '/BIC/ZHRPETHIN': 'hispanicLatinoEthnicity',\r\n",
                "    '/BIC/ZHRPRAC01': 'race1_Descriptor',\r\n",
                "    '/BIC/ZHRPRAC02': 'race2_Descriptor',\r\n",
                "    '/BIC/ZHRPRAC03': 'race3_Descriptor',\r\n",
                "    '/BIC/ZHRPRAC04': 'race4_Descriptor',\r\n",
                "    '/BIC/ZHRPRAC05': 'race5_Descriptor',\r\n",
                "    '/BIC/ZHRPGNRTX': 'sexDescriptor',\r\n",
                "    '/BIC/ZHRPGENCD': 'generationCodeDescriptor',\r\n",
                "    '/BIC/ZHRTALEXP': 'totalYearsProfExperience',\r\n",
                "    '/BIC/ZHRTHSDEX': 'yearsExperienceInDistrict',\r\n",
                "    '/BIC/ZHRPSTFID': 'staffUniqueId',\r\n",
                "    '/BIC/ZHRPSTFCD': 'staffTypeDescriptor',\r\n",
                "    '/BIC/ZHRDATE10': 'staffTypeSet_beginDate',\r\n",
                "    '/BIC/ZHRDATE21': 'staffTypeSet_endDate',\r\n",
                "    '/BIC/ZHRPPKREQ':'pkTeacherRequirementDescriptor',\r\n",
                "    '/BIC/ZHRPPCERT' : 'paraprofessionalCertification',\r\n",
                "    '/BIC/ZBEGDA': 'paraprofessional_beginDate',\r\n",
                "    '/BIC/ZENDDA': 'paraprofessional_endDate',\r\n",
                "    '/BIC/ZHRPNOTRP': 'staffDoNotReportTSDS'\r\n",
                "},\r\n",
                "},\r\n",
                "\"PEIMS_MIDYR\":\r\n",
                "{\r\n",
                "    \"tx/actualExts\":\r\n",
                "   {\"FISCYEAR\": \"fiscalYear\",\r\n",
                "    \"AMOUNT\": \"actualAmount\",\r\n",
                "    \"PU_CI_SUB1\": \"actualFunctionDescriptor\",\r\n",
                "    \"PU_CI_SUB2\": \"actualObjectDescriptor\",\r\n",
                "    \"/BIC/ZPEIMFUND\": \"organization\",\r\n",
                "    \"/BIC/ZPU_TEA\": \"actualFundDescriptor\",\r\n",
                "    \"PU_FC_SUB2\": \"actualProgramIntentDescriptor\",\r\n",
                "    \"DATE0\": \"beginDate\"\r\n",
                "    }\r\n",
                "},\r\n",
                "\"TSDS_CLASS_ROSTER_FALL\": {'tx/staffs': {\r\n",
                "    '/BIC/ZHRSSNC': 'staffId',\r\n",
                "    '/BIC/ZHRVORNA': 'firstName',\r\n",
                "    '/BIC/ZHRNACHN': 'lastSurname',\r\n",
                "    '/BIC/ZHRMIDNM': 'middleName',\r\n",
                "    'DATEBIRTH': 'birthDate',\r\n",
                "    '/BIC/ZHRPHDEGR': 'highestCompletedLevelOfEducationDescriptor',\r\n",
                "    '/BIC/ZHRPETHIN': 'hispanicLatinoEthnicity',\r\n",
                "    '/BIC/ZHRPRAC01': 'race1_Descriptor',\r\n",
                "    '/BIC/ZHRPRAC02': 'race2_Descriptor',\r\n",
                "    '/BIC/ZHRPRAC03': 'race3_Descriptor',\r\n",
                "    '/BIC/ZHRPRAC04': 'race4_Descriptor',\r\n",
                "    '/BIC/ZHRPRAC05': 'race5_Descriptor',\r\n",
                "    '/BIC/ZHRPGNRTX': 'sexDescriptor',\r\n",
                "    '/BIC/ZHRPGENCD': 'generationCodeDescriptor',\r\n",
                "    '/BIC/ZHRTALEXP': 'totalYearsProfExperience',\r\n",
                "    '/BIC/ZHRTHSDEX': 'yearsExperienceInDistrict',\r\n",
                "    '/BIC/ZHRPSTFID': 'staffUniqueId',\r\n",
                "    '/BIC/ZHRPSTFCD': 'staffTypeDescriptor',\r\n",
                "    '/BIC/ZHRDATE10': 'staffTypeSet_beginDate',\r\n",
                "    '/BIC/ZHRDATE21': 'staffTypeSet_endDate',\r\n",
                "    '/BIC/ZHRPPKREQ':'pkTeacherRequirementDescriptor',\r\n",
                "    '/BIC/ZHRPPCERT' : 'paraprofessionalCertification',\r\n",
                "    '/BIC/ZBEGDA': 'paraprofessional_beginDate',\r\n",
                "    '/BIC/ZENDDA': 'paraprofessional_endDate',\r\n",
                "    '/BIC/ZHRPNOTRP': 'staffDoNotReportTSDS'\r\n",
                "\r\n",
                "}\r\n",
                "}\r\n",
                "}\r\n",
                "}"
            ],
            "outputs": []
        },
        {
            "execution_count": 3,
            "cell_type": "code",
            "metadata": {
                "jupyter": {
                    "source_hidden": false,
                    "outputs_hidden": false
                },
                "nteract": {
                    "transient": {
                        "deleting": false
                    }
                }
            },
            "source": [
                "def return_file_path_and_url(file_path):\r\n",
                "    column_mapping_file_url = oea.to_url(file_path)\r\n",
                "\r\n",
                "    return file_path, column_mapping_file_url"
            ],
            "outputs": []
        },
        {
            "cell_type": "code",
            "metadata": {
                "jupyter": {
                    "source_hidden": false,
                    "outputs_hidden": false
                },
                "nteract": {
                    "transient": {
                        "deleting": false
                    }
                }
            },
            "source": [
                "def dump_to_json(data, file_path):\r\n",
                "    # Read the CSV file\r\n",
                "    df = spark.createDataFrame([data])\r\n",
                "    df.write.json(file_path, mode='overwrite')"
            ],
            "outputs": []
        },
        {
            "cell_type": "code",
            "metadata": {
                "jupyter": {
                    "source_hidden": false,
                    "outputs_hidden": false
                },
                "nteract": {
                    "transient": {
                        "deleting": false
                    }
                }
            },
            "source": [
                "lake_destination = \"ingestion-mappings.json\""
            ],
            "outputs": []
        },
        {
            "execution_count": 6,
            "cell_type": "code",
            "metadata": {
                "jupyter": {
                    "source_hidden": false,
                    "outputs_hidden": false
                },
                "nteract": {
                    "transient": {
                        "deleting": false
                    }
                }
            },
            "source": [
                "file_path = f\"stage1/Transactional/SAP/metadata-assets/{lake_destination}\"\r\n",
                "\r\n",
                "column_mapping_file_path, column_mapping_file_url = return_file_path_and_url(file_path)\r\n",
                "dump_to_json(column_mappings, column_mapping_file_url)"
            ],
            "outputs": []
        },
        {
            "cell_type": "markdown",
            "metadata": {
                "nteract": {
                    "transient": {
                        "deleting": false
                    }
                }
            },
            "source": [
                "### Other Metadata"
            ],
            "outputs": []
        },
        {
            "cell_type": "code",
            "metadata": {
                "jupyter": {
                    "source_hidden": false,
                    "outputs_hidden": false
                },
                "nteract": {
                    "transient": {
                        "deleting": false
                    }
                }
            },
            "source": [
                "other_metadata = {\r\n",
                "  \"sap_to_edfi_complex\": {\r\n",
                "    \"Budget\": \"budgetExts\",\r\n",
                "    \"YHROHPM04\": \"staffs\",\r\n",
                "    \"YHROHPM07\": \"staffEducationOrganizationEmploymentAssociations\",\r\n",
                "    \"YHROHPM09\": \"payrollExts\",\r\n",
                "    \"YHROHPM08\": \"contractedInstructionalStaffFTEExts\",\r\n",
                "    \"YHROHPM10\": \"staffEducationOrganizationAssignmentAssociations\",\r\n",
                "    \"YHROHPM05\": \"staffs\",\r\n",
                "    \"YFIOHPEIM\": \"actualExts\"\r\n",
                "  },\r\n",
                "  \"final_columns\": {\r\n",
                "    \"budgetExts\": [\r\n",
                "      \"RECORD\",\r\n",
                "      \"fiscalYear\",\r\n",
                "      \"budgetAmount\",\r\n",
                "      \"budgetFunctionDescriptor\",\r\n",
                "      \"budgetObjectDescriptor\",\r\n",
                "      \"budgetFundDescriptor\",\r\n",
                "      \"budgetOrganization\",\r\n",
                "      \"budgetProgramIntentDescriptor\",\r\n",
                "      \"educationOrganizationReference\"\r\n",
                "    ],\r\n",
                "    \"staffEducationOrganizationAssignmentAssociations\": [\r\n",
                "      \"RECORD\",\r\n",
                "      \"sharedServiceArrangementStaffDescriptor\",\r\n",
                "      \"numberOfStudentInClass\",\r\n",
                "      \"populationServedDescriptor\",\r\n",
                "      \"staffClassificationDescriptor\",\r\n",
                "      \"schoolReference\",\r\n",
                "      \"beginDate\",\r\n",
                "      \"endDate\",\r\n",
                "      \"staffReference\",\r\n",
                "      \"educationOrganizationReference\",\r\n",
                "      \"_ext\"\r\n",
                "    ],\r\n",
                "    \"staffs\": [\r\n",
                "      \"RECORD\",\r\n",
                "      \"staffUniqueId\",\r\n",
                "      \"firstName\",\r\n",
                "      \"lastSurname\",\r\n",
                "      \"middleName\",\r\n",
                "      \"birthDate\",\r\n",
                "      \"highestCompletedLevelOfEducationDescriptor\",\r\n",
                "      \"hispanicLatinoEthnicity\",\r\n",
                "      \"sexDescriptor\",\r\n",
                "      \"races\",\r\n",
                "      \"_ext\"\r\n",
                "    ],\r\n",
                "    \"contractedInstructionalStaffFTEExts\": [\r\n",
                "      \"RECORD\",\r\n",
                "      \"educationOrganizationReference\",\r\n",
                "      \"schoolReference\",\r\n",
                "      \"ciStaffProgramIntentDescriptor\",\r\n",
                "      \"totalContractedInstrStaffFTE\"\r\n",
                "    ],\r\n",
                "    \"payrollExts\": [\r\n",
                "      \"RECORD\",\r\n",
                "      \"fiscalYear\",\r\n",
                "      \"payrollAmount\",\r\n",
                "      \"payrollFundDescriptor\",\r\n",
                "      \"payrollFunctionDescriptor\",\r\n",
                "      \"payrollObjectDescriptor\",\r\n",
                "      \"payrollOrganization\",\r\n",
                "      \"payrollProgramIntentDescriptor\",\r\n",
                "      \"payrollActivityDescriptor\",\r\n",
                "      \"beginDate\",\r\n",
                "      \"endDate\",\r\n",
                "      \"educationOrganizationReference\",\r\n",
                "      \"staffReference\"\r\n",
                "    ],\r\n",
                "    \"actualExts\": [\r\n",
                "      \"RECORD\",\r\n",
                "      \"fiscalYear\",\r\n",
                "      \"actualAmount\",\r\n",
                "      \"actualFunctionDescriptor\",\r\n",
                "      \"actualObjectDescriptor\",\r\n",
                "      \"actualFundDescriptor\",\r\n",
                "      \"actualOrganization\",\r\n",
                "      \"actualProgramIntentDescriptor\",\r\n",
                "      \"educationOrganizationReference\"\r\n",
                "    ],\r\n",
                "    \"staffEducationOrganizationEmploymentAssociations\": [\r\n",
                "      \"RECORD\",\r\n",
                "      \"hireDate\",\r\n",
                "      \"endDate\",\r\n",
                "      \"percentDayEmployed\",\r\n",
                "      \"numberDaysEmployed\",\r\n",
                "      \"employmentStatusDescriptor\",\r\n",
                "      \"educationOrganizationReference\",\r\n",
                "      \"staffReference\",\r\n",
                "      \"_ext\"\r\n",
                "    ]\r\n",
                "  },\r\n",
                "  \"_ext_TX_cols\": {\r\n",
                "    \"staffs\": [\r\n",
                "      \"generationCodeDescriptor\",\r\n",
                "      \"totalYearsProfExperience\",\r\n",
                "      \"yearsExperienceInDistrict\",\r\n",
                "      \"staffId\",\r\n",
                "      \"typeSets\"\r\n",
                "    ],\r\n",
                "    \"staffEducationOrganizationEmploymentAssociations\": [\r\n",
                "      \"percentDayEmployed\",\r\n",
                "      \"numberDaysEmployed\",\r\n",
                "      \"auxiliaryRoleIdSets\"\r\n",
                "    ],\r\n",
                "    \"staffEducationOrganizationAssignmentAssociations\": [\r\n",
                "      \"staffServiceSets\"\r\n",
                "    ]\r\n",
                "  },\r\n",
                "  \"descriptorsDFRef\": {},\r\n",
                "  \"descriptors\": [\r\n",
                "    \"functionDescriptors\",\r\n",
                "    \"objectDescriptors\",\r\n",
                "    \"fundDescriptors\",\r\n",
                "    \"programIntentDescriptors\",\r\n",
                "    \"auxiliaryRoleIdDescriptors\",\r\n",
                "    \"staffServiceDescriptors\",\r\n",
                "    \"sharedServiceArrangementStaffDescriptors\",\r\n",
                "    \"populationServedDescriptors\",\r\n",
                "    \"classTypeDescriptors\",\r\n",
                "    \"staffClassificationDescriptors\",\r\n",
                "    \"levelOfEducationDescriptors\",\r\n",
                "    \"pkTeacherRequirementDescriptors\",\r\n",
                "    \"generationCodeDescriptors\",\r\n",
                "    \"staffTypeDescriptors\",\r\n",
                "    \"sexDescriptors\",\r\n",
                "    \"raceDescriptors\",\r\n",
                "    \"employmentStatusDescriptors\",\r\n",
                "    \"payrollActivityDescriptors\"\r\n",
                "  ]\r\n",
                "}"
            ],
            "outputs": []
        }
    ]
}