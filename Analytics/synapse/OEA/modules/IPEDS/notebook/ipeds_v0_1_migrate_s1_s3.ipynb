{
    "nbformat": 4,
    "nbformat_minor": 2,
    "metadata": {
        "save_output": true,
        "kernelspec": {
            "name": "synapse_pyspark",
            "display_name": "Synapse PySpark"
        },
        "language_info": {
            "name": "python"
        }
    },
    "cells": [
        {
            "execution_count": 81,
            "cell_type": "code",
            "source": [
                "%run OEA/modules/Ed-Fi/v0.6/src/utilities/edfi_v0_6_edfi_py"
            ],
            "outputs": []
        },
        {
            "execution_count": 82,
            "cell_type": "code",
            "metadata": {
                "jupyter": {
                    "source_hidden": false,
                    "outputs_hidden": false
                },
                "nteract": {
                    "transient": {
                        "deleting": false
                    }
                }
            },
            "source": [
                "workspace='sandbox1'\r\n",
                "table_name = 'ipeds_admission_data'\r\n",
                "ipeds_path = 'stage1/iPEDS/IPEDS_TEST_DATA.csv'\r\n",
                "stage2_path = f'stage2/iPEDS/ingested/{table_name}'\r\n",
                "stage3_path = f'stage3/iPEDS_DW/{table_name}'\r\n",
                "stage3_db_name = f\"ldb_{workspace}_s3_ipeds\""
            ],
            "outputs": []
        },
        {
            "execution_count": 83,
            "cell_type": "code",
            "metadata": {
                "jupyter": {
                    "source_hidden": false,
                    "outputs_hidden": false
                },
                "nteract": {
                    "transient": {
                        "deleting": false
                    }
                }
            },
            "source": [
                "workspace='prod'\r\n",
                "table_name = 'ipeds_admission_data'\r\n",
                "ipeds_path = 'stage1/iPEDS/IPEDS_TEST_DATA.csv'\r\n",
                "stage2_path = f'stage2/iPEDS/ingested/{table_name}'\r\n",
                "stage3_path = f'stage3/iPEDS_DW/{table_name}'\r\n",
                "stage3_db_name = f\"ldb_{workspace}_s3_ipeds\""
            ],
            "outputs": []
        },
        {
            "execution_count": 84,
            "cell_type": "code",
            "metadata": {
                "jupyter": {
                    "source_hidden": false,
                    "outputs_hidden": false
                },
                "nteract": {
                    "transient": {
                        "deleting": false
                    }
                }
            },
            "source": [
                "oea.set_workspace(workspace)"
            ],
            "outputs": []
        },
        {
            "cell_type": "markdown",
            "metadata": {
                "nteract": {
                    "transient": {
                        "deleting": false
                    }
                }
            },
            "source": [
                "# Stage 1 to Stage 2 Parquet\r\n",
                ""
            ],
            "outputs": []
        },
        {
            "execution_count": 85,
            "cell_type": "code",
            "metadata": {
                "jupyter": {
                    "source_hidden": false,
                    "outputs_hidden": false
                },
                "nteract": {
                    "transient": {
                        "deleting": false
                    }
                }
            },
            "source": [
                "df = spark.read.option(\"inferSchema\",True) \\\r\n",
                "                .option(\"delimiter\",\",\") \\\r\n",
                "                .option(\"header\",\"true\") \\\r\n",
                "                .option(\"delta.columnMapping.mode\", \"name\")\\\r\n",
                "  .csv(oea.to_url(ipeds_path))\r\n",
                "\r\n",
                "from pyspark.sql.functions import col\r\n",
                "renamed_columns = [col(column).alias(column.replace(' ', '_')) for column in df.columns]\r\n",
                "df = df.select(*renamed_columns)\r\n",
                "df.write.format('delta').mode('overwrite').save(oea.to_url(stage2_path))"
            ],
            "outputs": []
        },
        {
            "cell_type": "markdown",
            "metadata": {
                "nteract": {
                    "transient": {
                        "deleting": false
                    }
                }
            },
            "source": [
                "# Stage 2 to Stage 3 Parquet\r\n",
                ""
            ],
            "outputs": []
        },
        {
            "execution_count": 86,
            "cell_type": "code",
            "metadata": {
                "jupyter": {
                    "source_hidden": false,
                    "outputs_hidden": false
                },
                "nteract": {
                    "transient": {
                        "deleting": false
                    }
                }
            },
            "source": [
                "df = spark.read.format('delta').load(oea.to_url(stage2_path))\r\n",
                "df.write.format('delta').mode('overwrite').save(oea.to_url(stage3_path))"
            ],
            "outputs": []
        },
        {
            "execution_count": 87,
            "cell_type": "code",
            "metadata": {
                "jupyter": {
                    "source_hidden": false,
                    "outputs_hidden": false
                },
                "nteract": {
                    "transient": {
                        "deleting": false
                    }
                }
            },
            "source": [
                "spark.sql(f'CREATE DATABASE IF NOT EXISTS {stage3_db_name}')\r\n",
                "table_url = oea.to_url(stage3_path)\r\n",
                "overwrite = True\r\n",
                "logger.info(f'Adding the table - {table_name} to Lake DB')\r\n",
                "if overwrite:\r\n",
                "    spark.sql(F\"DROP TABLE IF EXISTS {stage3_db_name}.{table_name}\")\r\n",
                "spark.sql(f\"CREATE TABLE IF NOT EXISTS {stage3_db_name}.{table_name} using DELTA location '{table_url}'\")"
            ],
            "outputs": []
        },
        {
            "cell_type": "markdown",
            "metadata": {
                "nteract": {
                    "transient": {
                        "deleting": false
                    }
                }
            },
            "source": [
                "# Stage 3 SQL DB connect"
            ],
            "outputs": []
        },
        {
            "execution_count": 88,
            "cell_type": "code",
            "metadata": {
                "jupyter": {
                    "source_hidden": false,
                    "outputs_hidden": false
                },
                "nteract": {
                    "transient": {
                        "deleting": false
                    }
                }
            },
            "source": [
                "def assign_default_variable(variable_name, default_value):\r\n",
                "    if variable_name not in globals():\r\n",
                "        globals()[variable_name] = default_value\r\n",
                "        logger.info(f'{variable_name} not found - using system default')"
            ],
            "outputs": []
        },
        {
            "execution_count": 89,
            "cell_type": "code",
            "metadata": {
                "jupyter": {
                    "source_hidden": false,
                    "outputs_hidden": false
                },
                "nteract": {
                    "transient": {
                        "deleting": false
                    }
                }
            },
            "source": [
                "secret_name='syn-oea-devusc-ondemand-mssql-admin-credentials-password'\r\n",
                "server_name='syn-oea-devusc-ondemand.sql.azuresynapse.net'\r\n",
                "database_name=f'sdb_{workspace}_s3'\r\n",
                "user_name=\"eduanalyticsuser\"\r\n",
                "driver='ODBC Driver 18 for SQL Server'\r\n",
                "db_password = oea._get_secret(secret_name)\r\n",
                "data_source = f'{workspace}_data_source'"
            ],
            "outputs": []
        },
        {
            "execution_count": 90,
            "cell_type": "code",
            "metadata": {
                "jupyter": {
                    "source_hidden": false,
                    "outputs_hidden": false
                },
                "nteract": {
                    "transient": {
                        "deleting": false
                    }
                }
            },
            "source": [
                "assign_default_variable(variable_name = 'secret_name', \r\n",
                "                        default_value = 'syn-oea-hisddev-ondemand-mssql-admin-credentials-password')\r\n",
                "\r\n",
                "assign_default_variable(variable_name = 'server_name', \r\n",
                "                        default_value = 'syn-oea-hisddev-ondemand.sql.azuresynapse.net')\r\n",
                "assign_default_variable(variable_name = 'database_name', \r\n",
                "                        default_value = 'sdb_sandbox2_s3')\r\n",
                "\r\n",
                "assign_default_variable(variable_name = 'user_name', \r\n",
                "                        default_value = 'eduanalyticsuser')\r\n",
                "\r\n",
                "assign_default_variable(variable_name = 'driver', \r\n",
                "                        default_value = 'ODBC Driver 18 for SQL Server')\r\n",
                "\r\n",
                ""
            ],
            "outputs": []
        },
        {
            "execution_count": 91,
            "cell_type": "code",
            "metadata": {
                "jupyter": {
                    "source_hidden": false,
                    "outputs_hidden": false
                },
                "nteract": {
                    "transient": {
                        "deleting": false
                    }
                }
            },
            "source": [
                "%run OEA/modules/iPEDS/v0.1/utillities/SQL_Essentials"
            ],
            "outputs": []
        },
        {
            "execution_count": 93,
            "cell_type": "code",
            "metadata": {
                "jupyter": {
                    "source_hidden": false,
                    "outputs_hidden": false
                },
                "nteract": {
                    "transient": {
                        "deleting": false
                    }
                }
            },
            "source": [
                "sql_db = SQLDatabase(server_name, database_name, user_name, db_password)\r\n",
                "\r\n",
                "assign_default_variable(variable_name = 'data_source', \r\n",
                "                        default_value = 'sandbox2_data_source')\r\n",
                "                    \r\n",
                "root_path = 'stage3/iPEDS_DW'\r\n",
                "\r\n",
                "if workspace == 'prod':\r\n",
                "    # FIXME: 2024-03-06 For prod\r\n",
                "    root_path = 'iPEDS_DW'\r\n",
                "\r\n",
                "\r\n",
                "view_manager = ViewManager(sql_db, data_source)\r\n",
                "view_manager.create_and_populate_views('ipeds', root_path, ['ipeds_admission_data'], overwrite=True)"
            ],
            "outputs": []
        },
        {
            "cell_type": "markdown",
            "metadata": {
                "nteract": {
                    "transient": {
                        "deleting": false
                    }
                }
            },
            "source": [
                "# Semantic View\r\n",
                ""
            ],
            "outputs": []
        },
        {
            "execution_count": 77,
            "cell_type": "code",
            "metadata": {
                "jupyter": {
                    "source_hidden": false,
                    "outputs_hidden": false
                },
                "nteract": {
                    "transient": {
                        "deleting": false
                    }
                }
            },
            "source": [
                "#query = \"\"\"Drop VIEW [semantic].[vw_ipeds_admission_date]\"\"\""
            ],
            "outputs": []
        },
        {
            "execution_count": 94,
            "cell_type": "code",
            "metadata": {
                "jupyter": {
                    "source_hidden": false,
                    "outputs_hidden": false
                },
                "nteract": {
                    "transient": {
                        "deleting": false
                    }
                }
            },
            "source": [
                "query =\"\"\"CREATE VIEW [semantic].[vw_ipeds_admission_data] AS\r\n",
                "\r\n",
                "SELECT [UnitID] as [UnitID]\r\n",
                ",[IPEDS_Year] as [IPEDS Year]\r\n",
                ",[Full-time_retention_rate___] as [Full-time retention rate   ]\r\n",
                ",[Graduation_rate_-_Bachelor_degree_within_4_years__total_] as [Graduation rate - Bachelor degree within 4 years  total ]\r\n",
                ",[Graduation_rate_-_Bachelor_degree_within_6_years__total_] as [Graduation rate - Bachelor degree within 6 years  total ]\r\n",
                ",[Graduate_enrollment_] as [Graduate enrollment ]\r\n",
                ",[Admissions_total] as [Admission total]\r\n",
                ",[Enrolled_total] as [Enrolled total]\r\n",
                ",[First-time_degree/certificate-seeking_undergraduate_enrollment_] as [First-time degree/certificate-seeking undergraduate enrollment ]\r\n",
                ",[Full-time__first-time__degree/certificate_seeking_undergraduates_] as [Full-time  first-time  degree/certificate seeking undergraduates ]\r\n",
                ",[Undergraduate_enrollment_] as [Undergraduate enrollment ]\r\n",
                ",[Full-time_equivalent_fall_enrollment] as [Full-time equivalent fall enrollment]\r\n",
                ",[Published_in-state_tuition_and_fees] as [Published in-state tuition and fees]\r\n",
                ",[Average_amount_of_institutional_grant_aid_awarded_to_full-time_first-time_undergraduates_] as [Average amount of institutional grant aid awarded to full-time first-time undergraduates ]\r\n",
                ",[Revenues_from_tuition_and_fees_per_FTE] as [Revenues from tuition and fees per FTE]\r\n",
                ",[Instruction_expenses_per_FTE] as [Instruction expenses per FTE]\r\n",
                ",[Applicants_total] as [Applicants total]\r\n",
                ",[Institution_Name] as [Institution Name]\r\n",
                ",[State_abbreviation] as [State abbreviation]\r\n",
                ",[Control_of_institution] as [Control of institution]\r\n",
                ",[Level_of_institution] as [Level of institution]\r\n",
                " FROM [ipeds].[ipeds_admission_data]\r\n",
                "\"\"\""
            ],
            "outputs": []
        },
        {
            "execution_count": 95,
            "cell_type": "code",
            "metadata": {
                "jupyter": {
                    "source_hidden": false,
                    "outputs_hidden": false
                },
                "nteract": {
                    "transient": {
                        "deleting": false
                    }
                }
            },
            "source": [
                "sql_db.execute_query(query=query)"
            ],
            "outputs": []
        },
        {
            "cell_type": "code",
            "metadata": {
                "jupyter": {
                    "source_hidden": false,
                    "outputs_hidden": false
                },
                "nteract": {
                    "transient": {
                        "deleting": false
                    }
                }
            },
            "source": [
                ""
            ],
            "outputs": []
        }
    ]
}