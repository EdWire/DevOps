{
    "nbformat": 4,
    "nbformat_minor": 2,
    "metadata": {
        "save_output": true,
        "kernelspec": {
            "name": "synapse_pyspark",
            "display_name": "Synapse PySpark"
        },
        "language_info": {
            "name": "python"
        }
    },
    "cells": [
        {
            "execution_count": 66,
            "cell_type": "code",
            "metadata": {
                "jupyter": {
                    "source_hidden": false,
                    "outputs_hidden": false
                },
                "nteract": {
                    "transient": {
                        "deleting": false
                    }
                }
            },
            "source": [
                "instance = InstanceId = instanceId\r\n",
                "ApiUrl = apiUrl\r\n",
                "SchoolYear = schoolYear\r\n",
                "DistrictId = DistrictID = districtID = districtId\r\n",
                "apiLimit = batchLimit\r\n",
                "\r\n",
                "prepareEdFiMetaData = prepareEdFiMetadata"
            ],
            "outputs": []
        },
        {
            "cell_type": "code",
            "metadata": {
                "jupyter": {
                    "source_hidden": false,
                    "outputs_hidden": false
                },
                "nteract": {
                    "transient": {
                        "deleting": false
                    }
                }
            },
            "source": [
                "from datetime import datetime, timedelta\r\n",
                "import pandas as pd\r\n",
                "from notebookutils import mssparkutils\r\n",
                "from io import StringIO"
            ],
            "outputs": []
        },
        {
            "cell_type": "markdown",
            "metadata": {
                "nteract": {
                    "transient": {
                        "deleting": false
                    }
                }
            },
            "source": [
                "### URL Initializations"
            ],
            "outputs": []
        },
        {
            "execution_count": 67,
            "cell_type": "code",
            "metadata": {
                "jupyter": {
                    "source_hidden": false,
                    "outputs_hidden": false
                },
                "nteract": {
                    "transient": {
                        "deleting": false
                    }
                }
            },
            "source": [
                "%run OEA/modules/Ed-Fi/v0.7/src/utilities/edfi_v0_7_fetch_urls"
            ],
            "outputs": []
        },
        {
            "execution_count": 68,
            "cell_type": "code",
            "metadata": {
                "jupyter": {
                    "source_hidden": false,
                    "outputs_hidden": false
                },
                "nteract": {
                    "transient": {
                        "deleting": false
                    }
                }
            },
            "source": [
                "instance_id = instanceId\r\n",
                "school_year = schoolYear\r\n",
                "api_url = apiUrl\r\n",
                "\r\n",
                "edfi_api_manager = EdFiApiManager(api_url, instance_id, school_year)\r\n",
                "edfi_api_manager.update_urls()\r\n",
                "edfi_api_manager.set_other_metadata()\r\n",
                "\r\n",
                "dependenciesUrl = edfi_api_manager.dependencies_url\r\n",
                "openApiMetadataUrl = edfi_api_manager.openapi_metadata_url\r\n",
                "dataManagementUrl = edfi_api_manager.data_management_url\r\n",
                "authUrl = edfi_api_manager.auth_url\r\n",
                "\r\n",
                "changeQueriesUrl = edfi_api_manager.get_referenced_url('Change-Queries')\r\n",
                "changeQueriesUrl = changeQueriesUrl[:-13].replace('/metadata/', '/')\r\n",
                "swagger_url = swaggerUrl = edfi_api_manager.get_referenced_url('Resources')\r\n",
                "\r\n",
                "apiVersion = edfi_api_manager.api_version\r\n",
                "apiVersion = apiVersion[1:] if apiVersion.startswith('v') else apiVersion\r\n",
                "\r\n",
                "resourcesUrl = edfi_api_manager.get_referenced_url('Resources')\r\n",
                "descriptorsUrl = edfi_api_manager.get_referenced_url('Descriptors')\r\n",
                "enrollmentUrl = resourcesUrl.replace('/data/', '/composites/').replace('/resources/', '/ed-fi/enrollment/')"
            ],
            "outputs": []
        },
        {
            "cell_type": "markdown",
            "metadata": {
                "nteract": {
                    "transient": {
                        "deleting": false
                    }
                }
            },
            "source": [
                "### OEA Initializations"
            ],
            "outputs": []
        },
        {
            "execution_count": 69,
            "cell_type": "code",
            "metadata": {
                "jupyter": {
                    "source_hidden": false,
                    "outputs_hidden": false
                },
                "nteract": {
                    "transient": {
                        "deleting": false
                    }
                }
            },
            "source": [
                "%run OEA/modules/Ed-Fi/v0.7/src/utilities/edfi_v0_7_edfi_py"
            ],
            "outputs": []
        },
        {
            "execution_count": 70,
            "cell_type": "code",
            "metadata": {
                "jupyter": {
                    "source_hidden": false,
                    "outputs_hidden": false
                },
                "nteract": {
                    "transient": {
                        "deleting": false
                    }
                }
            },
            "source": [
                "oea = EdFiOEAChild()   \r\n",
                "oea.set_workspace(workspace)"
            ],
            "outputs": []
        },
        {
            "execution_count": 71,
            "cell_type": "code",
            "metadata": {
                "jupyter": {
                    "source_hidden": false,
                    "outputs_hidden": false
                },
                "nteract": {
                    "transient": {
                        "deleting": false
                    }
                }
            },
            "source": [
                "# swagger_url = swaggerUrl = edfi_api_manager.get_referenced_url('Descriptors')\r\n",
                "oea_utils = schema_gen = OpenAPIUtil(swagger_url)\r\n",
                "oea_utils.create_definitions()\r\n",
                "schemas = schema_gen.create_spark_schemas()"
            ],
            "outputs": []
        },
        {
            "cell_type": "markdown",
            "metadata": {
                "nteract": {
                    "transient": {
                        "deleting": false
                    }
                }
            },
            "source": [
                "### Main Code"
            ],
            "outputs": []
        },
        {
            "execution_count": 77,
            "cell_type": "code",
            "metadata": {
                "jupyter": {
                    "source_hidden": false,
                    "outputs_hidden": false
                },
                "nteract": {
                    "transient": {
                        "deleting": false
                    }
                }
            },
            "source": [
                "from notebookutils import mssparkutils\r\n",
                "import json\r\n",
                "\r\n",
                "swagger_urls = [\r\n",
                "    #\"https://api.edgraph.com/edfi/v5.3/saas/core/metadata/composites/v1/4533604f-bb91-4bd9-aa60-2b49b4208cca/2023/ed-fi/enrollment/swagger.json\",\r\n",
                "    #\"https://api.edgraph.com/edfi/v5.3/saas/core/metadata/data/v3/4533604f-bb91-4bd9-aa60-2b49b4208cca/2023/descriptors/swagger.json\",\r\n",
                "    #\"https://api.edgraph.com/edfi/v5.3/saas/core/metadata/data/v3/4533604f-bb91-4bd9-aa60-2b49b4208cca/2023/resources/swagger.json\"\r\n",
                "    resourcesUrl,\r\n",
                "    descriptorsUrl,\r\n",
                "    enrollmentUrl\r\n",
                "]\r\n",
                "\r\n",
                "# Create or overwrite Metadata.csv\r\n",
                "metadata_path = f'stage1/Transactional/Ed-Fi/{apiVersion}/DistrictId={districtId}/SchoolYear={schoolYear}/metadata-assets/metadata.csv'\r\n",
                "metadata_url = oea.to_url(metadata_path)"
            ],
            "outputs": []
        },
        {
            "execution_count": 78,
            "cell_type": "code",
            "metadata": {
                "jupyter": {
                    "source_hidden": false,
                    "outputs_hidden": false
                },
                "nteract": {
                    "transient": {
                        "deleting": false
                    }
                }
            },
            "source": [
                "definitions = dict()\r\n",
                "mssparkutils.fs.put(metadata_url, 'Entity Name,Attribute Name,Attribute Data Type,Pseudonymization\\n', True)\r\n",
                "\r\n",
                "for url in swagger_urls:\r\n",
                "    logger.info(url)\r\n",
                "    swagger = requests.get(url).json()\r\n",
                "\r\n",
                "    # Build all definitions\r\n",
                "    for definition in swagger['definitions'].keys():\r\n",
                "        key = definition\r\n",
                "        logger.info(key)\r\n",
                "\r\n",
                "        if key not in definitions:\r\n",
                "            definitions[key] = {}\r\n",
                "            for prop in swagger[\"definitions\"][definition][\"properties\"].keys():\r\n",
                "                logger.info(prop, swagger[\"definitions\"][definition][\"properties\"][prop])\r\n",
                "\r\n",
                "                if \"$ref\" in swagger[\"definitions\"][definition][\"properties\"][prop]:\r\n",
                "                    # For now, don't add refs to the definitions.\r\n",
                "                    pass\r\n",
                "                elif prop == \"id\":\r\n",
                "                    definitions[key][prop] = [\"\", prop, swagger[\"definitions\"][definition][\"properties\"][prop][\"type\"], \"hash\"]\r\n",
                "                elif swagger[\"definitions\"][definition][\"properties\"][prop][\"type\"] == \"array\":\r\n",
                "                    definitions[key][prop] = [\"\", prop, \"string\", \"no-op\"]\r\n",
                "                elif swagger[\"definitions\"][definition][\"properties\"][prop][\"type\"] == \"number\":\r\n",
                "                    definitions[key][prop] = [\"\", prop, \"float\", \"no-op\"]\r\n",
                "                else:\r\n",
                "                    definitions[key][prop] = [\"\", prop, swagger[\"definitions\"][definition][\"properties\"][prop][\"type\"], \"no-op\"]\r\n",
                "            logger.info(\"--------------------------------------\")\r\n",
                "\r\n",
                "    # Iterate over the entities by path and write metadata for each entity to file\r\n",
                "    for entity in swagger[\"paths\"].keys():\r\n",
                "        logger.info(entity)\r\n",
                "        entity_split = entity.split(\"/\")\r\n",
                "        entity_key = entity_split[2]\r\n",
                "        logger.info(entity_key)\r\n",
                "        logger.info(swagger[\"paths\"][entity][\"get\"][\"responses\"][\"200\"])\r\n",
                "        rows = []\r\n",
                "\r\n",
                "        for prop in swagger[\"paths\"][entity][\"get\"][\"responses\"][\"200\"]['schema'].keys():\r\n",
                "            if prop == \"$ref\":\r\n",
                "                definition = swagger[\"paths\"][entity][\"get\"][\"responses\"][\"200\"]['schema'][prop].split(\"/\")[-1]\r\n",
                "                logger.info(definitions[definition])\r\n",
                "                for field in definitions[definition]:\r\n",
                "                    rows.append(definitions[definition][field])\r\n",
                "\r\n",
                "        if len(rows) > 0:\r\n",
                "            rows.insert(0, [entity_key, \"\", \"\", \"\"])\r\n",
                "            # Append to Metadata.csv\r\n",
                "            mssparkutils.fs.append(metadata_url, '\\n'.join(','.join(row) for row in rows) + '\\n', True)\r\n",
                "\r\n",
                "        logger.info(\"------------------------------\")\r\n",
                ""
            ],
            "outputs": []
        },
        {
            "cell_type": "markdown",
            "metadata": {
                "nteract": {
                    "transient": {
                        "deleting": false
                    }
                }
            },
            "source": [
                "### Frequency Based ETL Metadata"
            ],
            "outputs": []
        },
        {
            "cell_type": "code",
            "metadata": {
                "jupyter": {
                    "source_hidden": false,
                    "outputs_hidden": false
                },
                "nteract": {
                    "transient": {
                        "deleting": false
                    }
                }
            },
            "source": [
                "exception = None\r\n",
                "entitiesToFetch = \"All\"\r\n",
                "from datetime import datetime\r\n",
                "import math\r\n",
                "\r\n",
                "retry_strategy = Retry(total = 3,\r\n",
                "                       backoff_factor = 1,\r\n",
                "                       status_forcelist = [429, 500, 502, 503, 504],\r\n",
                "                       allowed_methods = [\"HEAD\", \"GET\", \"OPTIONS\", \"POST\", \"DELETE\"])\r\n",
                "try:\r\n",
                "    edfiAPIClient = EdFiClient(workspace = workspace, \r\n",
                "                                    kvName = kvName, #NOTE: Default to None \r\n",
                "                                    moduleName = moduleName, \r\n",
                "                                    authUrl = authUrl, \r\n",
                "                                    dataManagementUrl = dataManagementUrl, \r\n",
                "                                    changeQueriesUrl = changeQueriesUrl, \r\n",
                "                                    dependenciesUrl = dependenciesUrl, \r\n",
                "                                    apiVersion = apiVersion, \r\n",
                "                                    batchLimit = batchLimit, \r\n",
                "                                    minChangeVer = minChangeVer, \r\n",
                "                                    maxChangeVer = maxChangeVer,\r\n",
                "                                    landingDateTimeFormat = \"yyyyMMddHHmmss\",\r\n",
                "                                    schoolYear = schoolYear,\r\n",
                "                                    districtId = districtId,\r\n",
                "                                    kvSecret_clientId = client_id,\r\n",
                "                                    kvSecret_clientSecret = client_secret_id,\r\n",
                "                                    retry_strategy = retry_strategy,\r\n",
                "                                    threadMode = True,\r\n",
                "                                    devMode = True)\r\n",
                "except Exception as e:\r\n",
                "    exception = e\r\n",
                "    logger.error(exception)\r\n",
                "\r\n",
                "    raise(exception)"
            ],
            "outputs": []
        },
        {
            "cell_type": "code",
            "metadata": {
                "jupyter": {
                    "source_hidden": false,
                    "outputs_hidden": false
                },
                "nteract": {
                    "transient": {
                        "deleting": false
                    }
                }
            },
            "source": [
                "entities_info = edfiAPIClient.getEntities()\r\n",
                "entity_frequency_lookup = dict()\r\n",
                "\r\n",
                "entity_frequency_lookup['resource_full_name'] = list()\r\n",
                "entity_frequency_lookup['resource_domain'] = list()\r\n",
                "entity_frequency_lookup['resource_sub_name'] = list()\r\n",
                "entity_frequency_lookup['resource_frequency_code'] = list()\r\n",
                "entity_frequency_lookup['lastrundatetime'] = list()\r\n",
                "entity_frequency_lookup['lastrundate'] = list()\r\n",
                "\r\n",
                "datetime_placeholder = datetime.today() - timedelta(days = 50)"
            ],
            "outputs": []
        },
        {
            "cell_type": "code",
            "metadata": {
                "jupyter": {
                    "source_hidden": false,
                    "outputs_hidden": false
                },
                "nteract": {
                    "transient": {
                        "deleting": false
                    }
                }
            },
            "source": [
                "for entity_info in entities_info:\r\n",
                "    resource_full_name = entity_info['resource']\r\n",
                "    _, resource_domain, resource_sub_name = resource_full_name.split('/')\r\n",
                "    \r\n",
                "    entity_frequency_lookup['resource_full_name'].append(resource_full_name)\r\n",
                "    entity_frequency_lookup['resource_domain'].append(resource_domain)\r\n",
                "    entity_frequency_lookup['resource_sub_name'].append(resource_sub_name)\r\n",
                "    \r\n",
                "    if resource_full_name.lower().endswith('descriptors'):\r\n",
                "        entity_frequency_lookup['resource_frequency_code'].append('descriptor')\r\n",
                "        \r\n",
                "        datetime_oneYearBefore = datetime_placeholder - timedelta(days = 360)\r\n",
                "        entity_frequency_lookup['lastrundatetime'].append(datetime_oneYearBefore)\r\n",
                "        entity_frequency_lookup['lastrundate'].append(datetime_oneYearBefore.date())\r\n",
                "    else:\r\n",
                "        entity_frequency_lookup['resource_frequency_code'].append('high')\r\n",
                "        \r\n",
                "        entity_frequency_lookup['lastrundatetime'].append(datetime_placeholder)\r\n",
                "        entity_frequency_lookup['lastrundate'].append(datetime_placeholder.date())\r\n",
                "\r\n",
                "entity_frequency_lookup['resource_full_name'].append('/ed-fi/schoolYearTypes')\r\n",
                "entity_frequency_lookup['resource_domain'].append('ed-fi')\r\n",
                "entity_frequency_lookup['resource_sub_name'].append('schoolYearTypes')\r\n",
                "entity_frequency_lookup['resource_frequency_code'].append('high') \r\n",
                "entity_frequency_lookup['lastrundatetime'].append(datetime_placeholder)\r\n",
                "entity_frequency_lookup['lastrundate'].append(datetime_placeholder.date())"
            ],
            "outputs": []
        },
        {
            "cell_type": "code",
            "metadata": {
                "jupyter": {
                    "source_hidden": false,
                    "outputs_hidden": false
                },
                "nteract": {
                    "transient": {
                        "deleting": false
                    }
                }
            },
            "source": [
                "destination_path = f'stage1/Transactional/Ed-Fi/{apiVersion}/DistrictId={districtId}/SchoolYear={schoolYear}/metadata-assets/frequency_etl.csv'\r\n",
                "\r\n",
                "entity_frequency_lookup_df = pd.DataFrame(entity_frequency_lookup)\r\n",
                "data_str = entity_frequency_lookup_df.to_csv(index=False) \r\n",
                "destination_url = oea.to_url(destination_path)\r\n",
                "mssparkutils.fs.put(destination_url, data_str, True)  "
            ],
            "outputs": []
        },
        {
            "execution_count": 64,
            "cell_type": "code",
            "metadata": {
                "jupyter": {
                    "source_hidden": false,
                    "outputs_hidden": false
                },
                "nteract": {
                    "transient": {
                        "deleting": false
                    }
                }
            },
            "source": [
                "# metadata = oea.get_metadata_from_path(f'stage1/Transactional/Ed-Fi/{apiVersion}/DistrictId={districtId}/SchoolYear={schoolYear}/metadata-assets')\r\n",
                "# spark_schema = oea.to_spark_schema(metadata['students'])"
            ],
            "outputs": []
        }
    ]
}