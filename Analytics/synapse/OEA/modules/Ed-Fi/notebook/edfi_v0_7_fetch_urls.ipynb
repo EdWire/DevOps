{
    "nbformat": 4,
    "nbformat_minor": 2,
    "metadata": {
        "save_output": true,
        "language_info": {
            "name": "python"
        }
    },
    "cells": [
        {
            "cell_type": "code",
            "source": [
                "import requests\n",
                "\n",
                "class EdFiApiManager:\n",
                "    def __init__(self, api_url, instance_id, school_year):\n",
                "        self.api_url = api_url\n",
                "        self.instance_id = instance_id\n",
                "        self.school_year = school_year\n",
                "        self.api_version = api_url.split('/')[-3] if api_url.split('/')[-3].startswith('v') else api_url.split('/')[-2]\n",
                "        self.base_response = self.fetch_json_from_api(api_url)\n",
                "        self.urls = self.base_response['urls']\n",
                "\n",
                "    def fetch_json_from_api(self, api_url):\n",
                "        try:\n",
                "            response = requests.get(api_url)\n",
                "            response.raise_for_status()\n",
                "            return response.json()\n",
                "        except requests.exceptions.RequestException as e:\n",
                "            print(f\"An error occurred: {e}\")\n",
                "            return None\n",
                "\n",
                "    def replace_url_component(self, url, index, new_component, num_parts):\n",
                "        url_parts = url.split('/') \n",
                "        if len(url_parts) == num_parts:\n",
                "            url_parts[index] = new_component\n",
                "            return \"/\".join(url_parts)\n",
                "        else:\n",
                "            return url\n",
                "\n",
                "    def update_urls(self):\n",
                "        for key, url in self.urls.items():\n",
                "            url = url.replace('{instance}', self.instance_id)\n",
                "            self.urls[key] = url\n",
                "\n",
                "        self.dependencies_url = self.replace_url_component(self.urls['dependencies'], -2, self.school_year, len(self.urls['dependencies'].split('/'))) if not(self.urls['dependencies'].split('/')[-2].startswith('v')) else self.urls['dependencies']\n",
                "        self.openapi_metadata_url = self.replace_url_component(self.urls['openApiMetadata'], -1, self.school_year, len(self.urls['openApiMetadata'].split('/')))\n",
                "        self.data_management_url = self.replace_url_component(self.urls['dataManagementApi'], -1, self.school_year, len(self.urls['dataManagementApi'].split('/')))\n",
                "        self.auth_url = self.urls['oauth']\n",
                "    \n",
                "    def set_other_metadata(self):\n",
                "        self.other_metadata = self.fetch_json_from_api(self.openapi_metadata_url)\n",
                "    \n",
                "    def get_referenced_url(self,url_type):\n",
                "        other_metadata = self.other_metadata\n",
                "        for item in other_metadata:\n",
                "            if item['name'] == url_type:\n",
                "                return item['endpointUri']\n",
                "        return None"
            ],
            "outputs": []
        }
    ]
}