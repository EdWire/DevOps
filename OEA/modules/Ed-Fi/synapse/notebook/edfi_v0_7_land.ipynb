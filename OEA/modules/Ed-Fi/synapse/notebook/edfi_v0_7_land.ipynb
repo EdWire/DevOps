{
    "nbformat": 4,
    "nbformat_minor": 2,
    "metadata": {
        "save_output": true,
        "kernelspec": {
            "name": "synapse_pyspark",
            "display_name": "Synapse PySpark"
        },
        "language_info": {
            "name": "python"
        }
    },
    "cells": [
        {
            "execution_count": 28,
            "cell_type": "code",
            "metadata": {
                "jupyter": {
                    "source_hidden": false,
                    "outputs_hidden": false
                },
                "nteract": {
                    "transient": {
                        "deleting": false
                    }
                }
            },
            "source": [
                "instance = InstanceId = instanceId\r\n",
                "ApiUrl = apiUrl\r\n",
                "SchoolYear = schoolYear\r\n",
                "DistrictId = DistrictID = districtID = districtId\r\n",
                "apiLimit = batchLimit\r\n",
                "prepareEdFiMetaData = prepareEdFiMetadata"
            ],
            "outputs": []
        },
        {
            "cell_type": "markdown",
            "metadata": {
                "nteract": {
                    "transient": {
                        "deleting": false
                    }
                }
            },
            "source": [
                "### URL Initializations"
            ],
            "outputs": []
        },
        {
            "execution_count": 29,
            "cell_type": "code",
            "source": [
                "%run OEA/modules/Ed-Fi/v0.7/src/utilities/edfi_v0_7_fetch_urls"
            ],
            "outputs": []
        },
        {
            "execution_count": 30,
            "cell_type": "code",
            "metadata": {
                "jupyter": {
                    "source_hidden": false,
                    "outputs_hidden": false
                },
                "nteract": {
                    "transient": {
                        "deleting": false
                    }
                }
            },
            "source": [
                "instance_id = instanceId\r\n",
                "school_year = schoolYear\r\n",
                "api_url = apiUrl\r\n",
                "\r\n",
                "edfi_api_manager = EdFiApiManager(api_url, instance_id, school_year)\r\n",
                "edfi_api_manager.update_urls()\r\n",
                "edfi_api_manager.set_other_metadata()\r\n",
                "\r\n",
                "dependenciesUrl = edfi_api_manager.dependencies_url\r\n",
                "openApiMetadataUrl = edfi_api_manager.openapi_metadata_url\r\n",
                "dataManagementUrl = edfi_api_manager.data_management_url\r\n",
                "authUrl = edfi_api_manager.auth_url\r\n",
                "\r\n",
                "changeQueriesUrl = edfi_api_manager.get_referenced_url('Change-Queries')\r\n",
                "changeQueriesUrl = changeQueriesUrl[:-13].replace('/metadata/', '/')\r\n",
                "swagger_url = swaggerUrl = edfi_api_manager.get_referenced_url('Resources')\r\n",
                "\r\n",
                "apiVersion = edfi_api_manager.api_version\r\n",
                "apiVersion = apiVersion[1:] if apiVersion.startswith('v') else apiVersion"
            ],
            "outputs": []
        },
        {
            "cell_type": "markdown",
            "metadata": {
                "nteract": {
                    "transient": {
                        "deleting": false
                    }
                }
            },
            "source": [
                "### OEA Initializations"
            ],
            "outputs": []
        },
        {
            "execution_count": 31,
            "cell_type": "code",
            "metadata": {
                "jupyter": {
                    "outputs_hidden": false,
                    "source_hidden": false
                },
                "nteract": {
                    "transient": {
                        "deleting": false
                    }
                }
            },
            "source": [
                "%run OEA/modules/Ed-Fi/v0.7/src/utilities/edfi_v0_7_edfi_py"
            ],
            "outputs": []
        },
        {
            "execution_count": 32,
            "cell_type": "code",
            "metadata": {
                "jupyter": {
                    "source_hidden": false,
                    "outputs_hidden": false
                },
                "nteract": {
                    "transient": {
                        "deleting": false
                    }
                }
            },
            "source": [
                "oea = EdFiOEAChild()   \r\n",
                "oea.set_workspace(workspace)"
            ],
            "outputs": []
        },
        {
            "cell_type": "markdown",
            "metadata": {
                "nteract": {
                    "transient": {
                        "deleting": false
                    }
                }
            },
            "source": [
                "### Error Logging Initializations"
            ],
            "outputs": []
        },
        {
            "execution_count": 33,
            "cell_type": "code",
            "metadata": {
                "jupyter": {
                    "source_hidden": false,
                    "outputs_hidden": false
                },
                "nteract": {
                    "transient": {
                        "deleting": false
                    }
                }
            },
            "source": [
                "error_logger = ErrorLogging(spark = spark, \r\n",
                "                            oea = oea, \r\n",
                "                            logger = logger)"
            ],
            "outputs": []
        },
        {
            "cell_type": "markdown",
            "metadata": {
                "nteract": {
                    "transient": {
                        "deleting": false
                    }
                }
            },
            "source": [
                "### Main Code"
            ],
            "outputs": []
        },
        {
            "execution_count": 34,
            "cell_type": "code",
            "metadata": {
                "jupyter": {
                    "source_hidden": false,
                    "outputs_hidden": false
                },
                "nteract": {
                    "transient": {
                        "deleting": false
                    }
                }
            },
            "source": [
                "from datetime import datetime\r\n",
                "import math\r\n",
                "source_path = f'stage1/Transactional/Ed-Fi/{apiVersion}/DistrictId={districtId}/SchoolYear={schoolYear}/metadata-assets/frequency_etl.csv'  \r\n",
                "destination_path = source_path #f'stage1/Transactional/Ed-Fi/{apiVersion}/DistrictId={districtId}/SchoolYear={schoolYear}/metadata-assets/frequency_based_etl.csv'  \r\n",
                "logs_path = f\"stage1/Transactional/Ed-Fi/{apiVersion}/DistrictId={districtId}/SchoolYear={schoolYear}/metadata-assets/_frequency_etl_logs/run_logs_{datetime.today().strftime('%Y-%m-%d')}.csv\""
            ],
            "outputs": []
        },
        {
            "execution_count": 35,
            "cell_type": "code",
            "metadata": {
                "jupyter": {
                    "outputs_hidden": false,
                    "source_hidden": false
                },
                "nteract": {
                    "transient": {
                        "deleting": false
                    }
                }
            },
            "source": [
                "exception = None\n",
                "entitiesToFetch = \"All\"\n",
                "from datetime import datetime\n",
                "import math\n",
                "\n",
                "retry_strategy = Retry(total = 3,\n",
                "                       backoff_factor = 1,\n",
                "                       status_forcelist = [429, 500, 502, 503, 504],\n",
                "                       allowed_methods = [\"HEAD\", \"GET\", \"OPTIONS\", \"POST\", \"DELETE\"])\n",
                "try:\n",
                "    edfiAPIClient = EdFiClient(workspace = workspace, \n",
                "                                    kvName = kvName, #NOTE: Default to None \n",
                "                                    moduleName = moduleName, \n",
                "                                    authUrl = authUrl, \n",
                "                                    dataManagementUrl = dataManagementUrl, \n",
                "                                    changeQueriesUrl = changeQueriesUrl, \n",
                "                                    dependenciesUrl = dependenciesUrl, \n",
                "                                    apiVersion = apiVersion, \n",
                "                                    batchLimit = batchLimit, \n",
                "                                    minChangeVer = minChangeVer, \n",
                "                                    maxChangeVer = maxChangeVer,\n",
                "                                    landingDateTimeFormat = landingDateTimeFormat,\n",
                "                                    schoolYear = schoolYear,\n",
                "                                    districtId = districtId,\n",
                "                                    kvSecret_clientId = client_id,\n",
                "                                    kvSecret_clientSecret = client_secret_id,\n",
                "                                    retry_strategy = retry_strategy,\n",
                "                                    threadMode = True,\n",
                "                                    devMode = kvSecret_devMode,\n",
                "                                    error_logger = error_logger)\n",
                "except Exception as e:\n",
                "    exception = e\n",
                "    logger.error(exception)\n",
                "\n",
                "    raise(exception)"
            ],
            "outputs": []
        },
        {
            "execution_count": 36,
            "cell_type": "code",
            "metadata": {
                "jupyter": {
                    "source_hidden": false,
                    "outputs_hidden": false
                },
                "nteract": {
                    "transient": {
                        "deleting": false
                    }
                }
            },
            "source": [
                "processor = EntityFrequencyProcessor(oea = oea, \r\n",
                "                                     filepath = source_path, \r\n",
                "                                     highFrequentDelta = highFrequentDelta,#0.005, \r\n",
                "                                     moderateFrequentDelta = moderateFrequentDelta, #5, \r\n",
                "                                     lowFrequentDelta = lowFrequentDelta, #10, \r\n",
                "                                     descriptorsDelta = descriptorsDelta) #360)"
            ],
            "outputs": []
        },
        {
            "execution_count": 37,
            "cell_type": "code",
            "metadata": {
                "jupyter": {
                    "source_hidden": false,
                    "outputs_hidden": false
                },
                "nteract": {
                    "transient": {
                        "deleting": false
                    }
                }
            },
            "source": [
                "processor.load_lookup_df()\r\n",
                "processor.write_lookup_df(logs_path)\r\n",
                "entities_to_etl, _ = processor.return_entities_to_etl()\r\n",
                "if len(entities_to_etl) != 0:\r\n",
                "    edfiAPIClient.landEntities(entities_to_etl, \r\n",
                "                               debugMode = False, \r\n",
                "                               fetchHistory = fetchHistory,\r\n",
                "                               thread_max_workers = 4,\r\n",
                "                               requestedUrls=dict())\r\n",
                "else:\r\n",
                "    logger.info(\"No entities to be fetched has been specified\")"
            ],
            "outputs": []
        },
        {
            "execution_count": 38,
            "cell_type": "code",
            "metadata": {
                "jupyter": {
                    "source_hidden": false,
                    "outputs_hidden": false
                },
                "nteract": {
                    "transient": {
                        "deleting": false
                    }
                }
            },
            "source": [
                "try:\r\n",
                "    edfiAPIClient.landEntity(resource = '/ed-fi/schoolYearTypes',\r\n",
                "                          minChangeVersion = None,\r\n",
                "                          maxChangeVersion = None, \r\n",
                "                          debugMode = True,\r\n",
                "                          requestedUrls = list())\r\n",
                "except Exception as schoolYearTypesError:\r\n",
                "    logger.exception('[LANDING ENTITY] Landing of schoolYearTypes failed')\r\n",
                "    logger.exception(schoolYearTypesError)\r\n",
                "    raise(schoolYearTypesError)"
            ],
            "outputs": []
        },
        {
            "cell_type": "markdown",
            "metadata": {
                "nteract": {
                    "transient": {
                        "deleting": false
                    }
                }
            },
            "source": [
                "### Writing Logs"
            ],
            "outputs": []
        },
        {
            "execution_count": 39,
            "cell_type": "code",
            "metadata": {
                "jupyter": {
                    "source_hidden": false,
                    "outputs_hidden": false
                },
                "nteract": {
                    "transient": {
                        "deleting": false
                    }
                }
            },
            "source": [
                "if edfiAPIClient.error_logger.entity_logs != []:\r\n",
                "    logger.info('[LANDING ERROR LOGGING] Writing Entity Level Error Logs')\r\n",
                "    df = edfiAPIClient.error_logger.create_spark_df('entity')\r\n",
                "    edfiAPIClient.error_logger.write_logs_to_delta_lake(df = df, \r\n",
                "                                                        log_type = 'entity',\r\n",
                "                                                        destination_url = edfiAPIClient.error_logger.to_logs_url('etl-logs/log_type=entity'))\r\n",
                "    edfiAPIClient.error_logger.add_etl_logs_to_lake_db(db_name = f'ldb_{workspace}_edfi_etl_logs',\r\n",
                "                                                        logs_base_path = 'etl-logs',\r\n",
                "                                                        log_type = 'entity',\r\n",
                "                                                        overwrite = True)"
            ],
            "outputs": []
        },
        {
            "cell_type": "code",
            "metadata": {
                "jupyter": {
                    "source_hidden": false,
                    "outputs_hidden": false
                },
                "nteract": {
                    "transient": {
                        "deleting": false
                    }
                }
            },
            "source": [
                "# %run Dev/Ed-Fi/v0.7/dev_v0_7_EdFi_Ingest"
            ],
            "outputs": []
        },
        {
            "execution_count": 57,
            "cell_type": "code",
            "metadata": {
                "jupyter": {
                    "source_hidden": false,
                    "outputs_hidden": false
                },
                "nteract": {
                    "transient": {
                        "deleting": false
                    }
                }
            },
            "source": [
                "# %run Dev/Ed-Fi/v0.7/dev_v0_7_EdFi_Refine"
            ],
            "outputs": []
        }
    ]
}